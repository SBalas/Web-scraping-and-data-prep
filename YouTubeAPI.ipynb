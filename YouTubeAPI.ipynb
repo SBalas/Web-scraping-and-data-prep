{
  "nbformat": 4,
  "nbformat_minor": 0,
  "metadata": {
    "colab": {
      "provenance": [],
      "authorship_tag": "ABX9TyNfU53jE7PHhJsZVjZMw+YR",
      "include_colab_link": true
    },
    "kernelspec": {
      "name": "python3",
      "display_name": "Python 3"
    },
    "language_info": {
      "name": "python"
    }
  },
  "cells": [
    {
      "cell_type": "markdown",
      "metadata": {
        "id": "view-in-github",
        "colab_type": "text"
      },
      "source": [
        "<a href=\"https://colab.research.google.com/github/SBalas/Web-scraping-and-data-prep/blob/main/YouTubeAPI.ipynb\" target=\"_parent\"><img src=\"https://colab.research.google.com/assets/colab-badge.svg\" alt=\"Open In Colab\"/></a>"
      ]
    },
    {
      "cell_type": "markdown",
      "source": [
        "## Extracting playlist and videos from a YouTube channel\n",
        "\n",
        "- YouTube API source page - https://developers.google.com/youtube/v3/getting-started\n",
        "- Github for Google APIs - https://github.com/googleapis/google-api-python-client\n",
        "- YouTube APIv3 info - https://googleapis.github.io/google-api-python-client/docs/dyn/youtube_v3.html\n"
      ],
      "metadata": {
        "id": "XvwPJeLXF_hR"
      }
    },
    {
      "cell_type": "code",
      "execution_count": 2,
      "metadata": {
        "id": "0dIPCFRQFzk4"
      },
      "outputs": [],
      "source": [
        "import googleapiclient.discovery\n",
        "from IPython.display import JSON\n",
        "import json\n",
        "import pandas as pd"
      ]
    },
    {
      "cell_type": "code",
      "source": [
        "# Kenji Lopez Alt's Youtube channel\n",
        "# https://www.youtube.com/@JKenjiLopezAlt\n",
        "\n",
        "forHandle = '@JKenjiLopezAlt'"
      ],
      "metadata": {
        "id": "Yj5Yd6OWF4xM"
      },
      "execution_count": 42,
      "outputs": []
    },
    {
      "cell_type": "code",
      "source": [
        "# API key stored in google collab secrets\n",
        "from google.colab import userdata\n",
        "api_key = userdata.get('Youtube_api_key')"
      ],
      "metadata": {
        "id": "476ZBzhpHJyS"
      },
      "execution_count": 4,
      "outputs": []
    },
    {
      "cell_type": "code",
      "source": [
        "api_service_name = \"youtube\"\n",
        "api_version = \"v3\"\n",
        "\n",
        "# Get credentials and create an API client\n",
        "youtube = googleapiclient.discovery.build(\n",
        "    api_service_name, api_version, developerKey = api_key)\n",
        "\n",
        "request = youtube.channels().list(\n",
        "    part = \"snippet,contentDetails,statistics\",\n",
        "    forHandle = forHandle\n",
        ")\n",
        "\n",
        "response = request.execute()\n",
        "JSON(response)"
      ],
      "metadata": {
        "colab": {
          "base_uri": "https://localhost:8080/",
          "height": 1000
        },
        "collapsed": true,
        "id": "SSzu053SGLSY",
        "outputId": "6404b20a-84c6-4fe2-8124-06e56fdc33d4"
      },
      "execution_count": 5,
      "outputs": [
        {
          "output_type": "execute_result",
          "data": {
            "text/plain": [
              "<IPython.core.display.JSON object>"
            ],
            "application/json": {
              "kind": "youtube#channelListResponse",
              "etag": "fIx-XXeEyMlw99y363JVVDbl-7g",
              "pageInfo": {
                "totalResults": 1,
                "resultsPerPage": 5
              },
              "items": [
                {
                  "kind": "youtube#channel",
                  "etag": "Ir0B6wKWslMwnUupQUBZ6oGtMLo",
                  "id": "UCqqJQ_cXSat0KIAVfIfKkVA",
                  "snippet": {
                    "title": "J. Kenji López-Alt",
                    "description": "I'm Kenji López-Alt. I'm the author of the James Beard award-winning books The Food Lab and The Wok, a New York Times columnist, and a former restaurant worker. I'm also the author of the best-selling children's book, Every Night is Pizza Night.  Get them anywhere you buy your books, or for signed copies shipped anywhere in the world, order them from Book Larder: https://booklarder.com/search?q=kenji%20lopez-alt\n\nJoin my free Patreon to get full recipes and articles: https://www.patreon.com/kenjilopezalt\n\nI have a podcast! It's called The Recipe with Kenji and Deb and I host it with my friend Deb Perelman of Smitten Kitchen. You can get it here: https://www.therecipepodcast.com/\n\nOn this channel you'll mostly find my cooking videos. For food recommendations and other content (mostly around Seattle), check out my alt channel, @JKenjiLopezMain\n\nWhen I'm not writing books or spending time with my family, I like to play music and explore Seattle.\n",
                    "customUrl": "@jkenjilopezalt",
                    "publishedAt": "2006-07-13T04:59:16Z",
                    "thumbnails": {
                      "default": {
                        "url": "https://yt3.ggpht.com/tEql8Eq4IgP3UNx5v646k5U1QKidegUlZRvS18PyF2WM9YGt770IlxFVRrdDatLKHRCFuv9kfA=s88-c-k-c0x00ffffff-no-rj",
                        "width": 88,
                        "height": 88
                      },
                      "medium": {
                        "url": "https://yt3.ggpht.com/tEql8Eq4IgP3UNx5v646k5U1QKidegUlZRvS18PyF2WM9YGt770IlxFVRrdDatLKHRCFuv9kfA=s240-c-k-c0x00ffffff-no-rj",
                        "width": 240,
                        "height": 240
                      },
                      "high": {
                        "url": "https://yt3.ggpht.com/tEql8Eq4IgP3UNx5v646k5U1QKidegUlZRvS18PyF2WM9YGt770IlxFVRrdDatLKHRCFuv9kfA=s800-c-k-c0x00ffffff-no-rj",
                        "width": 800,
                        "height": 800
                      }
                    },
                    "localized": {
                      "title": "J. Kenji López-Alt",
                      "description": "I'm Kenji López-Alt. I'm the author of the James Beard award-winning books The Food Lab and The Wok, a New York Times columnist, and a former restaurant worker. I'm also the author of the best-selling children's book, Every Night is Pizza Night.  Get them anywhere you buy your books, or for signed copies shipped anywhere in the world, order them from Book Larder: https://booklarder.com/search?q=kenji%20lopez-alt\n\nJoin my free Patreon to get full recipes and articles: https://www.patreon.com/kenjilopezalt\n\nI have a podcast! It's called The Recipe with Kenji and Deb and I host it with my friend Deb Perelman of Smitten Kitchen. You can get it here: https://www.therecipepodcast.com/\n\nOn this channel you'll mostly find my cooking videos. For food recommendations and other content (mostly around Seattle), check out my alt channel, @JKenjiLopezMain\n\nWhen I'm not writing books or spending time with my family, I like to play music and explore Seattle.\n"
                    },
                    "country": "US"
                  },
                  "contentDetails": {
                    "relatedPlaylists": {
                      "likes": "",
                      "uploads": "UUqqJQ_cXSat0KIAVfIfKkVA"
                    }
                  },
                  "statistics": {
                    "viewCount": "258616723",
                    "subscriberCount": "1680000",
                    "hiddenSubscriberCount": false,
                    "videoCount": "609"
                  }
                }
              ]
            }
          },
          "metadata": {
            "application/json": {
              "expanded": false,
              "root": "root"
            }
          },
          "execution_count": 5
        }
      ]
    },
    {
      "cell_type": "code",
      "source": [
        "# This function calls the YouTube channels API based on the forHandle (channel name)\n",
        "# It then extracts relevant info about the channel and returns a dictionary\n",
        "\n",
        "def channel_info(youtube, forHandle):\n",
        "\n",
        "    '''\n",
        "    Takes in the youtube instance and channel handle\n",
        "    Returns a dictionary with info abou the channel\n",
        "    '''\n",
        "\n",
        "    # request the channels info from youtube build service\n",
        "    request = youtube.channels().list(\n",
        "        part = 'ContentDetails, statistics, snippet',\n",
        "        forHandle = forHandle,\n",
        "        maxResults = 50\n",
        "    )\n",
        "\n",
        "    # execute the request\n",
        "    response = request.execute()\n",
        "\n",
        "    # Go through the dictionary of 'response' to get the relevant data\n",
        "    channelName = response['items'][0]['snippet']['title']\n",
        "    channelId = response['items'][0]['id']\n",
        "    viewCount = int(response['items'][0]['statistics']['viewCount'])\n",
        "    subscriberCount = int(response['items'][0]['statistics']['subscriberCount'])\n",
        "    videoCount = int(response['items'][0]['statistics']['videoCount'])\n",
        "\n",
        "    # convert to dictionary\n",
        "    data = {'channelName': channelName,\n",
        "    'channelId': channelId,\n",
        "    'viewCount': viewCount,\n",
        "    'subscriberCount': subscriberCount,\n",
        "    'videoCount': videoCount\n",
        "    }\n",
        "\n",
        "    return data\n"
      ],
      "metadata": {
        "id": "9X63xki5GUCY"
      },
      "execution_count": 16,
      "outputs": []
    },
    {
      "cell_type": "code",
      "source": [
        "channel_data = channel_info(youtube, forHandle)\n",
        "channel_data"
      ],
      "metadata": {
        "colab": {
          "base_uri": "https://localhost:8080/"
        },
        "id": "foKSjswWGchj",
        "outputId": "154a230e-c5c5-4616-bbe1-7a9e06416a72"
      },
      "execution_count": 17,
      "outputs": [
        {
          "output_type": "execute_result",
          "data": {
            "text/plain": [
              "{'channelName': 'J. Kenji López-Alt',\n",
              " 'channelId': 'UCqqJQ_cXSat0KIAVfIfKkVA',\n",
              " 'viewCount': 258616723,\n",
              " 'subscriberCount': 1680000,\n",
              " 'videoCount': 609}"
            ]
          },
          "metadata": {},
          "execution_count": 17
        }
      ]
    },
    {
      "cell_type": "code",
      "source": [
        "channelID = channel_data['channelId']\n",
        "channelID\n"
      ],
      "metadata": {
        "colab": {
          "base_uri": "https://localhost:8080/",
          "height": 35
        },
        "id": "9uHmiGKhG_BT",
        "outputId": "e6cde85a-e892-49fd-ce65-f13891af44a8"
      },
      "execution_count": 18,
      "outputs": [
        {
          "output_type": "execute_result",
          "data": {
            "text/plain": [
              "'UCqqJQ_cXSat0KIAVfIfKkVA'"
            ],
            "application/vnd.google.colaboratory.intrinsic+json": {
              "type": "string"
            }
          },
          "metadata": {},
          "execution_count": 18
        }
      ]
    },
    {
      "cell_type": "code",
      "source": [
        "# Request sent to Playlist API to see the IDs and info about the playlists\n",
        "\n",
        "request = youtube.playlists().list(\n",
        "  part=\"contentDetails, snippet\",\n",
        "  channelId = channelID,\n",
        "  maxResults = 50\n",
        ")\n",
        "\n",
        "response = request.execute()\n",
        "\n",
        "JSON(response)\n",
        "\n"
      ],
      "metadata": {
        "colab": {
          "base_uri": "https://localhost:8080/",
          "height": 1000
        },
        "collapsed": true,
        "id": "I0V_gr-SHIzf",
        "outputId": "1416caaf-3625-4f24-c755-5dc442c79b81"
      },
      "execution_count": 19,
      "outputs": [
        {
          "output_type": "execute_result",
          "data": {
            "text/plain": [
              "<IPython.core.display.JSON object>"
            ],
            "application/json": {
              "kind": "youtube#playlistListResponse",
              "etag": "HOo-JuPvUFgXJuIUNOTpSNKE6E4",
              "pageInfo": {
                "totalResults": 27,
                "resultsPerPage": 50
              },
              "items": [
                {
                  "kind": "youtube#playlist",
                  "etag": "vBXrsiXcIY9ATPrsazEkOd246B0",
                  "id": "PLXonhhg5tUSI7F_F_1TASoAWLfYNc-RUe",
                  "snippet": {
                    "publishedAt": "2025-04-23T07:23:55.526095Z",
                    "channelId": "UCqqJQ_cXSat0KIAVfIfKkVA",
                    "title": "Taste Tests",
                    "description": "Taste Tests of Ingredients and Products",
                    "thumbnails": {
                      "default": {
                        "url": "https://i.ytimg.com/vi/zIPZQ6yBA2c/default.jpg",
                        "width": 120,
                        "height": 90
                      },
                      "medium": {
                        "url": "https://i.ytimg.com/vi/zIPZQ6yBA2c/mqdefault.jpg",
                        "width": 320,
                        "height": 180
                      },
                      "high": {
                        "url": "https://i.ytimg.com/vi/zIPZQ6yBA2c/hqdefault.jpg",
                        "width": 480,
                        "height": 360
                      },
                      "standard": {
                        "url": "https://i.ytimg.com/vi/zIPZQ6yBA2c/sddefault.jpg",
                        "width": 640,
                        "height": 480
                      },
                      "maxres": {
                        "url": "https://i.ytimg.com/vi/zIPZQ6yBA2c/maxresdefault.jpg",
                        "width": 1280,
                        "height": 720
                      }
                    },
                    "channelTitle": "J. Kenji López-Alt",
                    "localized": {
                      "title": "Taste Tests",
                      "description": "Taste Tests of Ingredients and Products"
                    }
                  },
                  "contentDetails": {
                    "itemCount": 2
                  }
                },
                {
                  "kind": "youtube#playlist",
                  "etag": "DeFariFCgnHa3VjNA7yMzBGiUEs",
                  "id": "PLXonhhg5tUSKJZhLDZ-FnxgQPFv6uJVEh",
                  "snippet": {
                    "publishedAt": "2025-02-07T09:50:44.793459Z",
                    "channelId": "UCqqJQ_cXSat0KIAVfIfKkVA",
                    "title": "The Food Lab",
                    "description": "Recipes from Serious Eats and my book, The Food Lab. Revisited and revised.",
                    "thumbnails": {
                      "default": {
                        "url": "https://i.ytimg.com/vi/2Sz40WqBg8E/default.jpg",
                        "width": 120,
                        "height": 90
                      },
                      "medium": {
                        "url": "https://i.ytimg.com/vi/2Sz40WqBg8E/mqdefault.jpg",
                        "width": 320,
                        "height": 180
                      },
                      "high": {
                        "url": "https://i.ytimg.com/vi/2Sz40WqBg8E/hqdefault.jpg",
                        "width": 480,
                        "height": 360
                      },
                      "standard": {
                        "url": "https://i.ytimg.com/vi/2Sz40WqBg8E/sddefault.jpg",
                        "width": 640,
                        "height": 480
                      },
                      "maxres": {
                        "url": "https://i.ytimg.com/vi/2Sz40WqBg8E/maxresdefault.jpg",
                        "width": 1280,
                        "height": 720
                      }
                    },
                    "channelTitle": "J. Kenji López-Alt",
                    "localized": {
                      "title": "The Food Lab",
                      "description": "Recipes from Serious Eats and my book, The Food Lab. Revisited and revised."
                    }
                  },
                  "contentDetails": {
                    "itemCount": 4
                  }
                },
                {
                  "kind": "youtube#playlist",
                  "etag": "00RKUGQu8KAuFzPPbVwNUkktecs",
                  "id": "PLXonhhg5tUSLzIskt_tXUBp4cMstyfMrq",
                  "snippet": {
                    "publishedAt": "2025-01-26T04:09:23.624979Z",
                    "channelId": "UCqqJQ_cXSat0KIAVfIfKkVA",
                    "title": "All the Teriyaki in Seattle",
                    "description": "",
                    "thumbnails": {
                      "default": {
                        "url": "https://i.ytimg.com/vi/_UrxR8d3EkQ/default.jpg",
                        "width": 120,
                        "height": 90
                      },
                      "medium": {
                        "url": "https://i.ytimg.com/vi/_UrxR8d3EkQ/mqdefault.jpg",
                        "width": 320,
                        "height": 180
                      },
                      "high": {
                        "url": "https://i.ytimg.com/vi/_UrxR8d3EkQ/hqdefault.jpg",
                        "width": 480,
                        "height": 360
                      },
                      "standard": {
                        "url": "https://i.ytimg.com/vi/_UrxR8d3EkQ/sddefault.jpg",
                        "width": 640,
                        "height": 480
                      },
                      "maxres": {
                        "url": "https://i.ytimg.com/vi/_UrxR8d3EkQ/maxresdefault.jpg",
                        "width": 1280,
                        "height": 720
                      }
                    },
                    "channelTitle": "J. Kenji López-Alt",
                    "localized": {
                      "title": "All the Teriyaki in Seattle",
                      "description": ""
                    }
                  },
                  "contentDetails": {
                    "itemCount": 28
                  }
                },
                {
                  "kind": "youtube#playlist",
                  "etag": "FeuI8sB6JXe9ny2Zs-dlHJeMIqI",
                  "id": "PLXonhhg5tUSK_sOzqUkiJz8ACDeB85HgU",
                  "snippet": {
                    "publishedAt": "2025-01-26T04:08:19.269378Z",
                    "channelId": "UCqqJQ_cXSat0KIAVfIfKkVA",
                    "title": "Kenji Lopez-Main",
                    "description": "",
                    "thumbnails": {
                      "default": {
                        "url": "https://i.ytimg.com/vi/kmIbyd9pAhI/default.jpg",
                        "width": 120,
                        "height": 90
                      },
                      "medium": {
                        "url": "https://i.ytimg.com/vi/kmIbyd9pAhI/mqdefault.jpg",
                        "width": 320,
                        "height": 180
                      },
                      "high": {
                        "url": "https://i.ytimg.com/vi/kmIbyd9pAhI/hqdefault.jpg",
                        "width": 480,
                        "height": 360
                      },
                      "standard": {
                        "url": "https://i.ytimg.com/vi/kmIbyd9pAhI/sddefault.jpg",
                        "width": 640,
                        "height": 480
                      },
                      "maxres": {
                        "url": "https://i.ytimg.com/vi/kmIbyd9pAhI/maxresdefault.jpg",
                        "width": 1280,
                        "height": 720
                      }
                    },
                    "channelTitle": "J. Kenji López-Alt",
                    "localized": {
                      "title": "Kenji Lopez-Main",
                      "description": ""
                    }
                  },
                  "contentDetails": {
                    "itemCount": 48
                  }
                },
                {
                  "kind": "youtube#playlist",
                  "etag": "vhkXCnSdGXM5QSRcDL2yX2Qa-X0",
                  "id": "PLXonhhg5tUSJ1okkBuKY3CKIov-vx9td6",
                  "snippet": {
                    "publishedAt": "2024-05-08T07:44:58.122589Z",
                    "channelId": "UCqqJQ_cXSat0KIAVfIfKkVA",
                    "title": "Ask Kenji",
                    "description": "Videos exploring common cooking questions",
                    "thumbnails": {
                      "default": {
                        "url": "https://i.ytimg.com/vi/0tbqDOKkTCw/default.jpg",
                        "width": 120,
                        "height": 90
                      },
                      "medium": {
                        "url": "https://i.ytimg.com/vi/0tbqDOKkTCw/mqdefault.jpg",
                        "width": 320,
                        "height": 180
                      },
                      "high": {
                        "url": "https://i.ytimg.com/vi/0tbqDOKkTCw/hqdefault.jpg",
                        "width": 480,
                        "height": 360
                      },
                      "standard": {
                        "url": "https://i.ytimg.com/vi/0tbqDOKkTCw/sddefault.jpg",
                        "width": 640,
                        "height": 480
                      },
                      "maxres": {
                        "url": "https://i.ytimg.com/vi/0tbqDOKkTCw/maxresdefault.jpg",
                        "width": 1280,
                        "height": 720
                      }
                    },
                    "channelTitle": "J. Kenji López-Alt",
                    "localized": {
                      "title": "Ask Kenji",
                      "description": "Videos exploring common cooking questions"
                    }
                  },
                  "contentDetails": {
                    "itemCount": 5
                  }
                },
                {
                  "kind": "youtube#playlist",
                  "etag": "-Yt1d2X21pXNl5rQdmvynYCfyW4",
                  "id": "PLXonhhg5tUSKSN7D04ComGnHUI1zthRHl",
                  "snippet": {
                    "publishedAt": "2024-04-01T15:01:49.932549Z",
                    "channelId": "UCqqJQ_cXSat0KIAVfIfKkVA",
                    "title": "Experiments",
                    "description": "",
                    "thumbnails": {
                      "default": {
                        "url": "https://i.ytimg.com/vi/EsppymX5k60/default.jpg",
                        "width": 120,
                        "height": 90
                      },
                      "medium": {
                        "url": "https://i.ytimg.com/vi/EsppymX5k60/mqdefault.jpg",
                        "width": 320,
                        "height": 180
                      },
                      "high": {
                        "url": "https://i.ytimg.com/vi/EsppymX5k60/hqdefault.jpg",
                        "width": 480,
                        "height": 360
                      },
                      "standard": {
                        "url": "https://i.ytimg.com/vi/EsppymX5k60/sddefault.jpg",
                        "width": 640,
                        "height": 480
                      },
                      "maxres": {
                        "url": "https://i.ytimg.com/vi/EsppymX5k60/maxresdefault.jpg",
                        "width": 1280,
                        "height": 720
                      }
                    },
                    "channelTitle": "J. Kenji López-Alt",
                    "localized": {
                      "title": "Experiments",
                      "description": ""
                    }
                  },
                  "contentDetails": {
                    "itemCount": 1
                  }
                },
                {
                  "kind": "youtube#playlist",
                  "etag": "hLpQNcasb6kjWPvZqIuZ5l7T7ag",
                  "id": "PLXonhhg5tUSKnGuurp0wPSgO_2QgoY2zD",
                  "snippet": {
                    "publishedAt": "2024-02-26T09:59:03.064633Z",
                    "channelId": "UCqqJQ_cXSat0KIAVfIfKkVA",
                    "title": "The Recipe, with Kenji and Deb",
                    "description": "Videos associated with me and Deb Perelman's podcast, The Recipe",
                    "thumbnails": {
                      "default": {
                        "url": "https://i.ytimg.com/vi/4_GeqmWPxEE/default.jpg",
                        "width": 120,
                        "height": 90
                      },
                      "medium": {
                        "url": "https://i.ytimg.com/vi/4_GeqmWPxEE/mqdefault.jpg",
                        "width": 320,
                        "height": 180
                      },
                      "high": {
                        "url": "https://i.ytimg.com/vi/4_GeqmWPxEE/hqdefault.jpg",
                        "width": 480,
                        "height": 360
                      },
                      "standard": {
                        "url": "https://i.ytimg.com/vi/4_GeqmWPxEE/sddefault.jpg",
                        "width": 640,
                        "height": 480
                      },
                      "maxres": {
                        "url": "https://i.ytimg.com/vi/4_GeqmWPxEE/maxresdefault.jpg",
                        "width": 1280,
                        "height": 720
                      }
                    },
                    "channelTitle": "J. Kenji López-Alt",
                    "localized": {
                      "title": "The Recipe, with Kenji and Deb",
                      "description": "Videos associated with me and Deb Perelman's podcast, The Recipe"
                    }
                  },
                  "contentDetails": {
                    "itemCount": 4
                  }
                },
                {
                  "kind": "youtube#playlist",
                  "etag": "ybjhYIc9Nbl0uVpsr_XuzooEtXU",
                  "id": "PLXonhhg5tUSL2SW-L0qZO44rL-GBsyt1h",
                  "snippet": {
                    "publishedAt": "2024-02-11T09:22:27.21974Z",
                    "channelId": "UCqqJQ_cXSat0KIAVfIfKkVA",
                    "title": "Kenji Plays",
                    "description": "This is my gaming playlist.",
                    "thumbnails": {
                      "default": {
                        "url": "https://i.ytimg.com/vi/eTPjruGL-Lo/default.jpg",
                        "width": 120,
                        "height": 90
                      },
                      "medium": {
                        "url": "https://i.ytimg.com/vi/eTPjruGL-Lo/mqdefault.jpg",
                        "width": 320,
                        "height": 180
                      },
                      "high": {
                        "url": "https://i.ytimg.com/vi/eTPjruGL-Lo/hqdefault.jpg",
                        "width": 480,
                        "height": 360
                      },
                      "standard": {
                        "url": "https://i.ytimg.com/vi/eTPjruGL-Lo/sddefault.jpg",
                        "width": 640,
                        "height": 480
                      },
                      "maxres": {
                        "url": "https://i.ytimg.com/vi/eTPjruGL-Lo/maxresdefault.jpg",
                        "width": 1280,
                        "height": 720
                      }
                    },
                    "channelTitle": "J. Kenji López-Alt",
                    "localized": {
                      "title": "Kenji Plays",
                      "description": "This is my gaming playlist."
                    }
                  },
                  "contentDetails": {
                    "itemCount": 1
                  }
                },
                {
                  "kind": "youtube#playlist",
                  "etag": "Lsg8-51JXQiXQvZz8UTiJivVTSU",
                  "id": "PLXonhhg5tUSJYKMMCNfZCKugerw6D42c_",
                  "snippet": {
                    "publishedAt": "2023-10-09T08:13:08.130689Z",
                    "channelId": "UCqqJQ_cXSat0KIAVfIfKkVA",
                    "title": "Quick Cooking",
                    "description": "Quick videos shot while I'm making dinner that show how fast cooking can go if you get the prep done ahead.",
                    "thumbnails": {
                      "default": {
                        "url": "https://i.ytimg.com/vi/eIURv1hTz-0/default.jpg",
                        "width": 120,
                        "height": 90
                      },
                      "medium": {
                        "url": "https://i.ytimg.com/vi/eIURv1hTz-0/mqdefault.jpg",
                        "width": 320,
                        "height": 180
                      },
                      "high": {
                        "url": "https://i.ytimg.com/vi/eIURv1hTz-0/hqdefault.jpg",
                        "width": 480,
                        "height": 360
                      },
                      "standard": {
                        "url": "https://i.ytimg.com/vi/eIURv1hTz-0/sddefault.jpg",
                        "width": 640,
                        "height": 480
                      },
                      "maxres": {
                        "url": "https://i.ytimg.com/vi/eIURv1hTz-0/maxresdefault.jpg",
                        "width": 1280,
                        "height": 720
                      }
                    },
                    "channelTitle": "J. Kenji López-Alt",
                    "localized": {
                      "title": "Quick Cooking",
                      "description": "Quick videos shot while I'm making dinner that show how fast cooking can go if you get the prep done ahead."
                    }
                  },
                  "contentDetails": {
                    "itemCount": 7
                  }
                },
                {
                  "kind": "youtube#playlist",
                  "etag": "UxhhzbDt6EjuetkW9zrryl5dJjQ",
                  "id": "PLXonhhg5tUSKOCmSKZKzcnPOutjIPL5Do",
                  "snippet": {
                    "publishedAt": "2023-05-08T17:29:44.728712Z",
                    "channelId": "UCqqJQ_cXSat0KIAVfIfKkVA",
                    "title": "Viral Recipe Reviews",
                    "description": "I cook promising-looking viral recipes and talk about them.",
                    "thumbnails": {
                      "default": {
                        "url": "https://i.ytimg.com/vi/byv5aGd62RQ/default.jpg",
                        "width": 120,
                        "height": 90
                      },
                      "medium": {
                        "url": "https://i.ytimg.com/vi/byv5aGd62RQ/mqdefault.jpg",
                        "width": 320,
                        "height": 180
                      },
                      "high": {
                        "url": "https://i.ytimg.com/vi/byv5aGd62RQ/hqdefault.jpg",
                        "width": 480,
                        "height": 360
                      },
                      "standard": {
                        "url": "https://i.ytimg.com/vi/byv5aGd62RQ/sddefault.jpg",
                        "width": 640,
                        "height": 480
                      },
                      "maxres": {
                        "url": "https://i.ytimg.com/vi/byv5aGd62RQ/maxresdefault.jpg",
                        "width": 1280,
                        "height": 720
                      }
                    },
                    "channelTitle": "J. Kenji López-Alt",
                    "localized": {
                      "title": "Viral Recipe Reviews",
                      "description": "I cook promising-looking viral recipes and talk about them."
                    }
                  },
                  "contentDetails": {
                    "itemCount": 1
                  }
                },
                {
                  "kind": "youtube#playlist",
                  "etag": "FL3p8CG2szDUUzxCTAWLVaYOXBw",
                  "id": "PLXonhhg5tUSK7OlSDiEyqkn_47NXSWGeS",
                  "snippet": {
                    "publishedAt": "2022-12-05T19:32:47.065051Z",
                    "channelId": "UCqqJQ_cXSat0KIAVfIfKkVA",
                    "title": "Leftover Pulled Pork",
                    "description": "",
                    "thumbnails": {
                      "default": {
                        "url": "https://i.ytimg.com/vi/-07gtGrdeyE/default.jpg",
                        "width": 120,
                        "height": 90
                      },
                      "medium": {
                        "url": "https://i.ytimg.com/vi/-07gtGrdeyE/mqdefault.jpg",
                        "width": 320,
                        "height": 180
                      },
                      "high": {
                        "url": "https://i.ytimg.com/vi/-07gtGrdeyE/hqdefault.jpg",
                        "width": 480,
                        "height": 360
                      },
                      "standard": {
                        "url": "https://i.ytimg.com/vi/-07gtGrdeyE/sddefault.jpg",
                        "width": 640,
                        "height": 480
                      },
                      "maxres": {
                        "url": "https://i.ytimg.com/vi/-07gtGrdeyE/maxresdefault.jpg",
                        "width": 1280,
                        "height": 720
                      }
                    },
                    "channelTitle": "J. Kenji López-Alt",
                    "localized": {
                      "title": "Leftover Pulled Pork",
                      "description": ""
                    }
                  },
                  "contentDetails": {
                    "itemCount": 6
                  }
                },
                {
                  "kind": "youtube#playlist",
                  "etag": "VoZCxL8qHMZb0X_qvCrxJg5BMKk",
                  "id": "PLXonhhg5tUSI6q-In5StCtD3xr0lfBj55",
                  "snippet": {
                    "publishedAt": "2022-02-15T06:00:35.409536Z",
                    "channelId": "UCqqJQ_cXSat0KIAVfIfKkVA",
                    "title": "The Wok: Recipes and Techniques",
                    "description": "",
                    "thumbnails": {
                      "default": {
                        "url": "https://i.ytimg.com/vi/nYVLP9IsDM4/default.jpg",
                        "width": 120,
                        "height": 90
                      },
                      "medium": {
                        "url": "https://i.ytimg.com/vi/nYVLP9IsDM4/mqdefault.jpg",
                        "width": 320,
                        "height": 180
                      },
                      "high": {
                        "url": "https://i.ytimg.com/vi/nYVLP9IsDM4/hqdefault.jpg",
                        "width": 480,
                        "height": 360
                      },
                      "standard": {
                        "url": "https://i.ytimg.com/vi/nYVLP9IsDM4/sddefault.jpg",
                        "width": 640,
                        "height": 480
                      },
                      "maxres": {
                        "url": "https://i.ytimg.com/vi/nYVLP9IsDM4/maxresdefault.jpg",
                        "width": 1280,
                        "height": 720
                      }
                    },
                    "channelTitle": "J. Kenji López-Alt",
                    "localized": {
                      "title": "The Wok: Recipes and Techniques",
                      "description": ""
                    }
                  },
                  "contentDetails": {
                    "itemCount": 36
                  }
                },
                {
                  "kind": "youtube#playlist",
                  "etag": "5J3pLJPJMqyAjrXgEbsJBhZSzyE",
                  "id": "PLXonhhg5tUSIl44pT_pW1DgJhhhDZhc7d",
                  "snippet": {
                    "publishedAt": "2021-01-14T20:37:19.387575Z",
                    "channelId": "UCqqJQ_cXSat0KIAVfIfKkVA",
                    "title": "Food Photography",
                    "description": "",
                    "thumbnails": {
                      "default": {
                        "url": "https://i.ytimg.com/vi/A_VRJtAZVJI/default.jpg",
                        "width": 120,
                        "height": 90
                      },
                      "medium": {
                        "url": "https://i.ytimg.com/vi/A_VRJtAZVJI/mqdefault.jpg",
                        "width": 320,
                        "height": 180
                      },
                      "high": {
                        "url": "https://i.ytimg.com/vi/A_VRJtAZVJI/hqdefault.jpg",
                        "width": 480,
                        "height": 360
                      },
                      "standard": {
                        "url": "https://i.ytimg.com/vi/A_VRJtAZVJI/sddefault.jpg",
                        "width": 640,
                        "height": 480
                      },
                      "maxres": {
                        "url": "https://i.ytimg.com/vi/A_VRJtAZVJI/maxresdefault.jpg",
                        "width": 1280,
                        "height": 720
                      }
                    },
                    "channelTitle": "J. Kenji López-Alt",
                    "localized": {
                      "title": "Food Photography",
                      "description": ""
                    }
                  },
                  "contentDetails": {
                    "itemCount": 3
                  }
                },
                {
                  "kind": "youtube#playlist",
                  "etag": "xrqE_txh-qWZejEaJ6ltgwT-DSc",
                  "id": "PLXonhhg5tUSJYbsuOFfcNI7LgbCSrEH38",
                  "snippet": {
                    "publishedAt": "2020-09-23T22:31:56.333745Z",
                    "channelId": "UCqqJQ_cXSat0KIAVfIfKkVA",
                    "title": "Lunch With Kenji",
                    "description": "",
                    "thumbnails": {
                      "default": {
                        "url": "https://i.ytimg.com/vi/tYDy1a7HPaM/default.jpg",
                        "width": 120,
                        "height": 90
                      },
                      "medium": {
                        "url": "https://i.ytimg.com/vi/tYDy1a7HPaM/mqdefault.jpg",
                        "width": 320,
                        "height": 180
                      },
                      "high": {
                        "url": "https://i.ytimg.com/vi/tYDy1a7HPaM/hqdefault.jpg",
                        "width": 480,
                        "height": 360
                      },
                      "standard": {
                        "url": "https://i.ytimg.com/vi/tYDy1a7HPaM/sddefault.jpg",
                        "width": 640,
                        "height": 480
                      },
                      "maxres": {
                        "url": "https://i.ytimg.com/vi/tYDy1a7HPaM/maxresdefault.jpg",
                        "width": 1280,
                        "height": 720
                      }
                    },
                    "channelTitle": "J. Kenji López-Alt",
                    "localized": {
                      "title": "Lunch With Kenji",
                      "description": ""
                    }
                  },
                  "contentDetails": {
                    "itemCount": 13
                  }
                },
                {
                  "kind": "youtube#playlist",
                  "etag": "MdBzGiKja8VdMfqMvc6Nstil_aU",
                  "id": "PLXonhhg5tUSICRE99VKwT0NRWQ1AmFQvg",
                  "snippet": {
                    "publishedAt": "2020-05-09T04:15:09.11811Z",
                    "channelId": "UCqqJQ_cXSat0KIAVfIfKkVA",
                    "title": "Kenji's Cooking Show Live",
                    "description": "",
                    "thumbnails": {
                      "default": {
                        "url": "https://i.ytimg.com/vi/8Pw4murTjgY/default.jpg",
                        "width": 120,
                        "height": 90
                      },
                      "medium": {
                        "url": "https://i.ytimg.com/vi/8Pw4murTjgY/mqdefault.jpg",
                        "width": 320,
                        "height": 180
                      },
                      "high": {
                        "url": "https://i.ytimg.com/vi/8Pw4murTjgY/hqdefault.jpg",
                        "width": 480,
                        "height": 360
                      },
                      "standard": {
                        "url": "https://i.ytimg.com/vi/8Pw4murTjgY/sddefault.jpg",
                        "width": 640,
                        "height": 480
                      },
                      "maxres": {
                        "url": "https://i.ytimg.com/vi/8Pw4murTjgY/maxresdefault.jpg",
                        "width": 1280,
                        "height": 720
                      }
                    },
                    "channelTitle": "J. Kenji López-Alt",
                    "localized": {
                      "title": "Kenji's Cooking Show Live",
                      "description": ""
                    }
                  },
                  "contentDetails": {
                    "itemCount": 11
                  }
                },
                {
                  "kind": "youtube#playlist",
                  "etag": "h6z6lV_7OlAYvGnTs8UcjkLQ5M0",
                  "id": "PLXonhhg5tUSLyoNv_972NmmfdBfoT4WEo",
                  "snippet": {
                    "publishedAt": "2020-05-03T04:41:42.022136Z",
                    "channelId": "UCqqJQ_cXSat0KIAVfIfKkVA",
                    "title": "Equipment Reviews",
                    "description": "",
                    "thumbnails": {
                      "default": {
                        "url": "https://i.ytimg.com/vi/WDK762aVaMI/default.jpg",
                        "width": 120,
                        "height": 90
                      },
                      "medium": {
                        "url": "https://i.ytimg.com/vi/WDK762aVaMI/mqdefault.jpg",
                        "width": 320,
                        "height": 180
                      },
                      "high": {
                        "url": "https://i.ytimg.com/vi/WDK762aVaMI/hqdefault.jpg",
                        "width": 480,
                        "height": 360
                      },
                      "standard": {
                        "url": "https://i.ytimg.com/vi/WDK762aVaMI/sddefault.jpg",
                        "width": 640,
                        "height": 480
                      },
                      "maxres": {
                        "url": "https://i.ytimg.com/vi/WDK762aVaMI/maxresdefault.jpg",
                        "width": 1280,
                        "height": 720
                      }
                    },
                    "channelTitle": "J. Kenji López-Alt",
                    "localized": {
                      "title": "Equipment Reviews",
                      "description": ""
                    }
                  },
                  "contentDetails": {
                    "itemCount": 13
                  }
                },
                {
                  "kind": "youtube#playlist",
                  "etag": "oqRFElJJIT6oCTZ-dCx1OKPgRac",
                  "id": "PLXonhhg5tUSJvVvHMLsXJG0TbSNmk7j-_",
                  "snippet": {
                    "publishedAt": "2020-04-08T23:56:44.263374Z",
                    "channelId": "UCqqJQ_cXSat0KIAVfIfKkVA",
                    "title": "Late Night POV Cooking",
                    "description": "",
                    "thumbnails": {
                      "default": {
                        "url": "https://i.ytimg.com/vi/hupQMhTiLys/default.jpg",
                        "width": 120,
                        "height": 90
                      },
                      "medium": {
                        "url": "https://i.ytimg.com/vi/hupQMhTiLys/mqdefault.jpg",
                        "width": 320,
                        "height": 180
                      },
                      "high": {
                        "url": "https://i.ytimg.com/vi/hupQMhTiLys/hqdefault.jpg",
                        "width": 480,
                        "height": 360
                      },
                      "standard": {
                        "url": "https://i.ytimg.com/vi/hupQMhTiLys/sddefault.jpg",
                        "width": 640,
                        "height": 480
                      },
                      "maxres": {
                        "url": "https://i.ytimg.com/vi/hupQMhTiLys/maxresdefault.jpg",
                        "width": 1280,
                        "height": 720
                      }
                    },
                    "channelTitle": "J. Kenji López-Alt",
                    "localized": {
                      "title": "Late Night POV Cooking",
                      "description": ""
                    }
                  },
                  "contentDetails": {
                    "itemCount": 64
                  }
                },
                {
                  "kind": "youtube#playlist",
                  "etag": "qU2AypTNPmxqfw2Gw9metQryIeg",
                  "id": "PLXonhhg5tUSJuH6YK5UNOoT_I8TC5Sx_h",
                  "snippet": {
                    "publishedAt": "2020-04-06T21:46:46.797816Z",
                    "channelId": "UCqqJQ_cXSat0KIAVfIfKkVA",
                    "title": "Food Lab Basics",
                    "description": "",
                    "thumbnails": {
                      "default": {
                        "url": "https://i.ytimg.com/vi/0SxlESaak_Q/default.jpg",
                        "width": 120,
                        "height": 90
                      },
                      "medium": {
                        "url": "https://i.ytimg.com/vi/0SxlESaak_Q/mqdefault.jpg",
                        "width": 320,
                        "height": 180
                      },
                      "high": {
                        "url": "https://i.ytimg.com/vi/0SxlESaak_Q/hqdefault.jpg",
                        "width": 480,
                        "height": 360
                      },
                      "standard": {
                        "url": "https://i.ytimg.com/vi/0SxlESaak_Q/sddefault.jpg",
                        "width": 640,
                        "height": 480
                      },
                      "maxres": {
                        "url": "https://i.ytimg.com/vi/0SxlESaak_Q/maxresdefault.jpg",
                        "width": 1280,
                        "height": 720
                      }
                    },
                    "channelTitle": "J. Kenji López-Alt",
                    "localized": {
                      "title": "Food Lab Basics",
                      "description": ""
                    }
                  },
                  "contentDetails": {
                    "itemCount": 53
                  }
                },
                {
                  "kind": "youtube#playlist",
                  "etag": "KgsA4Qf7MkApP_B75kBS2TtlE9U",
                  "id": "PLXonhhg5tUSI85nEAOUOaO-1EoCWuPPR6",
                  "snippet": {
                    "publishedAt": "2020-02-27T20:52:47.857781Z",
                    "channelId": "UCqqJQ_cXSat0KIAVfIfKkVA",
                    "title": "Wursthall Behind the Scenes",
                    "description": "",
                    "thumbnails": {
                      "default": {
                        "url": "https://i.ytimg.com/vi/Wwgn5k_TzKM/default.jpg",
                        "width": 120,
                        "height": 90
                      },
                      "medium": {
                        "url": "https://i.ytimg.com/vi/Wwgn5k_TzKM/mqdefault.jpg",
                        "width": 320,
                        "height": 180
                      },
                      "high": {
                        "url": "https://i.ytimg.com/vi/Wwgn5k_TzKM/hqdefault.jpg",
                        "width": 480,
                        "height": 360
                      },
                      "standard": {
                        "url": "https://i.ytimg.com/vi/Wwgn5k_TzKM/sddefault.jpg",
                        "width": 640,
                        "height": 480
                      },
                      "maxres": {
                        "url": "https://i.ytimg.com/vi/Wwgn5k_TzKM/maxresdefault.jpg",
                        "width": 1280,
                        "height": 720
                      }
                    },
                    "channelTitle": "J. Kenji López-Alt",
                    "localized": {
                      "title": "Wursthall Behind the Scenes",
                      "description": ""
                    }
                  },
                  "contentDetails": {
                    "itemCount": 10
                  }
                },
                {
                  "kind": "youtube#playlist",
                  "etag": "HlieNSP6mIxgdUIqQ14aZSnLUwc",
                  "id": "PLXonhhg5tUSLOFkX2SsqrYB5CPasqaZQl",
                  "snippet": {
                    "publishedAt": "2019-09-17T18:25:22.484257Z",
                    "channelId": "UCqqJQ_cXSat0KIAVfIfKkVA",
                    "title": "The Food Lab Miniseries",
                    "description": "",
                    "thumbnails": {
                      "default": {
                        "url": "https://i.ytimg.com/vi/_PVNG8KkNPk/default.jpg",
                        "width": 120,
                        "height": 90
                      },
                      "medium": {
                        "url": "https://i.ytimg.com/vi/_PVNG8KkNPk/mqdefault.jpg",
                        "width": 320,
                        "height": 180
                      },
                      "high": {
                        "url": "https://i.ytimg.com/vi/_PVNG8KkNPk/hqdefault.jpg",
                        "width": 480,
                        "height": 360
                      },
                      "standard": {
                        "url": "https://i.ytimg.com/vi/_PVNG8KkNPk/sddefault.jpg",
                        "width": 640,
                        "height": 480
                      },
                      "maxres": {
                        "url": "https://i.ytimg.com/vi/_PVNG8KkNPk/maxresdefault.jpg",
                        "width": 1280,
                        "height": 720
                      }
                    },
                    "channelTitle": "J. Kenji López-Alt",
                    "localized": {
                      "title": "The Food Lab Miniseries",
                      "description": ""
                    }
                  },
                  "contentDetails": {
                    "itemCount": 1
                  }
                },
                {
                  "kind": "youtube#playlist",
                  "etag": "I-w2VrTbrXoRWHJZCwbAmol-xWI",
                  "id": "PLXonhhg5tUSKX9LWuxUMPgZmWe0M2KVzh",
                  "snippet": {
                    "publishedAt": "2019-06-01T21:40:35.95301Z",
                    "channelId": "UCqqJQ_cXSat0KIAVfIfKkVA",
                    "title": "Things Worth Eating",
                    "description": "",
                    "thumbnails": {
                      "default": {
                        "url": "https://i.ytimg.com/vi/297vr0vJipw/default.jpg",
                        "width": 120,
                        "height": 90
                      },
                      "medium": {
                        "url": "https://i.ytimg.com/vi/297vr0vJipw/mqdefault.jpg",
                        "width": 320,
                        "height": 180
                      },
                      "high": {
                        "url": "https://i.ytimg.com/vi/297vr0vJipw/hqdefault.jpg",
                        "width": 480,
                        "height": 360
                      },
                      "standard": {
                        "url": "https://i.ytimg.com/vi/297vr0vJipw/sddefault.jpg",
                        "width": 640,
                        "height": 480
                      },
                      "maxres": {
                        "url": "https://i.ytimg.com/vi/297vr0vJipw/maxresdefault.jpg",
                        "width": 1280,
                        "height": 720
                      }
                    },
                    "channelTitle": "J. Kenji López-Alt",
                    "localized": {
                      "title": "Things Worth Eating",
                      "description": ""
                    }
                  },
                  "contentDetails": {
                    "itemCount": 6
                  }
                },
                {
                  "kind": "youtube#playlist",
                  "etag": "9ZOriX08u4jT_HRsenx7sU3pu7Q",
                  "id": "PLXonhhg5tUSK2xM3KBqICCoDyKrOwkBHZ",
                  "snippet": {
                    "publishedAt": "2017-05-20T08:37:36.873952Z",
                    "channelId": "UCqqJQ_cXSat0KIAVfIfKkVA",
                    "title": "Reviews",
                    "description": "",
                    "thumbnails": {
                      "default": {
                        "url": "https://i.ytimg.com/vi/gGNJbFQIr5g/default.jpg",
                        "width": 120,
                        "height": 90
                      },
                      "medium": {
                        "url": "https://i.ytimg.com/vi/gGNJbFQIr5g/mqdefault.jpg",
                        "width": 320,
                        "height": 180
                      },
                      "high": {
                        "url": "https://i.ytimg.com/vi/gGNJbFQIr5g/hqdefault.jpg",
                        "width": 480,
                        "height": 360
                      },
                      "standard": {
                        "url": "https://i.ytimg.com/vi/gGNJbFQIr5g/sddefault.jpg",
                        "width": 640,
                        "height": 480
                      },
                      "maxres": {
                        "url": "https://i.ytimg.com/vi/gGNJbFQIr5g/maxresdefault.jpg",
                        "width": 1280,
                        "height": 720
                      }
                    },
                    "channelTitle": "J. Kenji López-Alt",
                    "localized": {
                      "title": "Reviews",
                      "description": ""
                    }
                  },
                  "contentDetails": {
                    "itemCount": 6
                  }
                },
                {
                  "kind": "youtube#playlist",
                  "etag": "c0bk4daTe_aTJGF_GyqJ-B2iuQU",
                  "id": "PLXonhhg5tUSLPMH2kZI67RYGb5V-fX-83",
                  "snippet": {
                    "publishedAt": "2017-02-06T19:14:08.642868Z",
                    "channelId": "UCqqJQ_cXSat0KIAVfIfKkVA",
                    "title": "Knife Skills",
                    "description": "",
                    "thumbnails": {
                      "default": {
                        "url": "https://i.ytimg.com/vi/itnUJEOXQCg/default.jpg",
                        "width": 120,
                        "height": 90
                      },
                      "medium": {
                        "url": "https://i.ytimg.com/vi/itnUJEOXQCg/mqdefault.jpg",
                        "width": 320,
                        "height": 180
                      },
                      "high": {
                        "url": "https://i.ytimg.com/vi/itnUJEOXQCg/hqdefault.jpg",
                        "width": 480,
                        "height": 360
                      },
                      "standard": {
                        "url": "https://i.ytimg.com/vi/itnUJEOXQCg/sddefault.jpg",
                        "width": 640,
                        "height": 480
                      },
                      "maxres": {
                        "url": "https://i.ytimg.com/vi/itnUJEOXQCg/maxresdefault.jpg",
                        "width": 1280,
                        "height": 720
                      }
                    },
                    "channelTitle": "J. Kenji López-Alt",
                    "localized": {
                      "title": "Knife Skills",
                      "description": ""
                    }
                  },
                  "contentDetails": {
                    "itemCount": 19
                  }
                },
                {
                  "kind": "youtube#playlist",
                  "etag": "WOwooS5NznuvY1dYtfNGbKPP3PA",
                  "id": "PLXonhhg5tUSIwnMVQpgZUOEjZQ4hYCNnJ",
                  "snippet": {
                    "publishedAt": "2016-11-09T17:43:13.289618Z",
                    "channelId": "UCqqJQ_cXSat0KIAVfIfKkVA",
                    "title": "A Food Lab Thanksgiving",
                    "description": "",
                    "thumbnails": {
                      "default": {
                        "url": "https://i.ytimg.com/vi/HquPptrACtk/default.jpg",
                        "width": 120,
                        "height": 90
                      },
                      "medium": {
                        "url": "https://i.ytimg.com/vi/HquPptrACtk/mqdefault.jpg",
                        "width": 320,
                        "height": 180
                      },
                      "high": {
                        "url": "https://i.ytimg.com/vi/HquPptrACtk/hqdefault.jpg",
                        "width": 480,
                        "height": 360
                      },
                      "standard": {
                        "url": "https://i.ytimg.com/vi/HquPptrACtk/sddefault.jpg",
                        "width": 640,
                        "height": 480
                      },
                      "maxres": {
                        "url": "https://i.ytimg.com/vi/HquPptrACtk/maxresdefault.jpg",
                        "width": 1280,
                        "height": 720
                      }
                    },
                    "channelTitle": "J. Kenji López-Alt",
                    "localized": {
                      "title": "A Food Lab Thanksgiving",
                      "description": ""
                    }
                  },
                  "contentDetails": {
                    "itemCount": 9
                  }
                },
                {
                  "kind": "youtube#playlist",
                  "etag": "RW8SX1OuYpryy4RL-IR1XmzDobo",
                  "id": "PLXonhhg5tUSI4oUv4kSbwe6Km9d4A7xL5",
                  "snippet": {
                    "publishedAt": "2016-08-11T06:56:25.630434Z",
                    "channelId": "UCqqJQ_cXSat0KIAVfIfKkVA",
                    "title": "Tips and Tricks",
                    "description": "",
                    "thumbnails": {
                      "default": {
                        "url": "https://i.ytimg.com/vi/8EN8leHe0uY/default.jpg",
                        "width": 120,
                        "height": 90
                      },
                      "medium": {
                        "url": "https://i.ytimg.com/vi/8EN8leHe0uY/mqdefault.jpg",
                        "width": 320,
                        "height": 180
                      },
                      "high": {
                        "url": "https://i.ytimg.com/vi/8EN8leHe0uY/hqdefault.jpg",
                        "width": 480,
                        "height": 360
                      },
                      "standard": {
                        "url": "https://i.ytimg.com/vi/8EN8leHe0uY/sddefault.jpg",
                        "width": 640,
                        "height": 480
                      },
                      "maxres": {
                        "url": "https://i.ytimg.com/vi/8EN8leHe0uY/maxresdefault.jpg",
                        "width": 1280,
                        "height": 720
                      }
                    },
                    "channelTitle": "J. Kenji López-Alt",
                    "localized": {
                      "title": "Tips and Tricks",
                      "description": ""
                    }
                  },
                  "contentDetails": {
                    "itemCount": 42
                  }
                },
                {
                  "kind": "youtube#playlist",
                  "etag": "phTwLmHIluWR-CwQIkIZmLhuHW8",
                  "id": "PLXonhhg5tUSKECHu9tL9ifRDvK03xCeGS",
                  "snippet": {
                    "publishedAt": "2016-08-11T06:55:24.035644Z",
                    "channelId": "UCqqJQ_cXSat0KIAVfIfKkVA",
                    "title": "Recipes",
                    "description": "",
                    "thumbnails": {
                      "default": {
                        "url": "https://i.ytimg.com/vi/Tu5FEVUMWVU/default.jpg",
                        "width": 120,
                        "height": 90
                      },
                      "medium": {
                        "url": "https://i.ytimg.com/vi/Tu5FEVUMWVU/mqdefault.jpg",
                        "width": 320,
                        "height": 180
                      },
                      "high": {
                        "url": "https://i.ytimg.com/vi/Tu5FEVUMWVU/hqdefault.jpg",
                        "width": 480,
                        "height": 360
                      },
                      "standard": {
                        "url": "https://i.ytimg.com/vi/Tu5FEVUMWVU/sddefault.jpg",
                        "width": 640,
                        "height": 480
                      },
                      "maxres": {
                        "url": "https://i.ytimg.com/vi/Tu5FEVUMWVU/maxresdefault.jpg",
                        "width": 1280,
                        "height": 720
                      }
                    },
                    "channelTitle": "J. Kenji López-Alt",
                    "localized": {
                      "title": "Recipes",
                      "description": ""
                    }
                  },
                  "contentDetails": {
                    "itemCount": 58
                  }
                },
                {
                  "kind": "youtube#playlist",
                  "etag": "CaM5lMIkJPuBwtqKo7xyE1q8xFQ",
                  "id": "PLXonhhg5tUSKTPt4s5ZOBSnPOchewStj7",
                  "snippet": {
                    "publishedAt": "2016-08-11T06:54:42.770667Z",
                    "channelId": "UCqqJQ_cXSat0KIAVfIfKkVA",
                    "title": "Kenji's Cooking Show",
                    "description": "Hi. I'm Kenji. I wrote a big book called The Food Lab. It's very prescriptive and uses evidence-based testing to show you the best ways to cook things.\n\nThis is not how I actually cook at home. At home I take a more casual approach because after keeping us alive, food's main goal is pleasure, and what could be more pleasurable that letting your hands and mind take your food where you want it to go?\n\nI hope to be able to inspire some of you to take the same approach to cooking. Cook what you want, how you want it. Don't let anyone, me included, tell you any different.",
                    "thumbnails": {
                      "default": {
                        "url": "https://i.ytimg.com/vi/2Sz40WqBg8E/default.jpg",
                        "width": 120,
                        "height": 90
                      },
                      "medium": {
                        "url": "https://i.ytimg.com/vi/2Sz40WqBg8E/mqdefault.jpg",
                        "width": 320,
                        "height": 180
                      },
                      "high": {
                        "url": "https://i.ytimg.com/vi/2Sz40WqBg8E/hqdefault.jpg",
                        "width": 480,
                        "height": 360
                      },
                      "standard": {
                        "url": "https://i.ytimg.com/vi/2Sz40WqBg8E/sddefault.jpg",
                        "width": 640,
                        "height": 480
                      },
                      "maxres": {
                        "url": "https://i.ytimg.com/vi/2Sz40WqBg8E/maxresdefault.jpg",
                        "width": 1280,
                        "height": 720
                      }
                    },
                    "channelTitle": "J. Kenji López-Alt",
                    "localized": {
                      "title": "Kenji's Cooking Show",
                      "description": "Hi. I'm Kenji. I wrote a big book called The Food Lab. It's very prescriptive and uses evidence-based testing to show you the best ways to cook things.\n\nThis is not how I actually cook at home. At home I take a more casual approach because after keeping us alive, food's main goal is pleasure, and what could be more pleasurable that letting your hands and mind take your food where you want it to go?\n\nI hope to be able to inspire some of you to take the same approach to cooking. Cook what you want, how you want it. Don't let anyone, me included, tell you any different."
                    }
                  },
                  "contentDetails": {
                    "itemCount": 345
                  }
                }
              ]
            }
          },
          "metadata": {
            "application/json": {
              "expanded": false,
              "root": "root"
            }
          },
          "execution_count": 19
        }
      ]
    },
    {
      "cell_type": "code",
      "source": [
        "# Function to extract the list of playlist IDs, title, and descriptuon\n",
        "\n",
        "playlist_info = []\n",
        "playlist_ID_list = []\n",
        "\n",
        "for dict in response['items']:\n",
        "  playlist_id = dict['id']\n",
        "  title = dict['snippet']['title']\n",
        "  description = dict['snippet']['description']\n",
        "\n",
        "  info = {'playlist_id': playlist_id, 'title': title, 'description': description}\n",
        "\n",
        "  playlist_info.append(info)\n",
        "  playlist_ID_list.append(playlist_id)\n",
        "\n",
        "len(playlist_info)\n",
        "\n",
        "print(f\"Number of playlists in {forHandle}'s channel is: {len(playlist_info)}\")\n"
      ],
      "metadata": {
        "colab": {
          "base_uri": "https://localhost:8080/"
        },
        "id": "UsjkhS0QJAXR",
        "outputId": "45675855-1050-4889-a0ab-34108491f5cf"
      },
      "execution_count": 20,
      "outputs": [
        {
          "output_type": "stream",
          "name": "stdout",
          "text": [
            "Number of playlists in @JKenjiLopezAlt's channel is: 27\n"
          ]
        }
      ]
    },
    {
      "cell_type": "code",
      "source": [
        "pd.DataFrame(playlist_info)"
      ],
      "metadata": {
        "colab": {
          "base_uri": "https://localhost:8080/",
          "height": 896
        },
        "id": "YlfxZB4PUsxP",
        "outputId": "ddfc9d13-8152-4b45-c9c9-10bd1764210a"
      },
      "execution_count": 21,
      "outputs": [
        {
          "output_type": "execute_result",
          "data": {
            "text/plain": [
              "                           playlist_id                            title  \\\n",
              "0   PLXonhhg5tUSI7F_F_1TASoAWLfYNc-RUe                      Taste Tests   \n",
              "1   PLXonhhg5tUSKJZhLDZ-FnxgQPFv6uJVEh                     The Food Lab   \n",
              "2   PLXonhhg5tUSLzIskt_tXUBp4cMstyfMrq      All the Teriyaki in Seattle   \n",
              "3   PLXonhhg5tUSK_sOzqUkiJz8ACDeB85HgU                 Kenji Lopez-Main   \n",
              "4   PLXonhhg5tUSJ1okkBuKY3CKIov-vx9td6                        Ask Kenji   \n",
              "5   PLXonhhg5tUSKSN7D04ComGnHUI1zthRHl                      Experiments   \n",
              "6   PLXonhhg5tUSKnGuurp0wPSgO_2QgoY2zD   The Recipe, with Kenji and Deb   \n",
              "7   PLXonhhg5tUSL2SW-L0qZO44rL-GBsyt1h                      Kenji Plays   \n",
              "8   PLXonhhg5tUSJYKMMCNfZCKugerw6D42c_                    Quick Cooking   \n",
              "9   PLXonhhg5tUSKOCmSKZKzcnPOutjIPL5Do             Viral Recipe Reviews   \n",
              "10  PLXonhhg5tUSK7OlSDiEyqkn_47NXSWGeS             Leftover Pulled Pork   \n",
              "11  PLXonhhg5tUSI6q-In5StCtD3xr0lfBj55  The Wok: Recipes and Techniques   \n",
              "12  PLXonhhg5tUSIl44pT_pW1DgJhhhDZhc7d                 Food Photography   \n",
              "13  PLXonhhg5tUSJYbsuOFfcNI7LgbCSrEH38                 Lunch With Kenji   \n",
              "14  PLXonhhg5tUSICRE99VKwT0NRWQ1AmFQvg        Kenji's Cooking Show Live   \n",
              "15  PLXonhhg5tUSLyoNv_972NmmfdBfoT4WEo                Equipment Reviews   \n",
              "16  PLXonhhg5tUSJvVvHMLsXJG0TbSNmk7j-_           Late Night POV Cooking   \n",
              "17  PLXonhhg5tUSJuH6YK5UNOoT_I8TC5Sx_h                  Food Lab Basics   \n",
              "18  PLXonhhg5tUSI85nEAOUOaO-1EoCWuPPR6      Wursthall Behind the Scenes   \n",
              "19  PLXonhhg5tUSLOFkX2SsqrYB5CPasqaZQl          The Food Lab Miniseries   \n",
              "20  PLXonhhg5tUSKX9LWuxUMPgZmWe0M2KVzh              Things Worth Eating   \n",
              "21  PLXonhhg5tUSK2xM3KBqICCoDyKrOwkBHZ                          Reviews   \n",
              "22  PLXonhhg5tUSLPMH2kZI67RYGb5V-fX-83                     Knife Skills   \n",
              "23  PLXonhhg5tUSIwnMVQpgZUOEjZQ4hYCNnJ          A Food Lab Thanksgiving   \n",
              "24  PLXonhhg5tUSI4oUv4kSbwe6Km9d4A7xL5                  Tips and Tricks   \n",
              "25  PLXonhhg5tUSKECHu9tL9ifRDvK03xCeGS                          Recipes   \n",
              "26  PLXonhhg5tUSKTPt4s5ZOBSnPOchewStj7             Kenji's Cooking Show   \n",
              "\n",
              "                                          description  \n",
              "0             Taste Tests of Ingredients and Products  \n",
              "1   Recipes from Serious Eats and my book, The Foo...  \n",
              "2                                                      \n",
              "3                                                      \n",
              "4           Videos exploring common cooking questions  \n",
              "5                                                      \n",
              "6   Videos associated with me and Deb Perelman's p...  \n",
              "7                         This is my gaming playlist.  \n",
              "8   Quick videos shot while I'm making dinner that...  \n",
              "9   I cook promising-looking viral recipes and tal...  \n",
              "10                                                     \n",
              "11                                                     \n",
              "12                                                     \n",
              "13                                                     \n",
              "14                                                     \n",
              "15                                                     \n",
              "16                                                     \n",
              "17                                                     \n",
              "18                                                     \n",
              "19                                                     \n",
              "20                                                     \n",
              "21                                                     \n",
              "22                                                     \n",
              "23                                                     \n",
              "24                                                     \n",
              "25                                                     \n",
              "26  Hi. I'm Kenji. I wrote a big book called The F...  "
            ],
            "text/html": [
              "\n",
              "  <div id=\"df-8db206c7-ffbe-40fc-9dd0-e5f80f7d9843\" class=\"colab-df-container\">\n",
              "    <div>\n",
              "<style scoped>\n",
              "    .dataframe tbody tr th:only-of-type {\n",
              "        vertical-align: middle;\n",
              "    }\n",
              "\n",
              "    .dataframe tbody tr th {\n",
              "        vertical-align: top;\n",
              "    }\n",
              "\n",
              "    .dataframe thead th {\n",
              "        text-align: right;\n",
              "    }\n",
              "</style>\n",
              "<table border=\"1\" class=\"dataframe\">\n",
              "  <thead>\n",
              "    <tr style=\"text-align: right;\">\n",
              "      <th></th>\n",
              "      <th>playlist_id</th>\n",
              "      <th>title</th>\n",
              "      <th>description</th>\n",
              "    </tr>\n",
              "  </thead>\n",
              "  <tbody>\n",
              "    <tr>\n",
              "      <th>0</th>\n",
              "      <td>PLXonhhg5tUSI7F_F_1TASoAWLfYNc-RUe</td>\n",
              "      <td>Taste Tests</td>\n",
              "      <td>Taste Tests of Ingredients and Products</td>\n",
              "    </tr>\n",
              "    <tr>\n",
              "      <th>1</th>\n",
              "      <td>PLXonhhg5tUSKJZhLDZ-FnxgQPFv6uJVEh</td>\n",
              "      <td>The Food Lab</td>\n",
              "      <td>Recipes from Serious Eats and my book, The Foo...</td>\n",
              "    </tr>\n",
              "    <tr>\n",
              "      <th>2</th>\n",
              "      <td>PLXonhhg5tUSLzIskt_tXUBp4cMstyfMrq</td>\n",
              "      <td>All the Teriyaki in Seattle</td>\n",
              "      <td></td>\n",
              "    </tr>\n",
              "    <tr>\n",
              "      <th>3</th>\n",
              "      <td>PLXonhhg5tUSK_sOzqUkiJz8ACDeB85HgU</td>\n",
              "      <td>Kenji Lopez-Main</td>\n",
              "      <td></td>\n",
              "    </tr>\n",
              "    <tr>\n",
              "      <th>4</th>\n",
              "      <td>PLXonhhg5tUSJ1okkBuKY3CKIov-vx9td6</td>\n",
              "      <td>Ask Kenji</td>\n",
              "      <td>Videos exploring common cooking questions</td>\n",
              "    </tr>\n",
              "    <tr>\n",
              "      <th>5</th>\n",
              "      <td>PLXonhhg5tUSKSN7D04ComGnHUI1zthRHl</td>\n",
              "      <td>Experiments</td>\n",
              "      <td></td>\n",
              "    </tr>\n",
              "    <tr>\n",
              "      <th>6</th>\n",
              "      <td>PLXonhhg5tUSKnGuurp0wPSgO_2QgoY2zD</td>\n",
              "      <td>The Recipe, with Kenji and Deb</td>\n",
              "      <td>Videos associated with me and Deb Perelman's p...</td>\n",
              "    </tr>\n",
              "    <tr>\n",
              "      <th>7</th>\n",
              "      <td>PLXonhhg5tUSL2SW-L0qZO44rL-GBsyt1h</td>\n",
              "      <td>Kenji Plays</td>\n",
              "      <td>This is my gaming playlist.</td>\n",
              "    </tr>\n",
              "    <tr>\n",
              "      <th>8</th>\n",
              "      <td>PLXonhhg5tUSJYKMMCNfZCKugerw6D42c_</td>\n",
              "      <td>Quick Cooking</td>\n",
              "      <td>Quick videos shot while I'm making dinner that...</td>\n",
              "    </tr>\n",
              "    <tr>\n",
              "      <th>9</th>\n",
              "      <td>PLXonhhg5tUSKOCmSKZKzcnPOutjIPL5Do</td>\n",
              "      <td>Viral Recipe Reviews</td>\n",
              "      <td>I cook promising-looking viral recipes and tal...</td>\n",
              "    </tr>\n",
              "    <tr>\n",
              "      <th>10</th>\n",
              "      <td>PLXonhhg5tUSK7OlSDiEyqkn_47NXSWGeS</td>\n",
              "      <td>Leftover Pulled Pork</td>\n",
              "      <td></td>\n",
              "    </tr>\n",
              "    <tr>\n",
              "      <th>11</th>\n",
              "      <td>PLXonhhg5tUSI6q-In5StCtD3xr0lfBj55</td>\n",
              "      <td>The Wok: Recipes and Techniques</td>\n",
              "      <td></td>\n",
              "    </tr>\n",
              "    <tr>\n",
              "      <th>12</th>\n",
              "      <td>PLXonhhg5tUSIl44pT_pW1DgJhhhDZhc7d</td>\n",
              "      <td>Food Photography</td>\n",
              "      <td></td>\n",
              "    </tr>\n",
              "    <tr>\n",
              "      <th>13</th>\n",
              "      <td>PLXonhhg5tUSJYbsuOFfcNI7LgbCSrEH38</td>\n",
              "      <td>Lunch With Kenji</td>\n",
              "      <td></td>\n",
              "    </tr>\n",
              "    <tr>\n",
              "      <th>14</th>\n",
              "      <td>PLXonhhg5tUSICRE99VKwT0NRWQ1AmFQvg</td>\n",
              "      <td>Kenji's Cooking Show Live</td>\n",
              "      <td></td>\n",
              "    </tr>\n",
              "    <tr>\n",
              "      <th>15</th>\n",
              "      <td>PLXonhhg5tUSLyoNv_972NmmfdBfoT4WEo</td>\n",
              "      <td>Equipment Reviews</td>\n",
              "      <td></td>\n",
              "    </tr>\n",
              "    <tr>\n",
              "      <th>16</th>\n",
              "      <td>PLXonhhg5tUSJvVvHMLsXJG0TbSNmk7j-_</td>\n",
              "      <td>Late Night POV Cooking</td>\n",
              "      <td></td>\n",
              "    </tr>\n",
              "    <tr>\n",
              "      <th>17</th>\n",
              "      <td>PLXonhhg5tUSJuH6YK5UNOoT_I8TC5Sx_h</td>\n",
              "      <td>Food Lab Basics</td>\n",
              "      <td></td>\n",
              "    </tr>\n",
              "    <tr>\n",
              "      <th>18</th>\n",
              "      <td>PLXonhhg5tUSI85nEAOUOaO-1EoCWuPPR6</td>\n",
              "      <td>Wursthall Behind the Scenes</td>\n",
              "      <td></td>\n",
              "    </tr>\n",
              "    <tr>\n",
              "      <th>19</th>\n",
              "      <td>PLXonhhg5tUSLOFkX2SsqrYB5CPasqaZQl</td>\n",
              "      <td>The Food Lab Miniseries</td>\n",
              "      <td></td>\n",
              "    </tr>\n",
              "    <tr>\n",
              "      <th>20</th>\n",
              "      <td>PLXonhhg5tUSKX9LWuxUMPgZmWe0M2KVzh</td>\n",
              "      <td>Things Worth Eating</td>\n",
              "      <td></td>\n",
              "    </tr>\n",
              "    <tr>\n",
              "      <th>21</th>\n",
              "      <td>PLXonhhg5tUSK2xM3KBqICCoDyKrOwkBHZ</td>\n",
              "      <td>Reviews</td>\n",
              "      <td></td>\n",
              "    </tr>\n",
              "    <tr>\n",
              "      <th>22</th>\n",
              "      <td>PLXonhhg5tUSLPMH2kZI67RYGb5V-fX-83</td>\n",
              "      <td>Knife Skills</td>\n",
              "      <td></td>\n",
              "    </tr>\n",
              "    <tr>\n",
              "      <th>23</th>\n",
              "      <td>PLXonhhg5tUSIwnMVQpgZUOEjZQ4hYCNnJ</td>\n",
              "      <td>A Food Lab Thanksgiving</td>\n",
              "      <td></td>\n",
              "    </tr>\n",
              "    <tr>\n",
              "      <th>24</th>\n",
              "      <td>PLXonhhg5tUSI4oUv4kSbwe6Km9d4A7xL5</td>\n",
              "      <td>Tips and Tricks</td>\n",
              "      <td></td>\n",
              "    </tr>\n",
              "    <tr>\n",
              "      <th>25</th>\n",
              "      <td>PLXonhhg5tUSKECHu9tL9ifRDvK03xCeGS</td>\n",
              "      <td>Recipes</td>\n",
              "      <td></td>\n",
              "    </tr>\n",
              "    <tr>\n",
              "      <th>26</th>\n",
              "      <td>PLXonhhg5tUSKTPt4s5ZOBSnPOchewStj7</td>\n",
              "      <td>Kenji's Cooking Show</td>\n",
              "      <td>Hi. I'm Kenji. I wrote a big book called The F...</td>\n",
              "    </tr>\n",
              "  </tbody>\n",
              "</table>\n",
              "</div>\n",
              "    <div class=\"colab-df-buttons\">\n",
              "\n",
              "  <div class=\"colab-df-container\">\n",
              "    <button class=\"colab-df-convert\" onclick=\"convertToInteractive('df-8db206c7-ffbe-40fc-9dd0-e5f80f7d9843')\"\n",
              "            title=\"Convert this dataframe to an interactive table.\"\n",
              "            style=\"display:none;\">\n",
              "\n",
              "  <svg xmlns=\"http://www.w3.org/2000/svg\" height=\"24px\" viewBox=\"0 -960 960 960\">\n",
              "    <path d=\"M120-120v-720h720v720H120Zm60-500h600v-160H180v160Zm220 220h160v-160H400v160Zm0 220h160v-160H400v160ZM180-400h160v-160H180v160Zm440 0h160v-160H620v160ZM180-180h160v-160H180v160Zm440 0h160v-160H620v160Z\"/>\n",
              "  </svg>\n",
              "    </button>\n",
              "\n",
              "  <style>\n",
              "    .colab-df-container {\n",
              "      display:flex;\n",
              "      gap: 12px;\n",
              "    }\n",
              "\n",
              "    .colab-df-convert {\n",
              "      background-color: #E8F0FE;\n",
              "      border: none;\n",
              "      border-radius: 50%;\n",
              "      cursor: pointer;\n",
              "      display: none;\n",
              "      fill: #1967D2;\n",
              "      height: 32px;\n",
              "      padding: 0 0 0 0;\n",
              "      width: 32px;\n",
              "    }\n",
              "\n",
              "    .colab-df-convert:hover {\n",
              "      background-color: #E2EBFA;\n",
              "      box-shadow: 0px 1px 2px rgba(60, 64, 67, 0.3), 0px 1px 3px 1px rgba(60, 64, 67, 0.15);\n",
              "      fill: #174EA6;\n",
              "    }\n",
              "\n",
              "    .colab-df-buttons div {\n",
              "      margin-bottom: 4px;\n",
              "    }\n",
              "\n",
              "    [theme=dark] .colab-df-convert {\n",
              "      background-color: #3B4455;\n",
              "      fill: #D2E3FC;\n",
              "    }\n",
              "\n",
              "    [theme=dark] .colab-df-convert:hover {\n",
              "      background-color: #434B5C;\n",
              "      box-shadow: 0px 1px 3px 1px rgba(0, 0, 0, 0.15);\n",
              "      filter: drop-shadow(0px 1px 2px rgba(0, 0, 0, 0.3));\n",
              "      fill: #FFFFFF;\n",
              "    }\n",
              "  </style>\n",
              "\n",
              "    <script>\n",
              "      const buttonEl =\n",
              "        document.querySelector('#df-8db206c7-ffbe-40fc-9dd0-e5f80f7d9843 button.colab-df-convert');\n",
              "      buttonEl.style.display =\n",
              "        google.colab.kernel.accessAllowed ? 'block' : 'none';\n",
              "\n",
              "      async function convertToInteractive(key) {\n",
              "        const element = document.querySelector('#df-8db206c7-ffbe-40fc-9dd0-e5f80f7d9843');\n",
              "        const dataTable =\n",
              "          await google.colab.kernel.invokeFunction('convertToInteractive',\n",
              "                                                    [key], {});\n",
              "        if (!dataTable) return;\n",
              "\n",
              "        const docLinkHtml = 'Like what you see? Visit the ' +\n",
              "          '<a target=\"_blank\" href=https://colab.research.google.com/notebooks/data_table.ipynb>data table notebook</a>'\n",
              "          + ' to learn more about interactive tables.';\n",
              "        element.innerHTML = '';\n",
              "        dataTable['output_type'] = 'display_data';\n",
              "        await google.colab.output.renderOutput(dataTable, element);\n",
              "        const docLink = document.createElement('div');\n",
              "        docLink.innerHTML = docLinkHtml;\n",
              "        element.appendChild(docLink);\n",
              "      }\n",
              "    </script>\n",
              "  </div>\n",
              "\n",
              "\n",
              "    <div id=\"df-48bc63d6-936d-4aef-8a75-1b751b736782\">\n",
              "      <button class=\"colab-df-quickchart\" onclick=\"quickchart('df-48bc63d6-936d-4aef-8a75-1b751b736782')\"\n",
              "                title=\"Suggest charts\"\n",
              "                style=\"display:none;\">\n",
              "\n",
              "<svg xmlns=\"http://www.w3.org/2000/svg\" height=\"24px\"viewBox=\"0 0 24 24\"\n",
              "     width=\"24px\">\n",
              "    <g>\n",
              "        <path d=\"M19 3H5c-1.1 0-2 .9-2 2v14c0 1.1.9 2 2 2h14c1.1 0 2-.9 2-2V5c0-1.1-.9-2-2-2zM9 17H7v-7h2v7zm4 0h-2V7h2v10zm4 0h-2v-4h2v4z\"/>\n",
              "    </g>\n",
              "</svg>\n",
              "      </button>\n",
              "\n",
              "<style>\n",
              "  .colab-df-quickchart {\n",
              "      --bg-color: #E8F0FE;\n",
              "      --fill-color: #1967D2;\n",
              "      --hover-bg-color: #E2EBFA;\n",
              "      --hover-fill-color: #174EA6;\n",
              "      --disabled-fill-color: #AAA;\n",
              "      --disabled-bg-color: #DDD;\n",
              "  }\n",
              "\n",
              "  [theme=dark] .colab-df-quickchart {\n",
              "      --bg-color: #3B4455;\n",
              "      --fill-color: #D2E3FC;\n",
              "      --hover-bg-color: #434B5C;\n",
              "      --hover-fill-color: #FFFFFF;\n",
              "      --disabled-bg-color: #3B4455;\n",
              "      --disabled-fill-color: #666;\n",
              "  }\n",
              "\n",
              "  .colab-df-quickchart {\n",
              "    background-color: var(--bg-color);\n",
              "    border: none;\n",
              "    border-radius: 50%;\n",
              "    cursor: pointer;\n",
              "    display: none;\n",
              "    fill: var(--fill-color);\n",
              "    height: 32px;\n",
              "    padding: 0;\n",
              "    width: 32px;\n",
              "  }\n",
              "\n",
              "  .colab-df-quickchart:hover {\n",
              "    background-color: var(--hover-bg-color);\n",
              "    box-shadow: 0 1px 2px rgba(60, 64, 67, 0.3), 0 1px 3px 1px rgba(60, 64, 67, 0.15);\n",
              "    fill: var(--button-hover-fill-color);\n",
              "  }\n",
              "\n",
              "  .colab-df-quickchart-complete:disabled,\n",
              "  .colab-df-quickchart-complete:disabled:hover {\n",
              "    background-color: var(--disabled-bg-color);\n",
              "    fill: var(--disabled-fill-color);\n",
              "    box-shadow: none;\n",
              "  }\n",
              "\n",
              "  .colab-df-spinner {\n",
              "    border: 2px solid var(--fill-color);\n",
              "    border-color: transparent;\n",
              "    border-bottom-color: var(--fill-color);\n",
              "    animation:\n",
              "      spin 1s steps(1) infinite;\n",
              "  }\n",
              "\n",
              "  @keyframes spin {\n",
              "    0% {\n",
              "      border-color: transparent;\n",
              "      border-bottom-color: var(--fill-color);\n",
              "      border-left-color: var(--fill-color);\n",
              "    }\n",
              "    20% {\n",
              "      border-color: transparent;\n",
              "      border-left-color: var(--fill-color);\n",
              "      border-top-color: var(--fill-color);\n",
              "    }\n",
              "    30% {\n",
              "      border-color: transparent;\n",
              "      border-left-color: var(--fill-color);\n",
              "      border-top-color: var(--fill-color);\n",
              "      border-right-color: var(--fill-color);\n",
              "    }\n",
              "    40% {\n",
              "      border-color: transparent;\n",
              "      border-right-color: var(--fill-color);\n",
              "      border-top-color: var(--fill-color);\n",
              "    }\n",
              "    60% {\n",
              "      border-color: transparent;\n",
              "      border-right-color: var(--fill-color);\n",
              "    }\n",
              "    80% {\n",
              "      border-color: transparent;\n",
              "      border-right-color: var(--fill-color);\n",
              "      border-bottom-color: var(--fill-color);\n",
              "    }\n",
              "    90% {\n",
              "      border-color: transparent;\n",
              "      border-bottom-color: var(--fill-color);\n",
              "    }\n",
              "  }\n",
              "</style>\n",
              "\n",
              "      <script>\n",
              "        async function quickchart(key) {\n",
              "          const quickchartButtonEl =\n",
              "            document.querySelector('#' + key + ' button');\n",
              "          quickchartButtonEl.disabled = true;  // To prevent multiple clicks.\n",
              "          quickchartButtonEl.classList.add('colab-df-spinner');\n",
              "          try {\n",
              "            const charts = await google.colab.kernel.invokeFunction(\n",
              "                'suggestCharts', [key], {});\n",
              "          } catch (error) {\n",
              "            console.error('Error during call to suggestCharts:', error);\n",
              "          }\n",
              "          quickchartButtonEl.classList.remove('colab-df-spinner');\n",
              "          quickchartButtonEl.classList.add('colab-df-quickchart-complete');\n",
              "        }\n",
              "        (() => {\n",
              "          let quickchartButtonEl =\n",
              "            document.querySelector('#df-48bc63d6-936d-4aef-8a75-1b751b736782 button');\n",
              "          quickchartButtonEl.style.display =\n",
              "            google.colab.kernel.accessAllowed ? 'block' : 'none';\n",
              "        })();\n",
              "      </script>\n",
              "    </div>\n",
              "\n",
              "    </div>\n",
              "  </div>\n"
            ],
            "application/vnd.google.colaboratory.intrinsic+json": {
              "type": "dataframe",
              "summary": "{\n  \"name\": \"pd\",\n  \"rows\": 27,\n  \"fields\": [\n    {\n      \"column\": \"playlist_id\",\n      \"properties\": {\n        \"dtype\": \"string\",\n        \"num_unique_values\": 27,\n        \"samples\": [\n          \"PLXonhhg5tUSJYKMMCNfZCKugerw6D42c_\",\n          \"PLXonhhg5tUSJYbsuOFfcNI7LgbCSrEH38\",\n          \"PLXonhhg5tUSKOCmSKZKzcnPOutjIPL5Do\"\n        ],\n        \"semantic_type\": \"\",\n        \"description\": \"\"\n      }\n    },\n    {\n      \"column\": \"title\",\n      \"properties\": {\n        \"dtype\": \"string\",\n        \"num_unique_values\": 27,\n        \"samples\": [\n          \"Quick Cooking\",\n          \"Lunch With Kenji\",\n          \"Viral Recipe Reviews\"\n        ],\n        \"semantic_type\": \"\",\n        \"description\": \"\"\n      }\n    },\n    {\n      \"column\": \"description\",\n      \"properties\": {\n        \"dtype\": \"category\",\n        \"num_unique_values\": 9,\n        \"samples\": [\n          \"I cook promising-looking viral recipes and talk about them.\",\n          \"Recipes from Serious Eats and my book, The Food Lab. Revisited and revised.\",\n          \"This is my gaming playlist.\"\n        ],\n        \"semantic_type\": \"\",\n        \"description\": \"\"\n      }\n    }\n  ]\n}"
            }
          },
          "metadata": {},
          "execution_count": 21
        }
      ]
    },
    {
      "cell_type": "code",
      "source": [
        "playlist_ID_list"
      ],
      "metadata": {
        "colab": {
          "base_uri": "https://localhost:8080/"
        },
        "id": "I3Ax_rwFWiJx",
        "outputId": "065b5efb-86f5-4d8c-c781-f2958ec9755a"
      },
      "execution_count": 22,
      "outputs": [
        {
          "output_type": "execute_result",
          "data": {
            "text/plain": [
              "['PLXonhhg5tUSI7F_F_1TASoAWLfYNc-RUe',\n",
              " 'PLXonhhg5tUSKJZhLDZ-FnxgQPFv6uJVEh',\n",
              " 'PLXonhhg5tUSLzIskt_tXUBp4cMstyfMrq',\n",
              " 'PLXonhhg5tUSK_sOzqUkiJz8ACDeB85HgU',\n",
              " 'PLXonhhg5tUSJ1okkBuKY3CKIov-vx9td6',\n",
              " 'PLXonhhg5tUSKSN7D04ComGnHUI1zthRHl',\n",
              " 'PLXonhhg5tUSKnGuurp0wPSgO_2QgoY2zD',\n",
              " 'PLXonhhg5tUSL2SW-L0qZO44rL-GBsyt1h',\n",
              " 'PLXonhhg5tUSJYKMMCNfZCKugerw6D42c_',\n",
              " 'PLXonhhg5tUSKOCmSKZKzcnPOutjIPL5Do',\n",
              " 'PLXonhhg5tUSK7OlSDiEyqkn_47NXSWGeS',\n",
              " 'PLXonhhg5tUSI6q-In5StCtD3xr0lfBj55',\n",
              " 'PLXonhhg5tUSIl44pT_pW1DgJhhhDZhc7d',\n",
              " 'PLXonhhg5tUSJYbsuOFfcNI7LgbCSrEH38',\n",
              " 'PLXonhhg5tUSICRE99VKwT0NRWQ1AmFQvg',\n",
              " 'PLXonhhg5tUSLyoNv_972NmmfdBfoT4WEo',\n",
              " 'PLXonhhg5tUSJvVvHMLsXJG0TbSNmk7j-_',\n",
              " 'PLXonhhg5tUSJuH6YK5UNOoT_I8TC5Sx_h',\n",
              " 'PLXonhhg5tUSI85nEAOUOaO-1EoCWuPPR6',\n",
              " 'PLXonhhg5tUSLOFkX2SsqrYB5CPasqaZQl',\n",
              " 'PLXonhhg5tUSKX9LWuxUMPgZmWe0M2KVzh',\n",
              " 'PLXonhhg5tUSK2xM3KBqICCoDyKrOwkBHZ',\n",
              " 'PLXonhhg5tUSLPMH2kZI67RYGb5V-fX-83',\n",
              " 'PLXonhhg5tUSIwnMVQpgZUOEjZQ4hYCNnJ',\n",
              " 'PLXonhhg5tUSI4oUv4kSbwe6Km9d4A7xL5',\n",
              " 'PLXonhhg5tUSKECHu9tL9ifRDvK03xCeGS',\n",
              " 'PLXonhhg5tUSKTPt4s5ZOBSnPOchewStj7']"
            ]
          },
          "metadata": {},
          "execution_count": 22
        }
      ]
    },
    {
      "cell_type": "code",
      "source": [
        "# Request sent to 'playlistItems' API to get video IDs in each playlist\n",
        "# Checking just for one playlist_ID[2]\n",
        "\n",
        "request = youtube.playlistItems().list(\n",
        "    part = 'contentDetails, id, snippet, status',\n",
        "    maxResults = 50,\n",
        "    playlistId = playlist_ID_list[2]\n",
        ")\n",
        "\n",
        "response = request.execute()\n",
        "JSON(response)"
      ],
      "metadata": {
        "colab": {
          "base_uri": "https://localhost:8080/",
          "height": 1000
        },
        "collapsed": true,
        "id": "pcQteU_wLFIV",
        "outputId": "86ccc4b4-2d85-4c5f-bff1-cd15dffbcaf7"
      },
      "execution_count": 23,
      "outputs": [
        {
          "output_type": "execute_result",
          "data": {
            "text/plain": [
              "<IPython.core.display.JSON object>"
            ],
            "application/json": {
              "kind": "youtube#playlistItemListResponse",
              "etag": "HLPNhlM2rRnbjzywN2VKK-pOSpc",
              "items": [
                {
                  "kind": "youtube#playlistItem",
                  "etag": "N-Y-sX2xuDOLET_VWm_lVEwvPuI",
                  "id": "UExYb25oaGc1dFVTTHpJc2t0X3RYVUJwNGNNc3R5Zk1ycS41NkI0NEY2RDEwNTU3Q0M2",
                  "snippet": {
                    "publishedAt": "2025-01-26T04:09:23Z",
                    "channelId": "UCqqJQ_cXSat0KIAVfIfKkVA",
                    "title": "All the Teriyaki in Seattle #26: Seattle’s Best Teriyaki & Pho",
                    "description": "I’m eating at every teriyaki joint in Seattle. Join me!\n\nToday is Seattle’s Best Teriyaki & Pho, a shop in Sodo. \n\n2445 4th Ave S #109, Seattle, WA 98134\n\nMy Teriyaki Map: https://www.google.com/maps/d/edit?mid=1-nI6enKuURtsnWSO2gl224y74i79hZM&usp=sharing\n\nAn ongoing list of my favorites so far:\n\nNikko  Teriyaki\nhttps://youtu.be/ysEZuCXF_04\n\nRainier Teriyaki\nhttps://youtu.be/Wbtish4P98s\n\nI Love Teriyaki\nhttps://youtu.be/Y4bGqM-QqWs\n\nMikou Teriyaki\nhttps://youtu.be/31SSbqQGlx\n\nKoibito  Teriyaki\nhttps://youtu.be/LUbl6WDab2Y\n\nYummy Teriyaki\nhttps://youtu.be/oGNH9LSS1ak\n\n#alltheteriyaki",
                    "thumbnails": {
                      "default": {
                        "url": "https://i.ytimg.com/vi/_UrxR8d3EkQ/default.jpg",
                        "width": 120,
                        "height": 90
                      },
                      "medium": {
                        "url": "https://i.ytimg.com/vi/_UrxR8d3EkQ/mqdefault.jpg",
                        "width": 320,
                        "height": 180
                      },
                      "high": {
                        "url": "https://i.ytimg.com/vi/_UrxR8d3EkQ/hqdefault.jpg",
                        "width": 480,
                        "height": 360
                      },
                      "standard": {
                        "url": "https://i.ytimg.com/vi/_UrxR8d3EkQ/sddefault.jpg",
                        "width": 640,
                        "height": 480
                      },
                      "maxres": {
                        "url": "https://i.ytimg.com/vi/_UrxR8d3EkQ/maxresdefault.jpg",
                        "width": 1280,
                        "height": 720
                      }
                    },
                    "channelTitle": "J. Kenji López-Alt",
                    "playlistId": "PLXonhhg5tUSLzIskt_tXUBp4cMstyfMrq",
                    "position": 0,
                    "resourceId": {
                      "kind": "youtube#video",
                      "videoId": "_UrxR8d3EkQ"
                    },
                    "videoOwnerChannelTitle": "J. Kenji López-Main",
                    "videoOwnerChannelId": "UCbznjGMPIXKWvJn-4sVFQBw"
                  },
                  "contentDetails": {
                    "videoId": "_UrxR8d3EkQ",
                    "videoPublishedAt": "2025-01-22T21:01:29Z"
                  },
                  "status": {
                    "privacyStatus": "public"
                  }
                },
                {
                  "kind": "youtube#playlistItem",
                  "etag": "zM4wBDzMFlR3Pt9ESUAPCjuc1Oo",
                  "id": "UExYb25oaGc1dFVTTHpJc2t0X3RYVUJwNGNNc3R5Zk1ycS4yODlGNEE0NkRGMEEzMEQy",
                  "snippet": {
                    "publishedAt": "2025-01-26T04:09:27Z",
                    "channelId": "UCqqJQ_cXSat0KIAVfIfKkVA",
                    "title": "All the teriyaki in Seattle #25: Yak’s Teriyaki",
                    "description": "I’m eating at every teriyaki joint in Seattle. Join me!\n\nToday is Yak’s, a shop in Sodo. \n\n3401 4th Ave S, Seattle, WA 98134\n\nMy Teriyaki Map: https://www.google.com/maps/d/edit?mid=1-nI6enKuURtsnWSO2gl224y74i79hZM&usp=sharing\n\nAn ongoing list of my favorites so far:\n\nNikko  Teriyaki\nhttps://youtu.be/ysEZuCXF_04\n\nRainier Teriyaki\nhttps://youtu.be/Wbtish4P98s\n\nI Love Teriyaki\nhttps://youtu.be/Y4bGqM-QqWs\n\nMikou Teriyaki\nhttps://youtu.be/31SSbqQGlx\n\nKoibito  Teriyaki\nhttps://youtu.be/LUbl6WDab2Y\n\nYummy Teriyaki\nhttps://youtu.be/oGNH9LSS1ak\n\n#alltheteriyaki",
                    "thumbnails": {
                      "default": {
                        "url": "https://i.ytimg.com/vi/Gic3YyUGtoE/default.jpg",
                        "width": 120,
                        "height": 90
                      },
                      "medium": {
                        "url": "https://i.ytimg.com/vi/Gic3YyUGtoE/mqdefault.jpg",
                        "width": 320,
                        "height": 180
                      },
                      "high": {
                        "url": "https://i.ytimg.com/vi/Gic3YyUGtoE/hqdefault.jpg",
                        "width": 480,
                        "height": 360
                      },
                      "standard": {
                        "url": "https://i.ytimg.com/vi/Gic3YyUGtoE/sddefault.jpg",
                        "width": 640,
                        "height": 480
                      },
                      "maxres": {
                        "url": "https://i.ytimg.com/vi/Gic3YyUGtoE/maxresdefault.jpg",
                        "width": 1280,
                        "height": 720
                      }
                    },
                    "channelTitle": "J. Kenji López-Alt",
                    "playlistId": "PLXonhhg5tUSLzIskt_tXUBp4cMstyfMrq",
                    "position": 1,
                    "resourceId": {
                      "kind": "youtube#video",
                      "videoId": "Gic3YyUGtoE"
                    },
                    "videoOwnerChannelTitle": "J. Kenji López-Main",
                    "videoOwnerChannelId": "UCbznjGMPIXKWvJn-4sVFQBw"
                  },
                  "contentDetails": {
                    "videoId": "Gic3YyUGtoE",
                    "videoPublishedAt": "2025-01-16T00:18:47Z"
                  },
                  "status": {
                    "privacyStatus": "public"
                  }
                },
                {
                  "kind": "youtube#playlistItem",
                  "etag": "8n0ujOSrG62qSHqCW479BRrVMk4",
                  "id": "UExYb25oaGc1dFVTTHpJc2t0X3RYVUJwNGNNc3R5Zk1ycS4wMTcyMDhGQUE4NTIzM0Y5",
                  "snippet": {
                    "publishedAt": "2025-01-26T04:09:37Z",
                    "channelId": "UCqqJQ_cXSat0KIAVfIfKkVA",
                    "title": "All the teriyaki in Seattle: Bros. 2",
                    "description": "I’m eating at every teriyaki joint in Seattle. Join me!\n\nToday is Bros. 2, a truck in Sodo. \n\n2461 4th Ave S, Seattle, WA 98134\n\nMy Teriyaki Map: https://www.google.com/maps/d/edit?mid=1-nI6enKuURtsnWSO2gl224y74i79hZM&usp=sharing\n\nAn ongoing list of my favorites so far:\n\nNikko  Teriyaki\nhttps://youtu.be/ysEZuCXF_04\n\nRainier Teriyaki\nhttps://youtu.be/Wbtish4P98s\n\nI Love Teriyaki\nhttps://youtu.be/Y4bGqM-QqWs\n\nMikou Teriyaki\nhttps://youtu.be/31SSbqQGlx\n\nKoibito  Teriyaki\nhttps://youtu.be/LUbl6WDab2Y\n\nYummy Teriyaki\nhttps://youtu.be/oGNH9LSS1ak\n\n#alltheteriyaki",
                    "thumbnails": {
                      "default": {
                        "url": "https://i.ytimg.com/vi/2KaLHmT6XMg/default.jpg",
                        "width": 120,
                        "height": 90
                      },
                      "medium": {
                        "url": "https://i.ytimg.com/vi/2KaLHmT6XMg/mqdefault.jpg",
                        "width": 320,
                        "height": 180
                      },
                      "high": {
                        "url": "https://i.ytimg.com/vi/2KaLHmT6XMg/hqdefault.jpg",
                        "width": 480,
                        "height": 360
                      },
                      "standard": {
                        "url": "https://i.ytimg.com/vi/2KaLHmT6XMg/sddefault.jpg",
                        "width": 640,
                        "height": 480
                      },
                      "maxres": {
                        "url": "https://i.ytimg.com/vi/2KaLHmT6XMg/maxresdefault.jpg",
                        "width": 1280,
                        "height": 720
                      }
                    },
                    "channelTitle": "J. Kenji López-Alt",
                    "playlistId": "PLXonhhg5tUSLzIskt_tXUBp4cMstyfMrq",
                    "position": 2,
                    "resourceId": {
                      "kind": "youtube#video",
                      "videoId": "2KaLHmT6XMg"
                    },
                    "videoOwnerChannelTitle": "J. Kenji López-Main",
                    "videoOwnerChannelId": "UCbznjGMPIXKWvJn-4sVFQBw"
                  },
                  "contentDetails": {
                    "videoId": "2KaLHmT6XMg",
                    "videoPublishedAt": "2024-11-17T22:45:24Z"
                  },
                  "status": {
                    "privacyStatus": "public"
                  }
                },
                {
                  "kind": "youtube#playlistItem",
                  "etag": "og9L-rSk1HnAmhPiUN4rmaD3rl8",
                  "id": "UExYb25oaGc1dFVTTHpJc2t0X3RYVUJwNGNNc3R5Zk1ycS41MjE1MkI0OTQ2QzJGNzNG",
                  "snippet": {
                    "publishedAt": "2025-01-26T04:09:41Z",
                    "channelId": "UCqqJQ_cXSat0KIAVfIfKkVA",
                    "title": "All the Teriyaki in Seattle: Yummy Teriyaki in Queen Anne",
                    "description": "I’m eating at every teriyaki joint in Seattle. Join me!\n\nToday is Yummy Teriyaki in Queen Anne, and it’s a great one!\n\n622 1st Ave N, Seattle, WA 98109\n\nMy Teriyaki Map: https://www.google.com/maps/d/edit?mid=1-nI6enKuURtsnWSO2gl224y74i79hZM&usp=sharing\n\nAn ongoing list of my favorites so far:\n\nNikko  Teriyaki\nhttps://youtu.be/ysEZuCXF_04\n\nRainier Teriyaki\nhttps://youtu.be/Wbtish4P98s\n\nI Love Teriyaki\nhttps://youtu.be/Y4bGqM-QqWs\n\nMikou Teriyaki\nhttps://youtu.be/31SSbqQGlx\n\nKoibito  Teriyaki\nhttps://youtu.be/LUbl6WDab2Y\n\nYummy Teriyaki\nhttps://youtu.be/oGNH9LSS1ak\n\n#alltheteriyaki",
                    "thumbnails": {
                      "default": {
                        "url": "https://i.ytimg.com/vi/oGNH9LSS1ak/default.jpg",
                        "width": 120,
                        "height": 90
                      },
                      "medium": {
                        "url": "https://i.ytimg.com/vi/oGNH9LSS1ak/mqdefault.jpg",
                        "width": 320,
                        "height": 180
                      },
                      "high": {
                        "url": "https://i.ytimg.com/vi/oGNH9LSS1ak/hqdefault.jpg",
                        "width": 480,
                        "height": 360
                      },
                      "standard": {
                        "url": "https://i.ytimg.com/vi/oGNH9LSS1ak/sddefault.jpg",
                        "width": 640,
                        "height": 480
                      },
                      "maxres": {
                        "url": "https://i.ytimg.com/vi/oGNH9LSS1ak/maxresdefault.jpg",
                        "width": 1280,
                        "height": 720
                      }
                    },
                    "channelTitle": "J. Kenji López-Alt",
                    "playlistId": "PLXonhhg5tUSLzIskt_tXUBp4cMstyfMrq",
                    "position": 3,
                    "resourceId": {
                      "kind": "youtube#video",
                      "videoId": "oGNH9LSS1ak"
                    },
                    "videoOwnerChannelTitle": "J. Kenji López-Main",
                    "videoOwnerChannelId": "UCbznjGMPIXKWvJn-4sVFQBw"
                  },
                  "contentDetails": {
                    "videoId": "oGNH9LSS1ak",
                    "videoPublishedAt": "2024-11-16T18:52:02Z"
                  },
                  "status": {
                    "privacyStatus": "public"
                  }
                },
                {
                  "kind": "youtube#playlistItem",
                  "etag": "7MuA974hdwUqEnToknOUA8yhaAM",
                  "id": "UExYb25oaGc1dFVTTHpJc2t0X3RYVUJwNGNNc3R5Zk1ycS4wOTA3OTZBNzVEMTUzOTMy",
                  "snippet": {
                    "publishedAt": "2025-01-26T04:09:49Z",
                    "channelId": "UCqqJQ_cXSat0KIAVfIfKkVA",
                    "title": "All the Teriyaki in Seattle, #22: Koibito Teriyaki Downtown",
                    "description": "I’m eating at every teriyaki joint in Seattle. Join me!\n\nStop 22: Koibito Teriyaki\n\n1201 Dexter Ave N, Seattle, WA 98109\n\nMy Teriyaki Map: https://www.google.com/maps/d/edit?mid=1-nI6enKuURtsnWSO2gl224y74i79hZM&usp=sharing\n\nAn ongoing list of my favorites so far:\n\nAll the Teriyaki in Seattle #3:  Nikko  Teriyaki\nhttps://youtu.be/ysEZuCXF_04\nAll the Teriyaki in Seattle #5: Rainier Teriyaki\nhttps://youtu.be/Wbtish4P98s\nAll the Teriyaki in Seattle #11: I Love Teriyaki\nhttps://youtu.be/Y4bGqM-QqWs\nAll the Teriyaki in Seattle #14: Mikou Teriyaki\nhttps://youtu.be/31SSbqQGlxM\nAll the Teriyaki in Seattle #22:  Koitibo  Teriyaki\nhttps://youtu.be/LUbl6WDab2Y\n\n#alltheteriyaki",
                    "thumbnails": {
                      "default": {
                        "url": "https://i.ytimg.com/vi/1f48YuUfn-0/default.jpg",
                        "width": 120,
                        "height": 90
                      },
                      "medium": {
                        "url": "https://i.ytimg.com/vi/1f48YuUfn-0/mqdefault.jpg",
                        "width": 320,
                        "height": 180
                      },
                      "high": {
                        "url": "https://i.ytimg.com/vi/1f48YuUfn-0/hqdefault.jpg",
                        "width": 480,
                        "height": 360
                      },
                      "standard": {
                        "url": "https://i.ytimg.com/vi/1f48YuUfn-0/sddefault.jpg",
                        "width": 640,
                        "height": 480
                      },
                      "maxres": {
                        "url": "https://i.ytimg.com/vi/1f48YuUfn-0/maxresdefault.jpg",
                        "width": 1280,
                        "height": 720
                      }
                    },
                    "channelTitle": "J. Kenji López-Alt",
                    "playlistId": "PLXonhhg5tUSLzIskt_tXUBp4cMstyfMrq",
                    "position": 4,
                    "resourceId": {
                      "kind": "youtube#video",
                      "videoId": "1f48YuUfn-0"
                    },
                    "videoOwnerChannelTitle": "J. Kenji López-Main",
                    "videoOwnerChannelId": "UCbznjGMPIXKWvJn-4sVFQBw"
                  },
                  "contentDetails": {
                    "videoId": "1f48YuUfn-0",
                    "videoPublishedAt": "2024-06-06T13:29:44Z"
                  },
                  "status": {
                    "privacyStatus": "public"
                  }
                },
                {
                  "kind": "youtube#playlistItem",
                  "etag": "_hBP6it04k7ynsHobVy1XgwTKJU",
                  "id": "UExYb25oaGc1dFVTTHpJc2t0X3RYVUJwNGNNc3R5Zk1ycS4xMkVGQjNCMUM1N0RFNEUx",
                  "snippet": {
                    "publishedAt": "2025-01-26T04:10:00Z",
                    "channelId": "UCqqJQ_cXSat0KIAVfIfKkVA",
                    "title": "All the Teriyaki in Seattle #21: Bento World Sushi & Teriyaki (Ft. Phil Rosenthal)",
                    "description": "I’m eating at every teriyaki joint in Seattle. Join me!\n\nStop 21: Bento Worl Sushi & Teriyaki\n\n306 Lenora St, Seattle, WA 98121\n\nMy Teriyaki Map: https://www.google.com/maps/d/edit?mid=1-nI6enKuURtsnWSO2gl224y74i79hZM&usp=sharing\n\nAn ongoing list of my favorites so far:\n\nAll the Teriyaki in Seattle #3:  Nikko  Teriyaki\nhttps://youtu.be/ysEZuCXF_04\nAll the Teriyaki in Seattle #5: Rainier Teriyaki\nhttps://youtu.be/Wbtish4P98s\nAll the Teriyaki in Seattle #11: I Love Teriyaki\nhttps://youtu.be/Y4bGqM-QqWs\nAll the Teriyaki in Seattle #14: Mikou Teriyaki\nhttps://youtu.be/31SSbqQGlxM\n\n#alltheteriyaki",
                    "thumbnails": {
                      "default": {
                        "url": "https://i.ytimg.com/vi/_EzxA-0eT3I/default.jpg",
                        "width": 120,
                        "height": 90
                      },
                      "medium": {
                        "url": "https://i.ytimg.com/vi/_EzxA-0eT3I/mqdefault.jpg",
                        "width": 320,
                        "height": 180
                      },
                      "high": {
                        "url": "https://i.ytimg.com/vi/_EzxA-0eT3I/hqdefault.jpg",
                        "width": 480,
                        "height": 360
                      },
                      "standard": {
                        "url": "https://i.ytimg.com/vi/_EzxA-0eT3I/sddefault.jpg",
                        "width": 640,
                        "height": 480
                      },
                      "maxres": {
                        "url": "https://i.ytimg.com/vi/_EzxA-0eT3I/maxresdefault.jpg",
                        "width": 1280,
                        "height": 720
                      }
                    },
                    "channelTitle": "J. Kenji López-Alt",
                    "playlistId": "PLXonhhg5tUSLzIskt_tXUBp4cMstyfMrq",
                    "position": 5,
                    "resourceId": {
                      "kind": "youtube#video",
                      "videoId": "_EzxA-0eT3I"
                    },
                    "videoOwnerChannelTitle": "J. Kenji López-Main",
                    "videoOwnerChannelId": "UCbznjGMPIXKWvJn-4sVFQBw"
                  },
                  "contentDetails": {
                    "videoId": "_EzxA-0eT3I",
                    "videoPublishedAt": "2024-05-22T18:19:48Z"
                  },
                  "status": {
                    "privacyStatus": "public"
                  }
                },
                {
                  "kind": "youtube#playlistItem",
                  "etag": "g9z84YlBkhUzYn9Q-exMyqNVPDc",
                  "id": "UExYb25oaGc1dFVTTHpJc2t0X3RYVUJwNGNNc3R5Zk1ycS41MzJCQjBCNDIyRkJDN0VD",
                  "snippet": {
                    "publishedAt": "2025-01-26T04:10:07Z",
                    "channelId": "UCqqJQ_cXSat0KIAVfIfKkVA",
                    "title": "All the Teriyaki in Seattle, #20: Midori Teriyaki Downtown",
                    "description": "I’m eating at every teriyaki joint in Seattle. Join me!\n\nStop 20: Midori Teriyaki\n\n1120 Howell St, Seattle, WA 98101\n\nMy Teriyaki Map: https://www.google.com/maps/d/edit?mid=1-nI6enKuURtsnWSO2gl224y74i79hZM&usp=sharing\n\nAn ongoing list of my favorites so far:\n\nAll the Teriyaki in Seattle #3:  Nikko  Teriyaki\nhttps://youtu.be/ysEZuCXF_04\nAll the Teriyaki in Seattle #5: Rainier Teriyaki\nhttps://youtu.be/Wbtish4P98s\nAll the Teriyaki in Seattle #11: I Love Teriyaki\nhttps://youtu.be/Y4bGqM-QqWs\nAll the Teriyaki in Seattle #14: Mikou Teriyaki\nhttps://youtu.be/31SSbqQGlxM\n\n#alltheteriyaki",
                    "thumbnails": {
                      "default": {
                        "url": "https://i.ytimg.com/vi/LUbl6WDab2Y/default.jpg",
                        "width": 120,
                        "height": 90
                      },
                      "medium": {
                        "url": "https://i.ytimg.com/vi/LUbl6WDab2Y/mqdefault.jpg",
                        "width": 320,
                        "height": 180
                      },
                      "high": {
                        "url": "https://i.ytimg.com/vi/LUbl6WDab2Y/hqdefault.jpg",
                        "width": 480,
                        "height": 360
                      },
                      "standard": {
                        "url": "https://i.ytimg.com/vi/LUbl6WDab2Y/sddefault.jpg",
                        "width": 640,
                        "height": 480
                      },
                      "maxres": {
                        "url": "https://i.ytimg.com/vi/LUbl6WDab2Y/maxresdefault.jpg",
                        "width": 1280,
                        "height": 720
                      }
                    },
                    "channelTitle": "J. Kenji López-Alt",
                    "playlistId": "PLXonhhg5tUSLzIskt_tXUBp4cMstyfMrq",
                    "position": 6,
                    "resourceId": {
                      "kind": "youtube#video",
                      "videoId": "LUbl6WDab2Y"
                    },
                    "videoOwnerChannelTitle": "J. Kenji López-Main",
                    "videoOwnerChannelId": "UCbznjGMPIXKWvJn-4sVFQBw"
                  },
                  "contentDetails": {
                    "videoId": "LUbl6WDab2Y",
                    "videoPublishedAt": "2024-05-17T14:00:15Z"
                  },
                  "status": {
                    "privacyStatus": "public"
                  }
                },
                {
                  "kind": "youtube#playlistItem",
                  "etag": "5U7IDNTeR0ULn7PF5bAy5AKzqjc",
                  "id": "UExYb25oaGc1dFVTTHpJc2t0X3RYVUJwNGNNc3R5Zk1ycS5DQUNERDQ2NkIzRUQxNTY1",
                  "snippet": {
                    "publishedAt": "2025-01-26T04:10:18Z",
                    "channelId": "UCqqJQ_cXSat0KIAVfIfKkVA",
                    "title": "All the Teriyaki in Seattle, #19: Nasai Teriyaki in the University District",
                    "description": "I’m eating at every teriyaki joint in Seattle. Join me!\n\nStop 19: Nasai Teriyaki\n\n4305 University Wy NE, Seattle, WA 98105\n\nMy Teriyaki Map: https://www.google.com/maps/d/edit?mid=1-nI6enKuURtsnWSO2gl224y74i79hZM&usp=sharing\n\nAn ongoing list of my favorites so far:\n\nAll the Teriyaki in Seattle #3:  Nikko  Teriyaki\nhttps://youtu.be/ysEZuCXF_04\nAll the Teriyaki in Seattle #5: Rainier Teriyaki\nhttps://youtu.be/Wbtish4P98s\nAll the Teriyaki in Seattle #11: I Love Teriyaki\nhttps://youtu.be/Y4bGqM-QqWs\nAll the Teriyaki in Seattle #14: Mikou Teriyaki\nhttps://youtu.be/31SSbqQGlxM\n\n#alltheteriyaki",
                    "thumbnails": {
                      "default": {
                        "url": "https://i.ytimg.com/vi/CIgsowpYfS0/default.jpg",
                        "width": 120,
                        "height": 90
                      },
                      "medium": {
                        "url": "https://i.ytimg.com/vi/CIgsowpYfS0/mqdefault.jpg",
                        "width": 320,
                        "height": 180
                      },
                      "high": {
                        "url": "https://i.ytimg.com/vi/CIgsowpYfS0/hqdefault.jpg",
                        "width": 480,
                        "height": 360
                      },
                      "standard": {
                        "url": "https://i.ytimg.com/vi/CIgsowpYfS0/sddefault.jpg",
                        "width": 640,
                        "height": 480
                      },
                      "maxres": {
                        "url": "https://i.ytimg.com/vi/CIgsowpYfS0/maxresdefault.jpg",
                        "width": 1280,
                        "height": 720
                      }
                    },
                    "channelTitle": "J. Kenji López-Alt",
                    "playlistId": "PLXonhhg5tUSLzIskt_tXUBp4cMstyfMrq",
                    "position": 7,
                    "resourceId": {
                      "kind": "youtube#video",
                      "videoId": "CIgsowpYfS0"
                    },
                    "videoOwnerChannelTitle": "J. Kenji López-Main",
                    "videoOwnerChannelId": "UCbznjGMPIXKWvJn-4sVFQBw"
                  },
                  "contentDetails": {
                    "videoId": "CIgsowpYfS0",
                    "videoPublishedAt": "2024-04-05T17:48:38Z"
                  },
                  "status": {
                    "privacyStatus": "public"
                  }
                },
                {
                  "kind": "youtube#playlistItem",
                  "etag": "VIvgvtawytLhcWvtz93l-eliKTU",
                  "id": "UExYb25oaGc1dFVTTHpJc2t0X3RYVUJwNGNNc3R5Zk1ycS45NDk1REZENzhEMzU5MDQz",
                  "snippet": {
                    "publishedAt": "2025-01-26T04:10:25Z",
                    "channelId": "UCqqJQ_cXSat0KIAVfIfKkVA",
                    "title": "All the Teriyaki in Seattle, #18: Gourmet Teriyaki on Mercer Island",
                    "description": "I’m eating at every teriyaki joint in Seattle. Join me!\n\nStop 18: Gourmet Teriyaki\n\n7671 SE 27th St, Mercer Island, WA 98040\n\nMy Teriyaki Map: https://www.google.com/maps/d/edit?mid=1-nI6enKuURtsnWSO2gl224y74i79hZM&usp=sharing\n\nAn ongoing list of my favorites so far:\n\nAll the Teriyaki in Seattle #3:  Nikko  Teriyaki\nhttps://youtu.be/ysEZuCXF_04\nAll the Teriyaki in Seattle #5: Rainier Teriyaki\nhttps://youtu.be/Wbtish4P98s\nAll the Teriyaki in Seattle #11: I Love Teriyaki\nhttps://youtu.be/Y4bGqM-QqWs\nAll the Teriyaki in Seattle #14: Mikou Teriyaki\nhttps://youtu.be/31SSbqQGlxM\n\n#alltheteriyaki",
                    "thumbnails": {
                      "default": {
                        "url": "https://i.ytimg.com/vi/J6sUfY7FHD4/default.jpg",
                        "width": 120,
                        "height": 90
                      },
                      "medium": {
                        "url": "https://i.ytimg.com/vi/J6sUfY7FHD4/mqdefault.jpg",
                        "width": 320,
                        "height": 180
                      },
                      "high": {
                        "url": "https://i.ytimg.com/vi/J6sUfY7FHD4/hqdefault.jpg",
                        "width": 480,
                        "height": 360
                      },
                      "standard": {
                        "url": "https://i.ytimg.com/vi/J6sUfY7FHD4/sddefault.jpg",
                        "width": 640,
                        "height": 480
                      },
                      "maxres": {
                        "url": "https://i.ytimg.com/vi/J6sUfY7FHD4/maxresdefault.jpg",
                        "width": 1280,
                        "height": 720
                      }
                    },
                    "channelTitle": "J. Kenji López-Alt",
                    "playlistId": "PLXonhhg5tUSLzIskt_tXUBp4cMstyfMrq",
                    "position": 8,
                    "resourceId": {
                      "kind": "youtube#video",
                      "videoId": "J6sUfY7FHD4"
                    },
                    "videoOwnerChannelTitle": "J. Kenji López-Main",
                    "videoOwnerChannelId": "UCbznjGMPIXKWvJn-4sVFQBw"
                  },
                  "contentDetails": {
                    "videoId": "J6sUfY7FHD4",
                    "videoPublishedAt": "2024-04-03T16:46:45Z"
                  },
                  "status": {
                    "privacyStatus": "public"
                  }
                },
                {
                  "kind": "youtube#playlistItem",
                  "etag": "-gdjrkItT1dcvIDTutpPW8Mr8EU",
                  "id": "UExYb25oaGc1dFVTTHpJc2t0X3RYVUJwNGNNc3R5Zk1ycS5GNjNDRDREMDQxOThCMDQ2",
                  "snippet": {
                    "publishedAt": "2025-01-26T04:10:33Z",
                    "channelId": "UCqqJQ_cXSat0KIAVfIfKkVA",
                    "title": "All the Teriyaki in Seattle, #17: Teriyaki & Wok in Capitol Hill",
                    "description": "I’m eating at every teriyaki joint in Seattle. Join me!\n\nStop 17: Teriyaki & Wok\n\n324 Broadway E, Seattle, WA 98102\n\nMy Teriyaki Map: https://www.google.com/maps/d/edit?mid=1-nI6enKuURtsnWSO2gl224y74i79hZM&usp=sharing\n\nAn ongoing list of my favorites so far:\n\nAll the Teriyaki in Seattle #3:  Nikko  Teriyaki\nhttps://youtu.be/ysEZuCXF_04\nAll the Teriyaki in Seattle #5: Rainier Teriyaki\nhttps://youtu.be/Wbtish4P98s\nAll the Teriyaki in Seattle #11: I Love Teriyaki\nhttps://youtu.be/Y4bGqM-QqWs\nAll the Teriyaki in Seattle #14: Mikou Teriyaki\nhttps://youtu.be/31SSbqQGlxM\n\n#alltheteriyaki",
                    "thumbnails": {
                      "default": {
                        "url": "https://i.ytimg.com/vi/o7n-ch5tdi8/default.jpg",
                        "width": 120,
                        "height": 90
                      },
                      "medium": {
                        "url": "https://i.ytimg.com/vi/o7n-ch5tdi8/mqdefault.jpg",
                        "width": 320,
                        "height": 180
                      },
                      "high": {
                        "url": "https://i.ytimg.com/vi/o7n-ch5tdi8/hqdefault.jpg",
                        "width": 480,
                        "height": 360
                      },
                      "standard": {
                        "url": "https://i.ytimg.com/vi/o7n-ch5tdi8/sddefault.jpg",
                        "width": 640,
                        "height": 480
                      },
                      "maxres": {
                        "url": "https://i.ytimg.com/vi/o7n-ch5tdi8/maxresdefault.jpg",
                        "width": 1280,
                        "height": 720
                      }
                    },
                    "channelTitle": "J. Kenji López-Alt",
                    "playlistId": "PLXonhhg5tUSLzIskt_tXUBp4cMstyfMrq",
                    "position": 9,
                    "resourceId": {
                      "kind": "youtube#video",
                      "videoId": "o7n-ch5tdi8"
                    },
                    "videoOwnerChannelTitle": "J. Kenji López-Main",
                    "videoOwnerChannelId": "UCbznjGMPIXKWvJn-4sVFQBw"
                  },
                  "contentDetails": {
                    "videoId": "o7n-ch5tdi8",
                    "videoPublishedAt": "2024-03-29T14:00:41Z"
                  },
                  "status": {
                    "privacyStatus": "public"
                  }
                },
                {
                  "kind": "youtube#playlistItem",
                  "etag": "lzqqLmfPm5QA_f3k6cxGx6ungFM",
                  "id": "UExYb25oaGc1dFVTTHpJc2t0X3RYVUJwNGNNc3R5Zk1ycS40NzZCMERDMjVEN0RFRThB",
                  "snippet": {
                    "publishedAt": "2025-01-26T04:10:38Z",
                    "channelId": "UCqqJQ_cXSat0KIAVfIfKkVA",
                    "title": "All the Teriyaki in Seattle, #16: Fremont Bowl in Fremont",
                    "description": "I’m eating at every teriyaki joint in Seattle. Join me!\n\nStop 16: Fremont Bowl\n\n4258 Fremont Ave N Ste #4262, Seattle, WA 98103\n\nMy Teriyaki Map: https://www.google.com/maps/d/edit?mid=1-nI6enKuURtsnWSO2gl224y74i79hZM&usp=sharing\n\nAn ongoing list of my favorites so far:\n\nAll the Teriyaki in Seattle #3:  Nikko  Teriyaki\nhttps://youtu.be/ysEZuCXF_04\nAll the Teriyaki in Seattle #5: Rainier Teriyaki\nhttps://youtu.be/Wbtish4P98s\nAll the Teriyaki in Seattle #11: I Love Teriyaki\nhttps://youtu.be/Y4bGqM-QqWs\nAll the Teriyaki in Seattle #14: Mikou Teriyaki\nhttps://youtu.be/31SSbqQGlxM\n\n#alltheteriyaki",
                    "thumbnails": {
                      "default": {
                        "url": "https://i.ytimg.com/vi/6AW9tIAHUXg/default.jpg",
                        "width": 120,
                        "height": 90
                      },
                      "medium": {
                        "url": "https://i.ytimg.com/vi/6AW9tIAHUXg/mqdefault.jpg",
                        "width": 320,
                        "height": 180
                      },
                      "high": {
                        "url": "https://i.ytimg.com/vi/6AW9tIAHUXg/hqdefault.jpg",
                        "width": 480,
                        "height": 360
                      },
                      "standard": {
                        "url": "https://i.ytimg.com/vi/6AW9tIAHUXg/sddefault.jpg",
                        "width": 640,
                        "height": 480
                      },
                      "maxres": {
                        "url": "https://i.ytimg.com/vi/6AW9tIAHUXg/maxresdefault.jpg",
                        "width": 1280,
                        "height": 720
                      }
                    },
                    "channelTitle": "J. Kenji López-Alt",
                    "playlistId": "PLXonhhg5tUSLzIskt_tXUBp4cMstyfMrq",
                    "position": 10,
                    "resourceId": {
                      "kind": "youtube#video",
                      "videoId": "6AW9tIAHUXg"
                    },
                    "videoOwnerChannelTitle": "J. Kenji López-Main",
                    "videoOwnerChannelId": "UCbznjGMPIXKWvJn-4sVFQBw"
                  },
                  "contentDetails": {
                    "videoId": "6AW9tIAHUXg",
                    "videoPublishedAt": "2024-03-28T16:58:28Z"
                  },
                  "status": {
                    "privacyStatus": "public"
                  }
                },
                {
                  "kind": "youtube#playlistItem",
                  "etag": "72Ple7wg0xcHV59pWL0_p6incTc",
                  "id": "UExYb25oaGc1dFVTTHpJc2t0X3RYVUJwNGNNc3R5Zk1ycS5EMEEwRUY5M0RDRTU3NDJC",
                  "snippet": {
                    "publishedAt": "2025-01-26T04:10:42Z",
                    "channelId": "UCqqJQ_cXSat0KIAVfIfKkVA",
                    "title": "All the Teriyaki in Seattle, #15: Toshio's Teriyaki in Beacon Hill",
                    "description": "I’m eating at every teriyaki joint in Seattle. Join me!\n\nStop 15: Toshio's Teriyaki\n\n1706 Rainier Ave S, Seattle, WA 98144\n\nMy Teriyaki Map: https://www.google.com/maps/d/edit?mid=1-nI6enKuURtsnWSO2gl224y74i79hZM&usp=sharing\n\nAn ongoing list of my favorites so far:\n\nAll the Teriyaki in Seattle #3:  Nikko  Teriyaki\nhttps://youtu.be/ysEZuCXF_04\nAll the Teriyaki in Seattle #5: Rainier Teriyaki\nhttps://youtu.be/Wbtish4P98s\nAll the Teriyaki in Seattle #11: I Love Teriyaki\nhttps://youtu.be/Y4bGqM-QqWs\nAll the Teriyaki in Seattle #14: Mikou Teriyaki\nhttps://youtu.be/31SSbqQGlxM\n\n#alltheteriyaki",
                    "thumbnails": {
                      "default": {
                        "url": "https://i.ytimg.com/vi/QJjpXEzjVNQ/default.jpg",
                        "width": 120,
                        "height": 90
                      },
                      "medium": {
                        "url": "https://i.ytimg.com/vi/QJjpXEzjVNQ/mqdefault.jpg",
                        "width": 320,
                        "height": 180
                      },
                      "high": {
                        "url": "https://i.ytimg.com/vi/QJjpXEzjVNQ/hqdefault.jpg",
                        "width": 480,
                        "height": 360
                      },
                      "standard": {
                        "url": "https://i.ytimg.com/vi/QJjpXEzjVNQ/sddefault.jpg",
                        "width": 640,
                        "height": 480
                      },
                      "maxres": {
                        "url": "https://i.ytimg.com/vi/QJjpXEzjVNQ/maxresdefault.jpg",
                        "width": 1280,
                        "height": 720
                      }
                    },
                    "channelTitle": "J. Kenji López-Alt",
                    "playlistId": "PLXonhhg5tUSLzIskt_tXUBp4cMstyfMrq",
                    "position": 11,
                    "resourceId": {
                      "kind": "youtube#video",
                      "videoId": "QJjpXEzjVNQ"
                    },
                    "videoOwnerChannelTitle": "J. Kenji López-Main",
                    "videoOwnerChannelId": "UCbznjGMPIXKWvJn-4sVFQBw"
                  },
                  "contentDetails": {
                    "videoId": "QJjpXEzjVNQ",
                    "videoPublishedAt": "2024-03-26T18:00:21Z"
                  },
                  "status": {
                    "privacyStatus": "public"
                  }
                },
                {
                  "kind": "youtube#playlistItem",
                  "etag": "VKaSHlc--s3SwzwYiurRgjn9mwo",
                  "id": "UExYb25oaGc1dFVTTHpJc2t0X3RYVUJwNGNNc3R5Zk1ycS45ODRDNTg0QjA4NkFBNkQy",
                  "snippet": {
                    "publishedAt": "2025-01-26T04:10:48Z",
                    "channelId": "UCqqJQ_cXSat0KIAVfIfKkVA",
                    "title": "All the Teriyaki in Seattle, #14 Mikou Teriyaki in Georgetown",
                    "description": "I’m eating at every teriyaki joint in Seattle. Join me!\n\nStop 14: Mikou Teriyaki\n\n6519 4th Ave S, Seattle, WA 98108\n\nMy Teriyaki Map: https://www.google.com/maps/d/edit?mid=1-nI6enKuURtsnWSO2gl224y74i79hZM&usp=sharing\n\nAn ongoing list of my favorites so far:\n\nAll the Teriyaki in Seattle #3:  Nikko  Teriyaki\nhttps://youtu.be/ysEZuCXF_04\nAll the Teriyaki in Seattle #5: Rainier Teriyaki\nhttps://youtu.be/Wbtish4P98s\nAll the Teriyaki in Seattle #11: I Love Teriyaki\nhttps://youtu.be/Y4bGqM-QqWs\nAll the Teriyaki in Seattle #14: Mikou Teriyaki\nhttps://youtu.be/31SSbqQGlxM\n\n#alltheteriyaki",
                    "thumbnails": {
                      "default": {
                        "url": "https://i.ytimg.com/vi/31SSbqQGlxM/default.jpg",
                        "width": 120,
                        "height": 90
                      },
                      "medium": {
                        "url": "https://i.ytimg.com/vi/31SSbqQGlxM/mqdefault.jpg",
                        "width": 320,
                        "height": 180
                      },
                      "high": {
                        "url": "https://i.ytimg.com/vi/31SSbqQGlxM/hqdefault.jpg",
                        "width": 480,
                        "height": 360
                      },
                      "standard": {
                        "url": "https://i.ytimg.com/vi/31SSbqQGlxM/sddefault.jpg",
                        "width": 640,
                        "height": 480
                      },
                      "maxres": {
                        "url": "https://i.ytimg.com/vi/31SSbqQGlxM/maxresdefault.jpg",
                        "width": 1280,
                        "height": 720
                      }
                    },
                    "channelTitle": "J. Kenji López-Alt",
                    "playlistId": "PLXonhhg5tUSLzIskt_tXUBp4cMstyfMrq",
                    "position": 12,
                    "resourceId": {
                      "kind": "youtube#video",
                      "videoId": "31SSbqQGlxM"
                    },
                    "videoOwnerChannelTitle": "J. Kenji López-Main",
                    "videoOwnerChannelId": "UCbznjGMPIXKWvJn-4sVFQBw"
                  },
                  "contentDetails": {
                    "videoId": "31SSbqQGlxM",
                    "videoPublishedAt": "2024-03-25T18:04:05Z"
                  },
                  "status": {
                    "privacyStatus": "public"
                  }
                },
                {
                  "kind": "youtube#playlistItem",
                  "etag": "bAmrKnzf9THvvXFD6RfVE0yX2i8",
                  "id": "UExYb25oaGc1dFVTTHpJc2t0X3RYVUJwNGNNc3R5Zk1ycS4zMDg5MkQ5MEVDMEM1NTg2",
                  "snippet": {
                    "publishedAt": "2025-01-26T04:10:53Z",
                    "channelId": "UCqqJQ_cXSat0KIAVfIfKkVA",
                    "title": "All the Teriyaki in Seattle, #13: Shodai Teriyaki in the Central District",
                    "description": "I’m eating at every teriyaki joint in Seattle. Join me!\n\nStop 13: Shodai Teriyaki\n\n1123 Martin Luther King Jr Way, Seattle, WA 98122\n\nMy Teriyaki Map: https://www.google.com/maps/d/edit?mid=1-nI6enKuURtsnWSO2gl224y74i79hZM&usp=sharing\n\nAn ongoing list of my favorites so far:\n\nAll the Teriyaki in Seattle #3:  Nikko  Teriyaki\nhttps://youtu.be/ysEZuCXF_04\nAll the Teriyaki in Seattle #5: Rainier Teriyaki\nhttps://youtu.be/Wbtish4P98s\nAll the Teriyaki in Seattle #11: I Love Teriyaki\nhttps://youtu.be/Y4bGqM-QqWs\n\n#alltheteriyaki",
                    "thumbnails": {
                      "default": {
                        "url": "https://i.ytimg.com/vi/6nFKCWrF_N8/default.jpg",
                        "width": 120,
                        "height": 90
                      },
                      "medium": {
                        "url": "https://i.ytimg.com/vi/6nFKCWrF_N8/mqdefault.jpg",
                        "width": 320,
                        "height": 180
                      },
                      "high": {
                        "url": "https://i.ytimg.com/vi/6nFKCWrF_N8/hqdefault.jpg",
                        "width": 480,
                        "height": 360
                      },
                      "standard": {
                        "url": "https://i.ytimg.com/vi/6nFKCWrF_N8/sddefault.jpg",
                        "width": 640,
                        "height": 480
                      },
                      "maxres": {
                        "url": "https://i.ytimg.com/vi/6nFKCWrF_N8/maxresdefault.jpg",
                        "width": 1280,
                        "height": 720
                      }
                    },
                    "channelTitle": "J. Kenji López-Alt",
                    "playlistId": "PLXonhhg5tUSLzIskt_tXUBp4cMstyfMrq",
                    "position": 13,
                    "resourceId": {
                      "kind": "youtube#video",
                      "videoId": "6nFKCWrF_N8"
                    },
                    "videoOwnerChannelTitle": "J. Kenji López-Main",
                    "videoOwnerChannelId": "UCbznjGMPIXKWvJn-4sVFQBw"
                  },
                  "contentDetails": {
                    "videoId": "6nFKCWrF_N8",
                    "videoPublishedAt": "2024-03-22T14:00:05Z"
                  },
                  "status": {
                    "privacyStatus": "public"
                  }
                },
                {
                  "kind": "youtube#playlistItem",
                  "etag": "DlLAEodgSueO82zYhxXWXIf1lqI",
                  "id": "UExYb25oaGc1dFVTTHpJc2t0X3RYVUJwNGNNc3R5Zk1ycS41Mzk2QTAxMTkzNDk4MDhF",
                  "snippet": {
                    "publishedAt": "2025-01-26T04:10:58Z",
                    "channelId": "UCqqJQ_cXSat0KIAVfIfKkVA",
                    "title": "All the Teriyaki in Seattle, #12: Teriyaki Bowl in Montlake",
                    "description": "I’m eating at every teriyaki joint in Seattle. Join me!\n\nStop 12: Teriyaki Bowl\n\n3121 E Madison St #100\n\nMy Teriyaki Map: https://maps.app.goo.gl/YCr8A2ZomhMKyme78\n\nAn ongoing list of my favorites so far:\n\nAll the Teriyaki in Seattle #3:  Nikko  Teriyaki\nhttps://youtu.be/ysEZuCXF_04\nAll the Teriyaki in Seattle #5: Rainier Teriyaki\nhttps://youtu.be/Wbtish4P98s\nAll the Teriyaki in Seattle #11: I Love Teriyaki\nhttps://youtu.be/Y4bGqM-QqWs\n\n#alltheteriyaki",
                    "thumbnails": {
                      "default": {
                        "url": "https://i.ytimg.com/vi/35DToZpqJXY/default.jpg",
                        "width": 120,
                        "height": 90
                      },
                      "medium": {
                        "url": "https://i.ytimg.com/vi/35DToZpqJXY/mqdefault.jpg",
                        "width": 320,
                        "height": 180
                      },
                      "high": {
                        "url": "https://i.ytimg.com/vi/35DToZpqJXY/hqdefault.jpg",
                        "width": 480,
                        "height": 360
                      },
                      "standard": {
                        "url": "https://i.ytimg.com/vi/35DToZpqJXY/sddefault.jpg",
                        "width": 640,
                        "height": 480
                      },
                      "maxres": {
                        "url": "https://i.ytimg.com/vi/35DToZpqJXY/maxresdefault.jpg",
                        "width": 1280,
                        "height": 720
                      }
                    },
                    "channelTitle": "J. Kenji López-Alt",
                    "playlistId": "PLXonhhg5tUSLzIskt_tXUBp4cMstyfMrq",
                    "position": 14,
                    "resourceId": {
                      "kind": "youtube#video",
                      "videoId": "35DToZpqJXY"
                    },
                    "videoOwnerChannelTitle": "J. Kenji López-Main",
                    "videoOwnerChannelId": "UCbznjGMPIXKWvJn-4sVFQBw"
                  },
                  "contentDetails": {
                    "videoId": "35DToZpqJXY",
                    "videoPublishedAt": "2024-03-21T13:00:04Z"
                  },
                  "status": {
                    "privacyStatus": "public"
                  }
                },
                {
                  "kind": "youtube#playlistItem",
                  "etag": "uiQW2GzLajsBc5CAHPeMhsUmrGg",
                  "id": "UExYb25oaGc1dFVTTHpJc2t0X3RYVUJwNGNNc3R5Zk1ycS5EQUE1NTFDRjcwMDg0NEMz",
                  "snippet": {
                    "publishedAt": "2025-01-26T04:11:03Z",
                    "channelId": "UCqqJQ_cXSat0KIAVfIfKkVA",
                    "title": "All the Teriyaki in Seattle, #11: i Love Teriyaki in Fremont",
                    "description": "I’m eating at every teriyaki joint in Seattle. Join me!\n\nStop 11: I Love Teriyaki\n\n3409 Stone Way N, Seattle, WA 98103\n\nAn ongoing list of my favorites so far:\n\nThis one makes the cut!\n\nAll the Teriyaki in Seattle #3:  Nikko  Teriyaki\nhttps://youtu.be/ysEZuCXF_04\n\nAll the Teriyaki in Seattle #5: Rainier Teriyaki\nhttps://youtu.be/Wbtish4P98s\n\n#alltheteriyaki",
                    "thumbnails": {
                      "default": {
                        "url": "https://i.ytimg.com/vi/Y4bGqM-QqWs/default.jpg",
                        "width": 120,
                        "height": 90
                      },
                      "medium": {
                        "url": "https://i.ytimg.com/vi/Y4bGqM-QqWs/mqdefault.jpg",
                        "width": 320,
                        "height": 180
                      },
                      "high": {
                        "url": "https://i.ytimg.com/vi/Y4bGqM-QqWs/hqdefault.jpg",
                        "width": 480,
                        "height": 360
                      },
                      "standard": {
                        "url": "https://i.ytimg.com/vi/Y4bGqM-QqWs/sddefault.jpg",
                        "width": 640,
                        "height": 480
                      },
                      "maxres": {
                        "url": "https://i.ytimg.com/vi/Y4bGqM-QqWs/maxresdefault.jpg",
                        "width": 1280,
                        "height": 720
                      }
                    },
                    "channelTitle": "J. Kenji López-Alt",
                    "playlistId": "PLXonhhg5tUSLzIskt_tXUBp4cMstyfMrq",
                    "position": 15,
                    "resourceId": {
                      "kind": "youtube#video",
                      "videoId": "Y4bGqM-QqWs"
                    },
                    "videoOwnerChannelTitle": "J. Kenji López-Main",
                    "videoOwnerChannelId": "UCbznjGMPIXKWvJn-4sVFQBw"
                  },
                  "contentDetails": {
                    "videoId": "Y4bGqM-QqWs",
                    "videoPublishedAt": "2024-03-20T14:48:01Z"
                  },
                  "status": {
                    "privacyStatus": "public"
                  }
                },
                {
                  "kind": "youtube#playlistItem",
                  "etag": "0ptZXo9LhR-G2LmhOjf3npbK0yw",
                  "id": "UExYb25oaGc1dFVTTHpJc2t0X3RYVUJwNGNNc3R5Zk1ycS41QTY1Q0UxMTVCODczNThE",
                  "snippet": {
                    "publishedAt": "2025-01-26T04:11:10Z",
                    "channelId": "UCqqJQ_cXSat0KIAVfIfKkVA",
                    "title": "All the Teriyaki in Seattle #10: Moli Bento on Capitol Hill",
                    "description": "I’m eating at every teriyaki joint in Seattle. Join me!\n\nStop 10: Moli Bento\n\n316 15th Ave E, Seattle, WA 98112\n\nMy Teriyaki Map: https://maps.app.goo.gl/YCr8A2ZomhMKyme78\n\nAn ongoing list of my favorites so far:\n\nAll the Teriyaki in Seattle #3:  Nikko  Teriyaki\nhttps://youtu.be/ysEZuCXF_04\n\nAll the Teriyaki in Seattle #5: Rainier Teriyaki\nhttps://youtu.be/Wbtish4P98s\n\n#alltheteriyaki",
                    "thumbnails": {
                      "default": {
                        "url": "https://i.ytimg.com/vi/hzLZs7g3P-4/default.jpg",
                        "width": 120,
                        "height": 90
                      },
                      "medium": {
                        "url": "https://i.ytimg.com/vi/hzLZs7g3P-4/mqdefault.jpg",
                        "width": 320,
                        "height": 180
                      },
                      "high": {
                        "url": "https://i.ytimg.com/vi/hzLZs7g3P-4/hqdefault.jpg",
                        "width": 480,
                        "height": 360
                      },
                      "standard": {
                        "url": "https://i.ytimg.com/vi/hzLZs7g3P-4/sddefault.jpg",
                        "width": 640,
                        "height": 480
                      },
                      "maxres": {
                        "url": "https://i.ytimg.com/vi/hzLZs7g3P-4/maxresdefault.jpg",
                        "width": 1280,
                        "height": 720
                      }
                    },
                    "channelTitle": "J. Kenji López-Alt",
                    "playlistId": "PLXonhhg5tUSLzIskt_tXUBp4cMstyfMrq",
                    "position": 16,
                    "resourceId": {
                      "kind": "youtube#video",
                      "videoId": "hzLZs7g3P-4"
                    },
                    "videoOwnerChannelTitle": "J. Kenji López-Main",
                    "videoOwnerChannelId": "UCbznjGMPIXKWvJn-4sVFQBw"
                  },
                  "contentDetails": {
                    "videoId": "hzLZs7g3P-4",
                    "videoPublishedAt": "2024-03-19T13:00:40Z"
                  },
                  "status": {
                    "privacyStatus": "public"
                  }
                },
                {
                  "kind": "youtube#playlistItem",
                  "etag": "wSvg92ezi5Xj8z5rZaFkLkIaf5Y",
                  "id": "UExYb25oaGc1dFVTTHpJc2t0X3RYVUJwNGNNc3R5Zk1ycS4yMUQyQTQzMjRDNzMyQTMy",
                  "snippet": {
                    "publishedAt": "2025-01-26T04:11:20Z",
                    "channelId": "UCqqJQ_cXSat0KIAVfIfKkVA",
                    "title": "All the Teriyaki in Seattle #9: Yoshino Teriyaki, Ft. Eric Kim",
                    "description": "It’s an All the Teriyaki in Seattle special, Ft. @ericjoonho \n\nStop 9: Yoshino Teriyaki\n\n1010 Madison St, Seattle, WA 98104\n\nMy Teriyaki Map: https://maps.app.goo.gl/YCr8A2ZomhMKyme78\n\nAn ongoing list of my favorites so far:\n\nAll the Teriyaki in Seattle #3:  Nikko  Teriyaki\nhttps://youtu.be/ysEZuCXF_04\n\nAll the Teriyaki in Seattle #5: Rainier Teriyaki\nhttps://youtu.be/Wbtish4P98s\n\n#alltheteriyaki",
                    "thumbnails": {
                      "default": {
                        "url": "https://i.ytimg.com/vi/eNjv3A_pd2M/default.jpg",
                        "width": 120,
                        "height": 90
                      },
                      "medium": {
                        "url": "https://i.ytimg.com/vi/eNjv3A_pd2M/mqdefault.jpg",
                        "width": 320,
                        "height": 180
                      },
                      "high": {
                        "url": "https://i.ytimg.com/vi/eNjv3A_pd2M/hqdefault.jpg",
                        "width": 480,
                        "height": 360
                      },
                      "standard": {
                        "url": "https://i.ytimg.com/vi/eNjv3A_pd2M/sddefault.jpg",
                        "width": 640,
                        "height": 480
                      },
                      "maxres": {
                        "url": "https://i.ytimg.com/vi/eNjv3A_pd2M/maxresdefault.jpg",
                        "width": 1280,
                        "height": 720
                      }
                    },
                    "channelTitle": "J. Kenji López-Alt",
                    "playlistId": "PLXonhhg5tUSLzIskt_tXUBp4cMstyfMrq",
                    "position": 17,
                    "resourceId": {
                      "kind": "youtube#video",
                      "videoId": "eNjv3A_pd2M"
                    },
                    "videoOwnerChannelTitle": "J. Kenji López-Main",
                    "videoOwnerChannelId": "UCbznjGMPIXKWvJn-4sVFQBw"
                  },
                  "contentDetails": {
                    "videoId": "eNjv3A_pd2M",
                    "videoPublishedAt": "2024-03-18T13:00:38Z"
                  },
                  "status": {
                    "privacyStatus": "public"
                  }
                },
                {
                  "kind": "youtube#playlistItem",
                  "etag": "gB7K14vbEKvTsACHGl30S1ZUi9w",
                  "id": "UExYb25oaGc1dFVTTHpJc2t0X3RYVUJwNGNNc3R5Zk1ycS45RTgxNDRBMzUwRjQ0MDhC",
                  "snippet": {
                    "publishedAt": "2025-01-26T04:11:30Z",
                    "channelId": "UCqqJQ_cXSat0KIAVfIfKkVA",
                    "title": "All the Teriyaki in Seattle #8: Okinawa Teriyaki",
                    "description": "All the Teriyaki in Seattle, #8: Okinawa Teriyaki\n\n1100 Western Ave, Seattle, WA 98101\n\nMy Teriyaki Map: https://maps.app.goo.gl/YCr8A2ZomhMKyme78\n\nAn ongoing list of my favorites so far:\n\nAll the Teriyaki in Seattle #3:  Nikko  Teriyaki\nhttps://youtu.be/ysEZuCXF_04\n\nAll the Teriyaki in Seattle #5: Rainier Teriyaki\nhttps://youtu.be/Wbtish4P98s\n\n#alltheteriyaki",
                    "thumbnails": {
                      "default": {
                        "url": "https://i.ytimg.com/vi/ozGdp8a-mLM/default.jpg",
                        "width": 120,
                        "height": 90
                      },
                      "medium": {
                        "url": "https://i.ytimg.com/vi/ozGdp8a-mLM/mqdefault.jpg",
                        "width": 320,
                        "height": 180
                      },
                      "high": {
                        "url": "https://i.ytimg.com/vi/ozGdp8a-mLM/hqdefault.jpg",
                        "width": 480,
                        "height": 360
                      },
                      "standard": {
                        "url": "https://i.ytimg.com/vi/ozGdp8a-mLM/sddefault.jpg",
                        "width": 640,
                        "height": 480
                      },
                      "maxres": {
                        "url": "https://i.ytimg.com/vi/ozGdp8a-mLM/maxresdefault.jpg",
                        "width": 1280,
                        "height": 720
                      }
                    },
                    "channelTitle": "J. Kenji López-Alt",
                    "playlistId": "PLXonhhg5tUSLzIskt_tXUBp4cMstyfMrq",
                    "position": 18,
                    "resourceId": {
                      "kind": "youtube#video",
                      "videoId": "ozGdp8a-mLM"
                    },
                    "videoOwnerChannelTitle": "J. Kenji López-Main",
                    "videoOwnerChannelId": "UCbznjGMPIXKWvJn-4sVFQBw"
                  },
                  "contentDetails": {
                    "videoId": "ozGdp8a-mLM",
                    "videoPublishedAt": "2024-03-15T13:00:45Z"
                  },
                  "status": {
                    "privacyStatus": "public"
                  }
                },
                {
                  "kind": "youtube#playlistItem",
                  "etag": "CGERu-FhwLDB5AplwmDNykbs0uo",
                  "id": "UExYb25oaGc1dFVTTHpJc2t0X3RYVUJwNGNNc3R5Zk1ycS5ENDU4Q0M4RDExNzM1Mjcy",
                  "snippet": {
                    "publishedAt": "2025-01-26T04:11:35Z",
                    "channelId": "UCqqJQ_cXSat0KIAVfIfKkVA",
                    "title": "All the Teriyaki in Seattle #7: Palmi",
                    "description": "I’m checking out literally all the teriyaki in Seattle.\n\nToday is stop #7: Palmi\n\n3424 Fremont Ave N, Seattle, WA 98103\n\nMy Teriyaki Map: https://maps.app.goo.gl/YCr8A2ZomhMKyme78\n\nAn ongoing list of my favorites so far:\n\nAll the Teriyaki in Seattle #3:  Nikko  Teriyaki\nhttps://youtu.be/ysEZuCXF_04\n\nAll the Teriyaki in Seattle #5: Rainier Teriyaki\nhttps://youtu.be/Wbtish4P98s\n\n#alltheteriyaki",
                    "thumbnails": {
                      "default": {
                        "url": "https://i.ytimg.com/vi/WrZ14kzuyK8/default.jpg",
                        "width": 120,
                        "height": 90
                      },
                      "medium": {
                        "url": "https://i.ytimg.com/vi/WrZ14kzuyK8/mqdefault.jpg",
                        "width": 320,
                        "height": 180
                      },
                      "high": {
                        "url": "https://i.ytimg.com/vi/WrZ14kzuyK8/hqdefault.jpg",
                        "width": 480,
                        "height": 360
                      },
                      "standard": {
                        "url": "https://i.ytimg.com/vi/WrZ14kzuyK8/sddefault.jpg",
                        "width": 640,
                        "height": 480
                      },
                      "maxres": {
                        "url": "https://i.ytimg.com/vi/WrZ14kzuyK8/maxresdefault.jpg",
                        "width": 1280,
                        "height": 720
                      }
                    },
                    "channelTitle": "J. Kenji López-Alt",
                    "playlistId": "PLXonhhg5tUSLzIskt_tXUBp4cMstyfMrq",
                    "position": 19,
                    "resourceId": {
                      "kind": "youtube#video",
                      "videoId": "WrZ14kzuyK8"
                    },
                    "videoOwnerChannelTitle": "J. Kenji López-Main",
                    "videoOwnerChannelId": "UCbznjGMPIXKWvJn-4sVFQBw"
                  },
                  "contentDetails": {
                    "videoId": "WrZ14kzuyK8",
                    "videoPublishedAt": "2024-03-14T14:08:22Z"
                  },
                  "status": {
                    "privacyStatus": "public"
                  }
                },
                {
                  "kind": "youtube#playlistItem",
                  "etag": "2Th7lbVWHXC06W-EMjdo1ypsNL8",
                  "id": "UExYb25oaGc1dFVTTHpJc2t0X3RYVUJwNGNNc3R5Zk1ycS4yMDhBMkNBNjRDMjQxQTg1",
                  "snippet": {
                    "publishedAt": "2025-01-26T04:11:40Z",
                    "channelId": "UCqqJQ_cXSat0KIAVfIfKkVA",
                    "title": "All the Teriyaki in Seattle #6: O-Maki North Capitol Hill",
                    "description": "I’m going to every teriyaki shop in Seattle. Join me!\n\nStop 6: O-Maki in North Capitol Hill\n\n2357 10th Ave E, Seattle, WA 98102\n\nMy Teriyaki Map: https://maps.app.goo.gl/YCr8A2ZomhMKyme78\n\nAn ongoing list of my favorites so far:\n\nAll the Teriyaki in Seattle #3:  Nikko  Teriyaki\nhttps://youtu.be/ysEZuCXF_04\n\nAll the Teriyaki in Seattle #5: Rainier Teriyaki\nhttps://youtu.be/Wbtish4P98s\n\n#alltheteriyaki",
                    "thumbnails": {
                      "default": {
                        "url": "https://i.ytimg.com/vi/zYY0b8n0COc/default.jpg",
                        "width": 120,
                        "height": 90
                      },
                      "medium": {
                        "url": "https://i.ytimg.com/vi/zYY0b8n0COc/mqdefault.jpg",
                        "width": 320,
                        "height": 180
                      },
                      "high": {
                        "url": "https://i.ytimg.com/vi/zYY0b8n0COc/hqdefault.jpg",
                        "width": 480,
                        "height": 360
                      },
                      "standard": {
                        "url": "https://i.ytimg.com/vi/zYY0b8n0COc/sddefault.jpg",
                        "width": 640,
                        "height": 480
                      },
                      "maxres": {
                        "url": "https://i.ytimg.com/vi/zYY0b8n0COc/maxresdefault.jpg",
                        "width": 1280,
                        "height": 720
                      }
                    },
                    "channelTitle": "J. Kenji López-Alt",
                    "playlistId": "PLXonhhg5tUSLzIskt_tXUBp4cMstyfMrq",
                    "position": 20,
                    "resourceId": {
                      "kind": "youtube#video",
                      "videoId": "zYY0b8n0COc"
                    },
                    "videoOwnerChannelTitle": "J. Kenji López-Main",
                    "videoOwnerChannelId": "UCbznjGMPIXKWvJn-4sVFQBw"
                  },
                  "contentDetails": {
                    "videoId": "zYY0b8n0COc",
                    "videoPublishedAt": "2024-03-13T21:30:39Z"
                  },
                  "status": {
                    "privacyStatus": "public"
                  }
                },
                {
                  "kind": "youtube#playlistItem",
                  "etag": "GZ8gLbJTcAoa-Qeg0PcpqaeUPLQ",
                  "id": "UExYb25oaGc1dFVTTHpJc2t0X3RYVUJwNGNNc3R5Zk1ycS5GM0Q3M0MzMzY5NTJFNTdE",
                  "snippet": {
                    "publishedAt": "2025-01-26T04:11:49Z",
                    "channelId": "UCqqJQ_cXSat0KIAVfIfKkVA",
                    "title": "All the Teriyaki in Seattle #5: Rainier Teriyaki",
                    "description": "I’m going to every teriyaki shop in Seattle. Join me!I found out after posting this that the owner of Rainier Teriyaki was shot and killed in a robbery last year. All the more reason to support his family who continue to run the restaurant.\n\nStop 5: Rainier Teriyaki in Columbia City3330 Rainier Ave S Ste A, Seattle, WA\n\nMy Teriyaki Map: https://maps.app.goo.gl/YCr8A2ZomhMKyme78\n\nAn ongoing list of my favorites so far:\n\nAll the Teriyaki in Seattle #3:  Nikko  Teriyaki\nhttps://youtu.be/ysEZuCXF_04\n\nAll the Teriyaki in Seattle #5: Rainier Teriyaki\nhttps://youtu.be/Wbtish4P98s\n\n#alltheteriyaki",
                    "thumbnails": {
                      "default": {
                        "url": "https://i.ytimg.com/vi/Wbtish4P98s/default.jpg",
                        "width": 120,
                        "height": 90
                      },
                      "medium": {
                        "url": "https://i.ytimg.com/vi/Wbtish4P98s/mqdefault.jpg",
                        "width": 320,
                        "height": 180
                      },
                      "high": {
                        "url": "https://i.ytimg.com/vi/Wbtish4P98s/hqdefault.jpg",
                        "width": 480,
                        "height": 360
                      },
                      "standard": {
                        "url": "https://i.ytimg.com/vi/Wbtish4P98s/sddefault.jpg",
                        "width": 640,
                        "height": 480
                      },
                      "maxres": {
                        "url": "https://i.ytimg.com/vi/Wbtish4P98s/maxresdefault.jpg",
                        "width": 1280,
                        "height": 720
                      }
                    },
                    "channelTitle": "J. Kenji López-Alt",
                    "playlistId": "PLXonhhg5tUSLzIskt_tXUBp4cMstyfMrq",
                    "position": 21,
                    "resourceId": {
                      "kind": "youtube#video",
                      "videoId": "Wbtish4P98s"
                    },
                    "videoOwnerChannelTitle": "J. Kenji López-Main",
                    "videoOwnerChannelId": "UCbznjGMPIXKWvJn-4sVFQBw"
                  },
                  "contentDetails": {
                    "videoId": "Wbtish4P98s",
                    "videoPublishedAt": "2024-03-12T18:19:49Z"
                  },
                  "status": {
                    "privacyStatus": "public"
                  }
                },
                {
                  "kind": "youtube#playlistItem",
                  "etag": "chiQRZYbxKe64vKHcCOEtJcX77M",
                  "id": "UExYb25oaGc1dFVTTHpJc2t0X3RYVUJwNGNNc3R5Zk1ycS4zRjM0MkVCRTg0MkYyQTM0",
                  "snippet": {
                    "publishedAt": "2025-01-26T04:11:53Z",
                    "channelId": "UCqqJQ_cXSat0KIAVfIfKkVA",
                    "title": "All the Teriyaki in Seattle #4: Toshi Teriyaki in Factoria",
                    "description": "I’m going to every teriyaki shop in Seattle. Join me!\n\nStop 4: Toshi Teriyaki in Factoria\n\n4038 Factoria Blvd SE STE D, Bellevue, WA 98006\nMy Teriyaki Map: https://maps.app.goo.gl/YCr8A2ZomhMKyme78\n\nAn ongoing list of my favorites so far:\n\nAll the Teriyaki in Seattle #3:  Nikko  Teriyaki\nhttps://youtu.be/ysEZuCXF_04\n\n#alltheteriyaki\n\nMusic: Mornings\nMusician: Jeff Kaale",
                    "thumbnails": {
                      "default": {
                        "url": "https://i.ytimg.com/vi/R-frrl0pFgw/default.jpg",
                        "width": 120,
                        "height": 90
                      },
                      "medium": {
                        "url": "https://i.ytimg.com/vi/R-frrl0pFgw/mqdefault.jpg",
                        "width": 320,
                        "height": 180
                      },
                      "high": {
                        "url": "https://i.ytimg.com/vi/R-frrl0pFgw/hqdefault.jpg",
                        "width": 480,
                        "height": 360
                      },
                      "standard": {
                        "url": "https://i.ytimg.com/vi/R-frrl0pFgw/sddefault.jpg",
                        "width": 640,
                        "height": 480
                      },
                      "maxres": {
                        "url": "https://i.ytimg.com/vi/R-frrl0pFgw/maxresdefault.jpg",
                        "width": 1280,
                        "height": 720
                      }
                    },
                    "channelTitle": "J. Kenji López-Alt",
                    "playlistId": "PLXonhhg5tUSLzIskt_tXUBp4cMstyfMrq",
                    "position": 22,
                    "resourceId": {
                      "kind": "youtube#video",
                      "videoId": "R-frrl0pFgw"
                    },
                    "videoOwnerChannelTitle": "J. Kenji López-Main",
                    "videoOwnerChannelId": "UCbznjGMPIXKWvJn-4sVFQBw"
                  },
                  "contentDetails": {
                    "videoId": "R-frrl0pFgw",
                    "videoPublishedAt": "2024-03-11T17:33:17Z"
                  },
                  "status": {
                    "privacyStatus": "public"
                  }
                },
                {
                  "kind": "youtube#playlistItem",
                  "etag": "14EH9T-6HF1Ax74dwVLv1VHv6qQ",
                  "id": "UExYb25oaGc1dFVTTHpJc2t0X3RYVUJwNGNNc3R5Zk1ycS45NzUwQkI1M0UxNThBMkU0",
                  "snippet": {
                    "publishedAt": "2025-01-26T04:11:58Z",
                    "channelId": "UCqqJQ_cXSat0KIAVfIfKkVA",
                    "title": "All the Teriyaki in Seattle #3:  Nikko  Teriyaki",
                    "description": "I’m going to every teriyaki shop in Seattle. Join me!\n\nStop 3: Nikko Teriyaki in West Seattle\n\n4710 42nd Ave SW, Seattle, WA 98116\n\nMy Teriyaki Map: https://maps.app.goo.gl/YCr8A2ZomhMKyme78\n\nAn ongoing list of my favorites so far:\n\nAll the Teriyaki in Seattle #3:  Nikko  Teriyaki\nhttps://youtu.be/ysEZuCXF_04\n\n#alltheteriyaki",
                    "thumbnails": {
                      "default": {
                        "url": "https://i.ytimg.com/vi/ysEZuCXF_04/default.jpg",
                        "width": 120,
                        "height": 90
                      },
                      "medium": {
                        "url": "https://i.ytimg.com/vi/ysEZuCXF_04/mqdefault.jpg",
                        "width": 320,
                        "height": 180
                      },
                      "high": {
                        "url": "https://i.ytimg.com/vi/ysEZuCXF_04/hqdefault.jpg",
                        "width": 480,
                        "height": 360
                      },
                      "standard": {
                        "url": "https://i.ytimg.com/vi/ysEZuCXF_04/sddefault.jpg",
                        "width": 640,
                        "height": 480
                      },
                      "maxres": {
                        "url": "https://i.ytimg.com/vi/ysEZuCXF_04/maxresdefault.jpg",
                        "width": 1280,
                        "height": 720
                      }
                    },
                    "channelTitle": "J. Kenji López-Alt",
                    "playlistId": "PLXonhhg5tUSLzIskt_tXUBp4cMstyfMrq",
                    "position": 23,
                    "resourceId": {
                      "kind": "youtube#video",
                      "videoId": "ysEZuCXF_04"
                    },
                    "videoOwnerChannelTitle": "J. Kenji López-Main",
                    "videoOwnerChannelId": "UCbznjGMPIXKWvJn-4sVFQBw"
                  },
                  "contentDetails": {
                    "videoId": "ysEZuCXF_04",
                    "videoPublishedAt": "2024-03-08T14:00:52Z"
                  },
                  "status": {
                    "privacyStatus": "public"
                  }
                },
                {
                  "kind": "youtube#playlistItem",
                  "etag": "7VoPnn08uazk5HNLV0Hw0n3m88s",
                  "id": "UExYb25oaGc1dFVTTHpJc2t0X3RYVUJwNGNNc3R5Zk1ycS5DNzE1RjZEMUZCMjA0RDBB",
                  "snippet": {
                    "publishedAt": "2025-01-26T04:12:03Z",
                    "channelId": "UCqqJQ_cXSat0KIAVfIfKkVA",
                    "title": "All the Teriyaki in Seattle #2: Bro’s Teriyaki",
                    "description": "I’m going to every teriyaki shop in Seattle. Join me!\n\nSecond Stop 2: Bro’s Teriyaki in Ballard\n\n24th ave NW and Market St. NW by the Spirit gas station\n\nMy Teriyaki Map: https://maps.app.goo.gl/YCr8A2ZomhMKyme78\n\n#alltheteriyaki",
                    "thumbnails": {
                      "default": {
                        "url": "https://i.ytimg.com/vi/sYFYzeBHjsc/default.jpg",
                        "width": 120,
                        "height": 90
                      },
                      "medium": {
                        "url": "https://i.ytimg.com/vi/sYFYzeBHjsc/mqdefault.jpg",
                        "width": 320,
                        "height": 180
                      },
                      "high": {
                        "url": "https://i.ytimg.com/vi/sYFYzeBHjsc/hqdefault.jpg",
                        "width": 480,
                        "height": 360
                      },
                      "standard": {
                        "url": "https://i.ytimg.com/vi/sYFYzeBHjsc/sddefault.jpg",
                        "width": 640,
                        "height": 480
                      },
                      "maxres": {
                        "url": "https://i.ytimg.com/vi/sYFYzeBHjsc/maxresdefault.jpg",
                        "width": 1280,
                        "height": 720
                      }
                    },
                    "channelTitle": "J. Kenji López-Alt",
                    "playlistId": "PLXonhhg5tUSLzIskt_tXUBp4cMstyfMrq",
                    "position": 24,
                    "resourceId": {
                      "kind": "youtube#video",
                      "videoId": "sYFYzeBHjsc"
                    },
                    "videoOwnerChannelTitle": "J. Kenji López-Main",
                    "videoOwnerChannelId": "UCbznjGMPIXKWvJn-4sVFQBw"
                  },
                  "contentDetails": {
                    "videoId": "sYFYzeBHjsc",
                    "videoPublishedAt": "2024-03-07T17:13:19Z"
                  },
                  "status": {
                    "privacyStatus": "public"
                  }
                },
                {
                  "kind": "youtube#playlistItem",
                  "etag": "stqnkB3uzccMZIiix0M2IeGHsS8",
                  "id": "UExYb25oaGc1dFVTTHpJc2t0X3RYVUJwNGNNc3R5Zk1ycS43MTI1NDIwOTMwQjIxMzNG",
                  "snippet": {
                    "publishedAt": "2025-01-26T04:12:07Z",
                    "channelId": "UCqqJQ_cXSat0KIAVfIfKkVA",
                    "title": "All the Teriyaki in Seattle, #1: Teriyaki Madness",
                    "description": "I’m going to every teriyaki shop in Seattle. Join me!\n\nFirst stop: Teriyaki Madness in Capitol Hill\n\n111 15th Ave E\n\nMy Teriyaki Map: https://maps.app.goo.gl/YCr8A2ZomhMKyme78\n\n#alltheteriyaki",
                    "thumbnails": {
                      "default": {
                        "url": "https://i.ytimg.com/vi/1wMUzUys6Rk/default.jpg",
                        "width": 120,
                        "height": 90
                      },
                      "medium": {
                        "url": "https://i.ytimg.com/vi/1wMUzUys6Rk/mqdefault.jpg",
                        "width": 320,
                        "height": 180
                      },
                      "high": {
                        "url": "https://i.ytimg.com/vi/1wMUzUys6Rk/hqdefault.jpg",
                        "width": 480,
                        "height": 360
                      },
                      "standard": {
                        "url": "https://i.ytimg.com/vi/1wMUzUys6Rk/sddefault.jpg",
                        "width": 640,
                        "height": 480
                      },
                      "maxres": {
                        "url": "https://i.ytimg.com/vi/1wMUzUys6Rk/maxresdefault.jpg",
                        "width": 1280,
                        "height": 720
                      }
                    },
                    "channelTitle": "J. Kenji López-Alt",
                    "playlistId": "PLXonhhg5tUSLzIskt_tXUBp4cMstyfMrq",
                    "position": 25,
                    "resourceId": {
                      "kind": "youtube#video",
                      "videoId": "1wMUzUys6Rk"
                    },
                    "videoOwnerChannelTitle": "J. Kenji López-Main",
                    "videoOwnerChannelId": "UCbznjGMPIXKWvJn-4sVFQBw"
                  },
                  "contentDetails": {
                    "videoId": "1wMUzUys6Rk",
                    "videoPublishedAt": "2024-03-05T17:12:43Z"
                  },
                  "status": {
                    "privacyStatus": "public"
                  }
                },
                {
                  "kind": "youtube#playlistItem",
                  "etag": "aDgUGx56HF8ut1e8XHhj6yrD9Q8",
                  "id": "UExYb25oaGc1dFVTTHpJc2t0X3RYVUJwNGNNc3R5Zk1ycS4yQUE2Q0JEMTk4NTM3RTZC",
                  "snippet": {
                    "publishedAt": "2025-01-26T04:12:18Z",
                    "channelId": "UCqqJQ_cXSat0KIAVfIfKkVA",
                    "title": "This meal cost me $5 a minute. Here’s everything I had.",
                    "description": "Sushi by scratch. High end chain sushi restaurant from LA. I went to the Seattle location. I was the only reservation on a Monday night (this was not planned!).",
                    "thumbnails": {
                      "default": {
                        "url": "https://i.ytimg.com/vi/DzlUP22vIJs/default.jpg",
                        "width": 120,
                        "height": 90
                      },
                      "medium": {
                        "url": "https://i.ytimg.com/vi/DzlUP22vIJs/mqdefault.jpg",
                        "width": 320,
                        "height": 180
                      },
                      "high": {
                        "url": "https://i.ytimg.com/vi/DzlUP22vIJs/hqdefault.jpg",
                        "width": 480,
                        "height": 360
                      },
                      "standard": {
                        "url": "https://i.ytimg.com/vi/DzlUP22vIJs/sddefault.jpg",
                        "width": 640,
                        "height": 480
                      },
                      "maxres": {
                        "url": "https://i.ytimg.com/vi/DzlUP22vIJs/maxresdefault.jpg",
                        "width": 1280,
                        "height": 720
                      }
                    },
                    "channelTitle": "J. Kenji López-Alt",
                    "playlistId": "PLXonhhg5tUSLzIskt_tXUBp4cMstyfMrq",
                    "position": 26,
                    "resourceId": {
                      "kind": "youtube#video",
                      "videoId": "DzlUP22vIJs"
                    },
                    "videoOwnerChannelTitle": "J. Kenji López-Main",
                    "videoOwnerChannelId": "UCbznjGMPIXKWvJn-4sVFQBw"
                  },
                  "contentDetails": {
                    "videoId": "DzlUP22vIJs",
                    "videoPublishedAt": "2024-02-29T09:44:28Z"
                  },
                  "status": {
                    "privacyStatus": "public"
                  }
                },
                {
                  "kind": "youtube#playlistItem",
                  "etag": "O_GbHRVkLqzmWQNC4ik6CXRDHlI",
                  "id": "UExYb25oaGc1dFVTTHpJc2t0X3RYVUJwNGNNc3R5Zk1ycS5DMkU4NTY1QUFGQTYwMDE3",
                  "snippet": {
                    "publishedAt": "2025-01-29T08:13:24Z",
                    "channelId": "UCqqJQ_cXSat0KIAVfIfKkVA",
                    "title": "Private video",
                    "description": "This video is private.",
                    "thumbnails": {},
                    "channelTitle": "J. Kenji López-Alt",
                    "playlistId": "PLXonhhg5tUSLzIskt_tXUBp4cMstyfMrq",
                    "position": 27,
                    "resourceId": {
                      "kind": "youtube#video",
                      "videoId": "iDEWVJp_HfM"
                    }
                  },
                  "contentDetails": {
                    "videoId": "iDEWVJp_HfM"
                  },
                  "status": {
                    "privacyStatus": "private"
                  }
                }
              ],
              "pageInfo": {
                "totalResults": 28,
                "resultsPerPage": 50
              }
            }
          },
          "metadata": {
            "application/json": {
              "expanded": false,
              "root": "root"
            }
          },
          "execution_count": 23
        }
      ]
    },
    {
      "cell_type": "code",
      "source": [
        "# Get video IDs for just one playlist\n",
        "\n",
        "video_IDs = []\n",
        "\n",
        "for dict in response['items']:\n",
        "  playlist_id = dict['snippet']['playlistId']\n",
        "  video_id = dict['contentDetails']['videoId']\n",
        "\n",
        "  data = {'playlist_id': playlist_id, 'video_id': video_id}\n",
        "\n",
        "  video_IDs.append(data)\n"
      ],
      "metadata": {
        "collapsed": true,
        "id": "R_9YTHh7QOOH"
      },
      "execution_count": 25,
      "outputs": []
    },
    {
      "cell_type": "code",
      "source": [
        "pd.DataFrame(video_IDs)"
      ],
      "metadata": {
        "colab": {
          "base_uri": "https://localhost:8080/",
          "height": 927
        },
        "id": "Kx97goqIQPxf",
        "outputId": "cd3a2f88-a0f3-452c-bd1e-1b3f3dbeb48a"
      },
      "execution_count": 26,
      "outputs": [
        {
          "output_type": "execute_result",
          "data": {
            "text/plain": [
              "                           playlist_id     video_id\n",
              "0   PLXonhhg5tUSLzIskt_tXUBp4cMstyfMrq  _UrxR8d3EkQ\n",
              "1   PLXonhhg5tUSLzIskt_tXUBp4cMstyfMrq  Gic3YyUGtoE\n",
              "2   PLXonhhg5tUSLzIskt_tXUBp4cMstyfMrq  2KaLHmT6XMg\n",
              "3   PLXonhhg5tUSLzIskt_tXUBp4cMstyfMrq  oGNH9LSS1ak\n",
              "4   PLXonhhg5tUSLzIskt_tXUBp4cMstyfMrq  1f48YuUfn-0\n",
              "5   PLXonhhg5tUSLzIskt_tXUBp4cMstyfMrq  _EzxA-0eT3I\n",
              "6   PLXonhhg5tUSLzIskt_tXUBp4cMstyfMrq  LUbl6WDab2Y\n",
              "7   PLXonhhg5tUSLzIskt_tXUBp4cMstyfMrq  CIgsowpYfS0\n",
              "8   PLXonhhg5tUSLzIskt_tXUBp4cMstyfMrq  J6sUfY7FHD4\n",
              "9   PLXonhhg5tUSLzIskt_tXUBp4cMstyfMrq  o7n-ch5tdi8\n",
              "10  PLXonhhg5tUSLzIskt_tXUBp4cMstyfMrq  6AW9tIAHUXg\n",
              "11  PLXonhhg5tUSLzIskt_tXUBp4cMstyfMrq  QJjpXEzjVNQ\n",
              "12  PLXonhhg5tUSLzIskt_tXUBp4cMstyfMrq  31SSbqQGlxM\n",
              "13  PLXonhhg5tUSLzIskt_tXUBp4cMstyfMrq  6nFKCWrF_N8\n",
              "14  PLXonhhg5tUSLzIskt_tXUBp4cMstyfMrq  35DToZpqJXY\n",
              "15  PLXonhhg5tUSLzIskt_tXUBp4cMstyfMrq  Y4bGqM-QqWs\n",
              "16  PLXonhhg5tUSLzIskt_tXUBp4cMstyfMrq  hzLZs7g3P-4\n",
              "17  PLXonhhg5tUSLzIskt_tXUBp4cMstyfMrq  eNjv3A_pd2M\n",
              "18  PLXonhhg5tUSLzIskt_tXUBp4cMstyfMrq  ozGdp8a-mLM\n",
              "19  PLXonhhg5tUSLzIskt_tXUBp4cMstyfMrq  WrZ14kzuyK8\n",
              "20  PLXonhhg5tUSLzIskt_tXUBp4cMstyfMrq  zYY0b8n0COc\n",
              "21  PLXonhhg5tUSLzIskt_tXUBp4cMstyfMrq  Wbtish4P98s\n",
              "22  PLXonhhg5tUSLzIskt_tXUBp4cMstyfMrq  R-frrl0pFgw\n",
              "23  PLXonhhg5tUSLzIskt_tXUBp4cMstyfMrq  ysEZuCXF_04\n",
              "24  PLXonhhg5tUSLzIskt_tXUBp4cMstyfMrq  sYFYzeBHjsc\n",
              "25  PLXonhhg5tUSLzIskt_tXUBp4cMstyfMrq  1wMUzUys6Rk\n",
              "26  PLXonhhg5tUSLzIskt_tXUBp4cMstyfMrq  DzlUP22vIJs\n",
              "27  PLXonhhg5tUSLzIskt_tXUBp4cMstyfMrq  iDEWVJp_HfM"
            ],
            "text/html": [
              "\n",
              "  <div id=\"df-99f62687-0297-4967-8ca4-3f75db9beae9\" class=\"colab-df-container\">\n",
              "    <div>\n",
              "<style scoped>\n",
              "    .dataframe tbody tr th:only-of-type {\n",
              "        vertical-align: middle;\n",
              "    }\n",
              "\n",
              "    .dataframe tbody tr th {\n",
              "        vertical-align: top;\n",
              "    }\n",
              "\n",
              "    .dataframe thead th {\n",
              "        text-align: right;\n",
              "    }\n",
              "</style>\n",
              "<table border=\"1\" class=\"dataframe\">\n",
              "  <thead>\n",
              "    <tr style=\"text-align: right;\">\n",
              "      <th></th>\n",
              "      <th>playlist_id</th>\n",
              "      <th>video_id</th>\n",
              "    </tr>\n",
              "  </thead>\n",
              "  <tbody>\n",
              "    <tr>\n",
              "      <th>0</th>\n",
              "      <td>PLXonhhg5tUSLzIskt_tXUBp4cMstyfMrq</td>\n",
              "      <td>_UrxR8d3EkQ</td>\n",
              "    </tr>\n",
              "    <tr>\n",
              "      <th>1</th>\n",
              "      <td>PLXonhhg5tUSLzIskt_tXUBp4cMstyfMrq</td>\n",
              "      <td>Gic3YyUGtoE</td>\n",
              "    </tr>\n",
              "    <tr>\n",
              "      <th>2</th>\n",
              "      <td>PLXonhhg5tUSLzIskt_tXUBp4cMstyfMrq</td>\n",
              "      <td>2KaLHmT6XMg</td>\n",
              "    </tr>\n",
              "    <tr>\n",
              "      <th>3</th>\n",
              "      <td>PLXonhhg5tUSLzIskt_tXUBp4cMstyfMrq</td>\n",
              "      <td>oGNH9LSS1ak</td>\n",
              "    </tr>\n",
              "    <tr>\n",
              "      <th>4</th>\n",
              "      <td>PLXonhhg5tUSLzIskt_tXUBp4cMstyfMrq</td>\n",
              "      <td>1f48YuUfn-0</td>\n",
              "    </tr>\n",
              "    <tr>\n",
              "      <th>5</th>\n",
              "      <td>PLXonhhg5tUSLzIskt_tXUBp4cMstyfMrq</td>\n",
              "      <td>_EzxA-0eT3I</td>\n",
              "    </tr>\n",
              "    <tr>\n",
              "      <th>6</th>\n",
              "      <td>PLXonhhg5tUSLzIskt_tXUBp4cMstyfMrq</td>\n",
              "      <td>LUbl6WDab2Y</td>\n",
              "    </tr>\n",
              "    <tr>\n",
              "      <th>7</th>\n",
              "      <td>PLXonhhg5tUSLzIskt_tXUBp4cMstyfMrq</td>\n",
              "      <td>CIgsowpYfS0</td>\n",
              "    </tr>\n",
              "    <tr>\n",
              "      <th>8</th>\n",
              "      <td>PLXonhhg5tUSLzIskt_tXUBp4cMstyfMrq</td>\n",
              "      <td>J6sUfY7FHD4</td>\n",
              "    </tr>\n",
              "    <tr>\n",
              "      <th>9</th>\n",
              "      <td>PLXonhhg5tUSLzIskt_tXUBp4cMstyfMrq</td>\n",
              "      <td>o7n-ch5tdi8</td>\n",
              "    </tr>\n",
              "    <tr>\n",
              "      <th>10</th>\n",
              "      <td>PLXonhhg5tUSLzIskt_tXUBp4cMstyfMrq</td>\n",
              "      <td>6AW9tIAHUXg</td>\n",
              "    </tr>\n",
              "    <tr>\n",
              "      <th>11</th>\n",
              "      <td>PLXonhhg5tUSLzIskt_tXUBp4cMstyfMrq</td>\n",
              "      <td>QJjpXEzjVNQ</td>\n",
              "    </tr>\n",
              "    <tr>\n",
              "      <th>12</th>\n",
              "      <td>PLXonhhg5tUSLzIskt_tXUBp4cMstyfMrq</td>\n",
              "      <td>31SSbqQGlxM</td>\n",
              "    </tr>\n",
              "    <tr>\n",
              "      <th>13</th>\n",
              "      <td>PLXonhhg5tUSLzIskt_tXUBp4cMstyfMrq</td>\n",
              "      <td>6nFKCWrF_N8</td>\n",
              "    </tr>\n",
              "    <tr>\n",
              "      <th>14</th>\n",
              "      <td>PLXonhhg5tUSLzIskt_tXUBp4cMstyfMrq</td>\n",
              "      <td>35DToZpqJXY</td>\n",
              "    </tr>\n",
              "    <tr>\n",
              "      <th>15</th>\n",
              "      <td>PLXonhhg5tUSLzIskt_tXUBp4cMstyfMrq</td>\n",
              "      <td>Y4bGqM-QqWs</td>\n",
              "    </tr>\n",
              "    <tr>\n",
              "      <th>16</th>\n",
              "      <td>PLXonhhg5tUSLzIskt_tXUBp4cMstyfMrq</td>\n",
              "      <td>hzLZs7g3P-4</td>\n",
              "    </tr>\n",
              "    <tr>\n",
              "      <th>17</th>\n",
              "      <td>PLXonhhg5tUSLzIskt_tXUBp4cMstyfMrq</td>\n",
              "      <td>eNjv3A_pd2M</td>\n",
              "    </tr>\n",
              "    <tr>\n",
              "      <th>18</th>\n",
              "      <td>PLXonhhg5tUSLzIskt_tXUBp4cMstyfMrq</td>\n",
              "      <td>ozGdp8a-mLM</td>\n",
              "    </tr>\n",
              "    <tr>\n",
              "      <th>19</th>\n",
              "      <td>PLXonhhg5tUSLzIskt_tXUBp4cMstyfMrq</td>\n",
              "      <td>WrZ14kzuyK8</td>\n",
              "    </tr>\n",
              "    <tr>\n",
              "      <th>20</th>\n",
              "      <td>PLXonhhg5tUSLzIskt_tXUBp4cMstyfMrq</td>\n",
              "      <td>zYY0b8n0COc</td>\n",
              "    </tr>\n",
              "    <tr>\n",
              "      <th>21</th>\n",
              "      <td>PLXonhhg5tUSLzIskt_tXUBp4cMstyfMrq</td>\n",
              "      <td>Wbtish4P98s</td>\n",
              "    </tr>\n",
              "    <tr>\n",
              "      <th>22</th>\n",
              "      <td>PLXonhhg5tUSLzIskt_tXUBp4cMstyfMrq</td>\n",
              "      <td>R-frrl0pFgw</td>\n",
              "    </tr>\n",
              "    <tr>\n",
              "      <th>23</th>\n",
              "      <td>PLXonhhg5tUSLzIskt_tXUBp4cMstyfMrq</td>\n",
              "      <td>ysEZuCXF_04</td>\n",
              "    </tr>\n",
              "    <tr>\n",
              "      <th>24</th>\n",
              "      <td>PLXonhhg5tUSLzIskt_tXUBp4cMstyfMrq</td>\n",
              "      <td>sYFYzeBHjsc</td>\n",
              "    </tr>\n",
              "    <tr>\n",
              "      <th>25</th>\n",
              "      <td>PLXonhhg5tUSLzIskt_tXUBp4cMstyfMrq</td>\n",
              "      <td>1wMUzUys6Rk</td>\n",
              "    </tr>\n",
              "    <tr>\n",
              "      <th>26</th>\n",
              "      <td>PLXonhhg5tUSLzIskt_tXUBp4cMstyfMrq</td>\n",
              "      <td>DzlUP22vIJs</td>\n",
              "    </tr>\n",
              "    <tr>\n",
              "      <th>27</th>\n",
              "      <td>PLXonhhg5tUSLzIskt_tXUBp4cMstyfMrq</td>\n",
              "      <td>iDEWVJp_HfM</td>\n",
              "    </tr>\n",
              "  </tbody>\n",
              "</table>\n",
              "</div>\n",
              "    <div class=\"colab-df-buttons\">\n",
              "\n",
              "  <div class=\"colab-df-container\">\n",
              "    <button class=\"colab-df-convert\" onclick=\"convertToInteractive('df-99f62687-0297-4967-8ca4-3f75db9beae9')\"\n",
              "            title=\"Convert this dataframe to an interactive table.\"\n",
              "            style=\"display:none;\">\n",
              "\n",
              "  <svg xmlns=\"http://www.w3.org/2000/svg\" height=\"24px\" viewBox=\"0 -960 960 960\">\n",
              "    <path d=\"M120-120v-720h720v720H120Zm60-500h600v-160H180v160Zm220 220h160v-160H400v160Zm0 220h160v-160H400v160ZM180-400h160v-160H180v160Zm440 0h160v-160H620v160ZM180-180h160v-160H180v160Zm440 0h160v-160H620v160Z\"/>\n",
              "  </svg>\n",
              "    </button>\n",
              "\n",
              "  <style>\n",
              "    .colab-df-container {\n",
              "      display:flex;\n",
              "      gap: 12px;\n",
              "    }\n",
              "\n",
              "    .colab-df-convert {\n",
              "      background-color: #E8F0FE;\n",
              "      border: none;\n",
              "      border-radius: 50%;\n",
              "      cursor: pointer;\n",
              "      display: none;\n",
              "      fill: #1967D2;\n",
              "      height: 32px;\n",
              "      padding: 0 0 0 0;\n",
              "      width: 32px;\n",
              "    }\n",
              "\n",
              "    .colab-df-convert:hover {\n",
              "      background-color: #E2EBFA;\n",
              "      box-shadow: 0px 1px 2px rgba(60, 64, 67, 0.3), 0px 1px 3px 1px rgba(60, 64, 67, 0.15);\n",
              "      fill: #174EA6;\n",
              "    }\n",
              "\n",
              "    .colab-df-buttons div {\n",
              "      margin-bottom: 4px;\n",
              "    }\n",
              "\n",
              "    [theme=dark] .colab-df-convert {\n",
              "      background-color: #3B4455;\n",
              "      fill: #D2E3FC;\n",
              "    }\n",
              "\n",
              "    [theme=dark] .colab-df-convert:hover {\n",
              "      background-color: #434B5C;\n",
              "      box-shadow: 0px 1px 3px 1px rgba(0, 0, 0, 0.15);\n",
              "      filter: drop-shadow(0px 1px 2px rgba(0, 0, 0, 0.3));\n",
              "      fill: #FFFFFF;\n",
              "    }\n",
              "  </style>\n",
              "\n",
              "    <script>\n",
              "      const buttonEl =\n",
              "        document.querySelector('#df-99f62687-0297-4967-8ca4-3f75db9beae9 button.colab-df-convert');\n",
              "      buttonEl.style.display =\n",
              "        google.colab.kernel.accessAllowed ? 'block' : 'none';\n",
              "\n",
              "      async function convertToInteractive(key) {\n",
              "        const element = document.querySelector('#df-99f62687-0297-4967-8ca4-3f75db9beae9');\n",
              "        const dataTable =\n",
              "          await google.colab.kernel.invokeFunction('convertToInteractive',\n",
              "                                                    [key], {});\n",
              "        if (!dataTable) return;\n",
              "\n",
              "        const docLinkHtml = 'Like what you see? Visit the ' +\n",
              "          '<a target=\"_blank\" href=https://colab.research.google.com/notebooks/data_table.ipynb>data table notebook</a>'\n",
              "          + ' to learn more about interactive tables.';\n",
              "        element.innerHTML = '';\n",
              "        dataTable['output_type'] = 'display_data';\n",
              "        await google.colab.output.renderOutput(dataTable, element);\n",
              "        const docLink = document.createElement('div');\n",
              "        docLink.innerHTML = docLinkHtml;\n",
              "        element.appendChild(docLink);\n",
              "      }\n",
              "    </script>\n",
              "  </div>\n",
              "\n",
              "\n",
              "    <div id=\"df-d5565ab8-38e2-40d9-bdeb-d7a85527e76e\">\n",
              "      <button class=\"colab-df-quickchart\" onclick=\"quickchart('df-d5565ab8-38e2-40d9-bdeb-d7a85527e76e')\"\n",
              "                title=\"Suggest charts\"\n",
              "                style=\"display:none;\">\n",
              "\n",
              "<svg xmlns=\"http://www.w3.org/2000/svg\" height=\"24px\"viewBox=\"0 0 24 24\"\n",
              "     width=\"24px\">\n",
              "    <g>\n",
              "        <path d=\"M19 3H5c-1.1 0-2 .9-2 2v14c0 1.1.9 2 2 2h14c1.1 0 2-.9 2-2V5c0-1.1-.9-2-2-2zM9 17H7v-7h2v7zm4 0h-2V7h2v10zm4 0h-2v-4h2v4z\"/>\n",
              "    </g>\n",
              "</svg>\n",
              "      </button>\n",
              "\n",
              "<style>\n",
              "  .colab-df-quickchart {\n",
              "      --bg-color: #E8F0FE;\n",
              "      --fill-color: #1967D2;\n",
              "      --hover-bg-color: #E2EBFA;\n",
              "      --hover-fill-color: #174EA6;\n",
              "      --disabled-fill-color: #AAA;\n",
              "      --disabled-bg-color: #DDD;\n",
              "  }\n",
              "\n",
              "  [theme=dark] .colab-df-quickchart {\n",
              "      --bg-color: #3B4455;\n",
              "      --fill-color: #D2E3FC;\n",
              "      --hover-bg-color: #434B5C;\n",
              "      --hover-fill-color: #FFFFFF;\n",
              "      --disabled-bg-color: #3B4455;\n",
              "      --disabled-fill-color: #666;\n",
              "  }\n",
              "\n",
              "  .colab-df-quickchart {\n",
              "    background-color: var(--bg-color);\n",
              "    border: none;\n",
              "    border-radius: 50%;\n",
              "    cursor: pointer;\n",
              "    display: none;\n",
              "    fill: var(--fill-color);\n",
              "    height: 32px;\n",
              "    padding: 0;\n",
              "    width: 32px;\n",
              "  }\n",
              "\n",
              "  .colab-df-quickchart:hover {\n",
              "    background-color: var(--hover-bg-color);\n",
              "    box-shadow: 0 1px 2px rgba(60, 64, 67, 0.3), 0 1px 3px 1px rgba(60, 64, 67, 0.15);\n",
              "    fill: var(--button-hover-fill-color);\n",
              "  }\n",
              "\n",
              "  .colab-df-quickchart-complete:disabled,\n",
              "  .colab-df-quickchart-complete:disabled:hover {\n",
              "    background-color: var(--disabled-bg-color);\n",
              "    fill: var(--disabled-fill-color);\n",
              "    box-shadow: none;\n",
              "  }\n",
              "\n",
              "  .colab-df-spinner {\n",
              "    border: 2px solid var(--fill-color);\n",
              "    border-color: transparent;\n",
              "    border-bottom-color: var(--fill-color);\n",
              "    animation:\n",
              "      spin 1s steps(1) infinite;\n",
              "  }\n",
              "\n",
              "  @keyframes spin {\n",
              "    0% {\n",
              "      border-color: transparent;\n",
              "      border-bottom-color: var(--fill-color);\n",
              "      border-left-color: var(--fill-color);\n",
              "    }\n",
              "    20% {\n",
              "      border-color: transparent;\n",
              "      border-left-color: var(--fill-color);\n",
              "      border-top-color: var(--fill-color);\n",
              "    }\n",
              "    30% {\n",
              "      border-color: transparent;\n",
              "      border-left-color: var(--fill-color);\n",
              "      border-top-color: var(--fill-color);\n",
              "      border-right-color: var(--fill-color);\n",
              "    }\n",
              "    40% {\n",
              "      border-color: transparent;\n",
              "      border-right-color: var(--fill-color);\n",
              "      border-top-color: var(--fill-color);\n",
              "    }\n",
              "    60% {\n",
              "      border-color: transparent;\n",
              "      border-right-color: var(--fill-color);\n",
              "    }\n",
              "    80% {\n",
              "      border-color: transparent;\n",
              "      border-right-color: var(--fill-color);\n",
              "      border-bottom-color: var(--fill-color);\n",
              "    }\n",
              "    90% {\n",
              "      border-color: transparent;\n",
              "      border-bottom-color: var(--fill-color);\n",
              "    }\n",
              "  }\n",
              "</style>\n",
              "\n",
              "      <script>\n",
              "        async function quickchart(key) {\n",
              "          const quickchartButtonEl =\n",
              "            document.querySelector('#' + key + ' button');\n",
              "          quickchartButtonEl.disabled = true;  // To prevent multiple clicks.\n",
              "          quickchartButtonEl.classList.add('colab-df-spinner');\n",
              "          try {\n",
              "            const charts = await google.colab.kernel.invokeFunction(\n",
              "                'suggestCharts', [key], {});\n",
              "          } catch (error) {\n",
              "            console.error('Error during call to suggestCharts:', error);\n",
              "          }\n",
              "          quickchartButtonEl.classList.remove('colab-df-spinner');\n",
              "          quickchartButtonEl.classList.add('colab-df-quickchart-complete');\n",
              "        }\n",
              "        (() => {\n",
              "          let quickchartButtonEl =\n",
              "            document.querySelector('#df-d5565ab8-38e2-40d9-bdeb-d7a85527e76e button');\n",
              "          quickchartButtonEl.style.display =\n",
              "            google.colab.kernel.accessAllowed ? 'block' : 'none';\n",
              "        })();\n",
              "      </script>\n",
              "    </div>\n",
              "\n",
              "    </div>\n",
              "  </div>\n"
            ],
            "application/vnd.google.colaboratory.intrinsic+json": {
              "type": "dataframe",
              "summary": "{\n  \"name\": \"pd\",\n  \"rows\": 28,\n  \"fields\": [\n    {\n      \"column\": \"playlist_id\",\n      \"properties\": {\n        \"dtype\": \"category\",\n        \"num_unique_values\": 1,\n        \"samples\": [\n          \"PLXonhhg5tUSLzIskt_tXUBp4cMstyfMrq\"\n        ],\n        \"semantic_type\": \"\",\n        \"description\": \"\"\n      }\n    },\n    {\n      \"column\": \"video_id\",\n      \"properties\": {\n        \"dtype\": \"string\",\n        \"num_unique_values\": 28,\n        \"samples\": [\n          \"o7n-ch5tdi8\"\n        ],\n        \"semantic_type\": \"\",\n        \"description\": \"\"\n      }\n    }\n  ]\n}"
            }
          },
          "metadata": {},
          "execution_count": 26
        }
      ]
    },
    {
      "cell_type": "code",
      "source": [
        "# get all the video IDs in a playlist\n",
        "# need to make sure that the nextPageToken is used to ensure that next pages are accessed\n",
        "# Since the page limit is only 50 but many playlists have many more than 50 videos, need to get the nextPageToken and use that to keep going to the next pages\n",
        "# Use while loop to access all the pages until there is no next page\n",
        "\n",
        "def get_video_id(youtube, playlist_Id):\n",
        "\n",
        "  '''\n",
        "  Takes in the youtube instance and list of playlist IDs\n",
        "  Returns a list of dictionaries that contain the info about the playlist\n",
        "  '''\n",
        "\n",
        "  video_IDs = []\n",
        "  count = 0\n",
        "  nextPageToken = \"\"\n",
        "\n",
        "  while nextPageToken is not None:\n",
        "\n",
        "    request = youtube.playlistItems().list(\n",
        "        part = 'contentDetails, id, snippet, status',\n",
        "        maxResults = 50,\n",
        "        playlistId = playlist_Id,\n",
        "        pageToken = nextPageToken\n",
        "    )\n",
        "    response = request.execute()\n",
        "\n",
        "    for dict in response['items']:\n",
        "      playlist_id = dict['snippet']['playlistId']\n",
        "      video_id = dict['contentDetails']['videoId']\n",
        "\n",
        "      data = {'playlist_id': playlist_id, 'video_id': video_id}\n",
        "\n",
        "      video_IDs.append(data)\n",
        "\n",
        "    count += 1\n",
        "    #print(count)\n",
        "\n",
        "    nextPageToken = response.get('nextPageToken')\n",
        "\n",
        "  return video_IDs\n",
        "\n",
        "\n",
        "\n",
        "\n"
      ],
      "metadata": {
        "id": "heuEbt40luDU"
      },
      "execution_count": 27,
      "outputs": []
    },
    {
      "cell_type": "code",
      "source": [
        "# This loops through all the playlist IDs (27 of them), calls the functions to get all the video IDs in each playlist, and then adds all the list together\n",
        "# The combined list is then converted to a Data Frame\n",
        "\n",
        "\n",
        "video_id_df = []\n",
        "for i in playlist_ID_list:\n",
        "  #print(i)\n",
        "  video_id_df += get_video_id(youtube, i)\n"
      ],
      "metadata": {
        "collapsed": true,
        "id": "uUbzsc-xzfMz"
      },
      "execution_count": 28,
      "outputs": []
    },
    {
      "cell_type": "code",
      "source": [
        "video_id_df = pd.DataFrame(video_id_df)\n",
        "video_id_df"
      ],
      "metadata": {
        "colab": {
          "base_uri": "https://localhost:8080/",
          "height": 424
        },
        "id": "BV7RMU4Q4zeP",
        "outputId": "8f980d50-88c6-4643-8598-0a7c939117de"
      },
      "execution_count": 29,
      "outputs": [
        {
          "output_type": "execute_result",
          "data": {
            "text/plain": [
              "                            playlist_id     video_id\n",
              "0    PLXonhhg5tUSI7F_F_1TASoAWLfYNc-RUe  zIPZQ6yBA2c\n",
              "1    PLXonhhg5tUSI7F_F_1TASoAWLfYNc-RUe  vG-NsFXNYUw\n",
              "2    PLXonhhg5tUSKJZhLDZ-FnxgQPFv6uJVEh  2Sz40WqBg8E\n",
              "3    PLXonhhg5tUSKJZhLDZ-FnxgQPFv6uJVEh  U5vJ3hlopUk\n",
              "4    PLXonhhg5tUSKJZhLDZ-FnxgQPFv6uJVEh  Azarsj8xlBk\n",
              "..                                  ...          ...\n",
              "791  PLXonhhg5tUSKTPt4s5ZOBSnPOchewStj7  Tg2K0pmNXsA\n",
              "792  PLXonhhg5tUSKTPt4s5ZOBSnPOchewStj7  3oTFE6FAIrw\n",
              "793  PLXonhhg5tUSKTPt4s5ZOBSnPOchewStj7  neLwcOqrucc\n",
              "794  PLXonhhg5tUSKTPt4s5ZOBSnPOchewStj7  L5TF6YjEZT8\n",
              "795  PLXonhhg5tUSKTPt4s5ZOBSnPOchewStj7  ppoWmd4LXVs\n",
              "\n",
              "[796 rows x 2 columns]"
            ],
            "text/html": [
              "\n",
              "  <div id=\"df-e22fd6f4-89ed-43bd-b7eb-920bfdb8c505\" class=\"colab-df-container\">\n",
              "    <div>\n",
              "<style scoped>\n",
              "    .dataframe tbody tr th:only-of-type {\n",
              "        vertical-align: middle;\n",
              "    }\n",
              "\n",
              "    .dataframe tbody tr th {\n",
              "        vertical-align: top;\n",
              "    }\n",
              "\n",
              "    .dataframe thead th {\n",
              "        text-align: right;\n",
              "    }\n",
              "</style>\n",
              "<table border=\"1\" class=\"dataframe\">\n",
              "  <thead>\n",
              "    <tr style=\"text-align: right;\">\n",
              "      <th></th>\n",
              "      <th>playlist_id</th>\n",
              "      <th>video_id</th>\n",
              "    </tr>\n",
              "  </thead>\n",
              "  <tbody>\n",
              "    <tr>\n",
              "      <th>0</th>\n",
              "      <td>PLXonhhg5tUSI7F_F_1TASoAWLfYNc-RUe</td>\n",
              "      <td>zIPZQ6yBA2c</td>\n",
              "    </tr>\n",
              "    <tr>\n",
              "      <th>1</th>\n",
              "      <td>PLXonhhg5tUSI7F_F_1TASoAWLfYNc-RUe</td>\n",
              "      <td>vG-NsFXNYUw</td>\n",
              "    </tr>\n",
              "    <tr>\n",
              "      <th>2</th>\n",
              "      <td>PLXonhhg5tUSKJZhLDZ-FnxgQPFv6uJVEh</td>\n",
              "      <td>2Sz40WqBg8E</td>\n",
              "    </tr>\n",
              "    <tr>\n",
              "      <th>3</th>\n",
              "      <td>PLXonhhg5tUSKJZhLDZ-FnxgQPFv6uJVEh</td>\n",
              "      <td>U5vJ3hlopUk</td>\n",
              "    </tr>\n",
              "    <tr>\n",
              "      <th>4</th>\n",
              "      <td>PLXonhhg5tUSKJZhLDZ-FnxgQPFv6uJVEh</td>\n",
              "      <td>Azarsj8xlBk</td>\n",
              "    </tr>\n",
              "    <tr>\n",
              "      <th>...</th>\n",
              "      <td>...</td>\n",
              "      <td>...</td>\n",
              "    </tr>\n",
              "    <tr>\n",
              "      <th>791</th>\n",
              "      <td>PLXonhhg5tUSKTPt4s5ZOBSnPOchewStj7</td>\n",
              "      <td>Tg2K0pmNXsA</td>\n",
              "    </tr>\n",
              "    <tr>\n",
              "      <th>792</th>\n",
              "      <td>PLXonhhg5tUSKTPt4s5ZOBSnPOchewStj7</td>\n",
              "      <td>3oTFE6FAIrw</td>\n",
              "    </tr>\n",
              "    <tr>\n",
              "      <th>793</th>\n",
              "      <td>PLXonhhg5tUSKTPt4s5ZOBSnPOchewStj7</td>\n",
              "      <td>neLwcOqrucc</td>\n",
              "    </tr>\n",
              "    <tr>\n",
              "      <th>794</th>\n",
              "      <td>PLXonhhg5tUSKTPt4s5ZOBSnPOchewStj7</td>\n",
              "      <td>L5TF6YjEZT8</td>\n",
              "    </tr>\n",
              "    <tr>\n",
              "      <th>795</th>\n",
              "      <td>PLXonhhg5tUSKTPt4s5ZOBSnPOchewStj7</td>\n",
              "      <td>ppoWmd4LXVs</td>\n",
              "    </tr>\n",
              "  </tbody>\n",
              "</table>\n",
              "<p>796 rows × 2 columns</p>\n",
              "</div>\n",
              "    <div class=\"colab-df-buttons\">\n",
              "\n",
              "  <div class=\"colab-df-container\">\n",
              "    <button class=\"colab-df-convert\" onclick=\"convertToInteractive('df-e22fd6f4-89ed-43bd-b7eb-920bfdb8c505')\"\n",
              "            title=\"Convert this dataframe to an interactive table.\"\n",
              "            style=\"display:none;\">\n",
              "\n",
              "  <svg xmlns=\"http://www.w3.org/2000/svg\" height=\"24px\" viewBox=\"0 -960 960 960\">\n",
              "    <path d=\"M120-120v-720h720v720H120Zm60-500h600v-160H180v160Zm220 220h160v-160H400v160Zm0 220h160v-160H400v160ZM180-400h160v-160H180v160Zm440 0h160v-160H620v160ZM180-180h160v-160H180v160Zm440 0h160v-160H620v160Z\"/>\n",
              "  </svg>\n",
              "    </button>\n",
              "\n",
              "  <style>\n",
              "    .colab-df-container {\n",
              "      display:flex;\n",
              "      gap: 12px;\n",
              "    }\n",
              "\n",
              "    .colab-df-convert {\n",
              "      background-color: #E8F0FE;\n",
              "      border: none;\n",
              "      border-radius: 50%;\n",
              "      cursor: pointer;\n",
              "      display: none;\n",
              "      fill: #1967D2;\n",
              "      height: 32px;\n",
              "      padding: 0 0 0 0;\n",
              "      width: 32px;\n",
              "    }\n",
              "\n",
              "    .colab-df-convert:hover {\n",
              "      background-color: #E2EBFA;\n",
              "      box-shadow: 0px 1px 2px rgba(60, 64, 67, 0.3), 0px 1px 3px 1px rgba(60, 64, 67, 0.15);\n",
              "      fill: #174EA6;\n",
              "    }\n",
              "\n",
              "    .colab-df-buttons div {\n",
              "      margin-bottom: 4px;\n",
              "    }\n",
              "\n",
              "    [theme=dark] .colab-df-convert {\n",
              "      background-color: #3B4455;\n",
              "      fill: #D2E3FC;\n",
              "    }\n",
              "\n",
              "    [theme=dark] .colab-df-convert:hover {\n",
              "      background-color: #434B5C;\n",
              "      box-shadow: 0px 1px 3px 1px rgba(0, 0, 0, 0.15);\n",
              "      filter: drop-shadow(0px 1px 2px rgba(0, 0, 0, 0.3));\n",
              "      fill: #FFFFFF;\n",
              "    }\n",
              "  </style>\n",
              "\n",
              "    <script>\n",
              "      const buttonEl =\n",
              "        document.querySelector('#df-e22fd6f4-89ed-43bd-b7eb-920bfdb8c505 button.colab-df-convert');\n",
              "      buttonEl.style.display =\n",
              "        google.colab.kernel.accessAllowed ? 'block' : 'none';\n",
              "\n",
              "      async function convertToInteractive(key) {\n",
              "        const element = document.querySelector('#df-e22fd6f4-89ed-43bd-b7eb-920bfdb8c505');\n",
              "        const dataTable =\n",
              "          await google.colab.kernel.invokeFunction('convertToInteractive',\n",
              "                                                    [key], {});\n",
              "        if (!dataTable) return;\n",
              "\n",
              "        const docLinkHtml = 'Like what you see? Visit the ' +\n",
              "          '<a target=\"_blank\" href=https://colab.research.google.com/notebooks/data_table.ipynb>data table notebook</a>'\n",
              "          + ' to learn more about interactive tables.';\n",
              "        element.innerHTML = '';\n",
              "        dataTable['output_type'] = 'display_data';\n",
              "        await google.colab.output.renderOutput(dataTable, element);\n",
              "        const docLink = document.createElement('div');\n",
              "        docLink.innerHTML = docLinkHtml;\n",
              "        element.appendChild(docLink);\n",
              "      }\n",
              "    </script>\n",
              "  </div>\n",
              "\n",
              "\n",
              "    <div id=\"df-9110ca99-1f3e-441f-9638-27cdd042c7dd\">\n",
              "      <button class=\"colab-df-quickchart\" onclick=\"quickchart('df-9110ca99-1f3e-441f-9638-27cdd042c7dd')\"\n",
              "                title=\"Suggest charts\"\n",
              "                style=\"display:none;\">\n",
              "\n",
              "<svg xmlns=\"http://www.w3.org/2000/svg\" height=\"24px\"viewBox=\"0 0 24 24\"\n",
              "     width=\"24px\">\n",
              "    <g>\n",
              "        <path d=\"M19 3H5c-1.1 0-2 .9-2 2v14c0 1.1.9 2 2 2h14c1.1 0 2-.9 2-2V5c0-1.1-.9-2-2-2zM9 17H7v-7h2v7zm4 0h-2V7h2v10zm4 0h-2v-4h2v4z\"/>\n",
              "    </g>\n",
              "</svg>\n",
              "      </button>\n",
              "\n",
              "<style>\n",
              "  .colab-df-quickchart {\n",
              "      --bg-color: #E8F0FE;\n",
              "      --fill-color: #1967D2;\n",
              "      --hover-bg-color: #E2EBFA;\n",
              "      --hover-fill-color: #174EA6;\n",
              "      --disabled-fill-color: #AAA;\n",
              "      --disabled-bg-color: #DDD;\n",
              "  }\n",
              "\n",
              "  [theme=dark] .colab-df-quickchart {\n",
              "      --bg-color: #3B4455;\n",
              "      --fill-color: #D2E3FC;\n",
              "      --hover-bg-color: #434B5C;\n",
              "      --hover-fill-color: #FFFFFF;\n",
              "      --disabled-bg-color: #3B4455;\n",
              "      --disabled-fill-color: #666;\n",
              "  }\n",
              "\n",
              "  .colab-df-quickchart {\n",
              "    background-color: var(--bg-color);\n",
              "    border: none;\n",
              "    border-radius: 50%;\n",
              "    cursor: pointer;\n",
              "    display: none;\n",
              "    fill: var(--fill-color);\n",
              "    height: 32px;\n",
              "    padding: 0;\n",
              "    width: 32px;\n",
              "  }\n",
              "\n",
              "  .colab-df-quickchart:hover {\n",
              "    background-color: var(--hover-bg-color);\n",
              "    box-shadow: 0 1px 2px rgba(60, 64, 67, 0.3), 0 1px 3px 1px rgba(60, 64, 67, 0.15);\n",
              "    fill: var(--button-hover-fill-color);\n",
              "  }\n",
              "\n",
              "  .colab-df-quickchart-complete:disabled,\n",
              "  .colab-df-quickchart-complete:disabled:hover {\n",
              "    background-color: var(--disabled-bg-color);\n",
              "    fill: var(--disabled-fill-color);\n",
              "    box-shadow: none;\n",
              "  }\n",
              "\n",
              "  .colab-df-spinner {\n",
              "    border: 2px solid var(--fill-color);\n",
              "    border-color: transparent;\n",
              "    border-bottom-color: var(--fill-color);\n",
              "    animation:\n",
              "      spin 1s steps(1) infinite;\n",
              "  }\n",
              "\n",
              "  @keyframes spin {\n",
              "    0% {\n",
              "      border-color: transparent;\n",
              "      border-bottom-color: var(--fill-color);\n",
              "      border-left-color: var(--fill-color);\n",
              "    }\n",
              "    20% {\n",
              "      border-color: transparent;\n",
              "      border-left-color: var(--fill-color);\n",
              "      border-top-color: var(--fill-color);\n",
              "    }\n",
              "    30% {\n",
              "      border-color: transparent;\n",
              "      border-left-color: var(--fill-color);\n",
              "      border-top-color: var(--fill-color);\n",
              "      border-right-color: var(--fill-color);\n",
              "    }\n",
              "    40% {\n",
              "      border-color: transparent;\n",
              "      border-right-color: var(--fill-color);\n",
              "      border-top-color: var(--fill-color);\n",
              "    }\n",
              "    60% {\n",
              "      border-color: transparent;\n",
              "      border-right-color: var(--fill-color);\n",
              "    }\n",
              "    80% {\n",
              "      border-color: transparent;\n",
              "      border-right-color: var(--fill-color);\n",
              "      border-bottom-color: var(--fill-color);\n",
              "    }\n",
              "    90% {\n",
              "      border-color: transparent;\n",
              "      border-bottom-color: var(--fill-color);\n",
              "    }\n",
              "  }\n",
              "</style>\n",
              "\n",
              "      <script>\n",
              "        async function quickchart(key) {\n",
              "          const quickchartButtonEl =\n",
              "            document.querySelector('#' + key + ' button');\n",
              "          quickchartButtonEl.disabled = true;  // To prevent multiple clicks.\n",
              "          quickchartButtonEl.classList.add('colab-df-spinner');\n",
              "          try {\n",
              "            const charts = await google.colab.kernel.invokeFunction(\n",
              "                'suggestCharts', [key], {});\n",
              "          } catch (error) {\n",
              "            console.error('Error during call to suggestCharts:', error);\n",
              "          }\n",
              "          quickchartButtonEl.classList.remove('colab-df-spinner');\n",
              "          quickchartButtonEl.classList.add('colab-df-quickchart-complete');\n",
              "        }\n",
              "        (() => {\n",
              "          let quickchartButtonEl =\n",
              "            document.querySelector('#df-9110ca99-1f3e-441f-9638-27cdd042c7dd button');\n",
              "          quickchartButtonEl.style.display =\n",
              "            google.colab.kernel.accessAllowed ? 'block' : 'none';\n",
              "        })();\n",
              "      </script>\n",
              "    </div>\n",
              "\n",
              "  <div id=\"id_f326e73f-b931-4625-8ca6-75bf335683c7\">\n",
              "    <style>\n",
              "      .colab-df-generate {\n",
              "        background-color: #E8F0FE;\n",
              "        border: none;\n",
              "        border-radius: 50%;\n",
              "        cursor: pointer;\n",
              "        display: none;\n",
              "        fill: #1967D2;\n",
              "        height: 32px;\n",
              "        padding: 0 0 0 0;\n",
              "        width: 32px;\n",
              "      }\n",
              "\n",
              "      .colab-df-generate:hover {\n",
              "        background-color: #E2EBFA;\n",
              "        box-shadow: 0px 1px 2px rgba(60, 64, 67, 0.3), 0px 1px 3px 1px rgba(60, 64, 67, 0.15);\n",
              "        fill: #174EA6;\n",
              "      }\n",
              "\n",
              "      [theme=dark] .colab-df-generate {\n",
              "        background-color: #3B4455;\n",
              "        fill: #D2E3FC;\n",
              "      }\n",
              "\n",
              "      [theme=dark] .colab-df-generate:hover {\n",
              "        background-color: #434B5C;\n",
              "        box-shadow: 0px 1px 3px 1px rgba(0, 0, 0, 0.15);\n",
              "        filter: drop-shadow(0px 1px 2px rgba(0, 0, 0, 0.3));\n",
              "        fill: #FFFFFF;\n",
              "      }\n",
              "    </style>\n",
              "    <button class=\"colab-df-generate\" onclick=\"generateWithVariable('video_id_df')\"\n",
              "            title=\"Generate code using this dataframe.\"\n",
              "            style=\"display:none;\">\n",
              "\n",
              "  <svg xmlns=\"http://www.w3.org/2000/svg\" height=\"24px\"viewBox=\"0 0 24 24\"\n",
              "       width=\"24px\">\n",
              "    <path d=\"M7,19H8.4L18.45,9,17,7.55,7,17.6ZM5,21V16.75L18.45,3.32a2,2,0,0,1,2.83,0l1.4,1.43a1.91,1.91,0,0,1,.58,1.4,1.91,1.91,0,0,1-.58,1.4L9.25,21ZM18.45,9,17,7.55Zm-12,3A5.31,5.31,0,0,0,4.9,8.1,5.31,5.31,0,0,0,1,6.5,5.31,5.31,0,0,0,4.9,4.9,5.31,5.31,0,0,0,6.5,1,5.31,5.31,0,0,0,8.1,4.9,5.31,5.31,0,0,0,12,6.5,5.46,5.46,0,0,0,6.5,12Z\"/>\n",
              "  </svg>\n",
              "    </button>\n",
              "    <script>\n",
              "      (() => {\n",
              "      const buttonEl =\n",
              "        document.querySelector('#id_f326e73f-b931-4625-8ca6-75bf335683c7 button.colab-df-generate');\n",
              "      buttonEl.style.display =\n",
              "        google.colab.kernel.accessAllowed ? 'block' : 'none';\n",
              "\n",
              "      buttonEl.onclick = () => {\n",
              "        google.colab.notebook.generateWithVariable('video_id_df');\n",
              "      }\n",
              "      })();\n",
              "    </script>\n",
              "  </div>\n",
              "\n",
              "    </div>\n",
              "  </div>\n"
            ],
            "application/vnd.google.colaboratory.intrinsic+json": {
              "type": "dataframe",
              "variable_name": "video_id_df",
              "summary": "{\n  \"name\": \"video_id_df\",\n  \"rows\": 796,\n  \"fields\": [\n    {\n      \"column\": \"playlist_id\",\n      \"properties\": {\n        \"dtype\": \"category\",\n        \"num_unique_values\": 27,\n        \"samples\": [\n          \"PLXonhhg5tUSJYKMMCNfZCKugerw6D42c_\",\n          \"PLXonhhg5tUSJYbsuOFfcNI7LgbCSrEH38\",\n          \"PLXonhhg5tUSKOCmSKZKzcnPOutjIPL5Do\"\n        ],\n        \"semantic_type\": \"\",\n        \"description\": \"\"\n      }\n    },\n    {\n      \"column\": \"video_id\",\n      \"properties\": {\n        \"dtype\": \"string\",\n        \"num_unique_values\": 559,\n        \"samples\": [\n          \"6eYIohWB3uE\",\n          \"n5nKYqvu29w\",\n          \"8RzhNxNgrr0\"\n        ],\n        \"semantic_type\": \"\",\n        \"description\": \"\"\n      }\n    }\n  ]\n}"
            }
          },
          "metadata": {},
          "execution_count": 29
        }
      ]
    },
    {
      "cell_type": "code",
      "source": [
        "# convert the datafram column into a list which will be used to gather info about the videos\n",
        "\n",
        "video_id_list = video_id_df['video_id'].to_list()"
      ],
      "metadata": {
        "id": "j9K00lOmPdG9"
      },
      "execution_count": 31,
      "outputs": []
    },
    {
      "cell_type": "code",
      "source": [
        "print(f\"Totat number of videos in playlist is: {len(video_id_list)}\")"
      ],
      "metadata": {
        "colab": {
          "base_uri": "https://localhost:8080/"
        },
        "id": "DhmlQ-wQQJQb",
        "outputId": "f2c6dd80-0239-47c8-af3c-a2fd6fcd35f4"
      },
      "execution_count": 32,
      "outputs": [
        {
          "output_type": "stream",
          "name": "stdout",
          "text": [
            "Totat number of videos in playlist is: 796\n"
          ]
        }
      ]
    },
    {
      "cell_type": "code",
      "source": [
        "# checking\n",
        "video_id_list"
      ],
      "metadata": {
        "colab": {
          "base_uri": "https://localhost:8080/"
        },
        "collapsed": true,
        "id": "HMixuQI_Ze9N",
        "outputId": "dab8032d-a219-4e97-fe1c-025c6b18ed8f"
      },
      "execution_count": 34,
      "outputs": [
        {
          "output_type": "execute_result",
          "data": {
            "text/plain": [
              "['zIPZQ6yBA2c',\n",
              " 'vG-NsFXNYUw',\n",
              " '2Sz40WqBg8E',\n",
              " 'U5vJ3hlopUk',\n",
              " 'Azarsj8xlBk',\n",
              " 'ptxrb2k7Y-s',\n",
              " '_UrxR8d3EkQ',\n",
              " 'Gic3YyUGtoE',\n",
              " '2KaLHmT6XMg',\n",
              " 'oGNH9LSS1ak',\n",
              " '1f48YuUfn-0',\n",
              " '_EzxA-0eT3I',\n",
              " 'LUbl6WDab2Y',\n",
              " 'CIgsowpYfS0',\n",
              " 'J6sUfY7FHD4',\n",
              " 'o7n-ch5tdi8',\n",
              " '6AW9tIAHUXg',\n",
              " 'QJjpXEzjVNQ',\n",
              " '31SSbqQGlxM',\n",
              " '6nFKCWrF_N8',\n",
              " '35DToZpqJXY',\n",
              " 'Y4bGqM-QqWs',\n",
              " 'hzLZs7g3P-4',\n",
              " 'eNjv3A_pd2M',\n",
              " 'ozGdp8a-mLM',\n",
              " 'WrZ14kzuyK8',\n",
              " 'zYY0b8n0COc',\n",
              " 'Wbtish4P98s',\n",
              " 'R-frrl0pFgw',\n",
              " 'ysEZuCXF_04',\n",
              " 'sYFYzeBHjsc',\n",
              " '1wMUzUys6Rk',\n",
              " 'DzlUP22vIJs',\n",
              " 'iDEWVJp_HfM',\n",
              " 'kmIbyd9pAhI',\n",
              " '_UrxR8d3EkQ',\n",
              " 'Gic3YyUGtoE',\n",
              " '2KaLHmT6XMg',\n",
              " 'oGNH9LSS1ak',\n",
              " 'zUKsR_SkjgM',\n",
              " '1f48YuUfn-0',\n",
              " 'mZpce9xlXa4',\n",
              " '_EzxA-0eT3I',\n",
              " 'LUbl6WDab2Y',\n",
              " 'Oy-7YY0PGVw',\n",
              " 'CIgsowpYfS0',\n",
              " 'J6sUfY7FHD4',\n",
              " 'o7n-ch5tdi8',\n",
              " '6AW9tIAHUXg',\n",
              " 'QJjpXEzjVNQ',\n",
              " '31SSbqQGlxM',\n",
              " '6nFKCWrF_N8',\n",
              " '35DToZpqJXY',\n",
              " 'Y4bGqM-QqWs',\n",
              " 'hzLZs7g3P-4',\n",
              " 'eNjv3A_pd2M',\n",
              " '-1CrOQLIqMg',\n",
              " 'ozGdp8a-mLM',\n",
              " 'WrZ14kzuyK8',\n",
              " 'zYY0b8n0COc',\n",
              " 'Wbtish4P98s',\n",
              " 'R-frrl0pFgw',\n",
              " 'ysEZuCXF_04',\n",
              " 'sYFYzeBHjsc',\n",
              " '1wMUzUys6Rk',\n",
              " 'j_1hBJqxHXA',\n",
              " 'yUU1sSsYADw',\n",
              " 'P0dYrFHDIOI',\n",
              " 'm1ozlcXjyIo',\n",
              " '9sF6Mur3JUY',\n",
              " 'PMlbUXoyFLA',\n",
              " 'EG-SV_1gi-I',\n",
              " 'YzkAZe7nGF4',\n",
              " 'E04y520TbyM',\n",
              " 'FvyDnlQbnb4',\n",
              " 'UJ7Mp-N3wkA',\n",
              " 'fe4UW7LFJPk',\n",
              " 'LnQoM2SIZmM',\n",
              " 'lQxfPjzTqfA',\n",
              " 'M0kaFels30k',\n",
              " '0hQqymNkv_o',\n",
              " '8RzhNxNgrr0',\n",
              " '0tbqDOKkTCw',\n",
              " '10FwaFPymgc',\n",
              " 'SZ6L1PVRjIk',\n",
              " 'l_nZagd-upU',\n",
              " 'p3ChUdnF7BY',\n",
              " 'EsppymX5k60',\n",
              " '4_GeqmWPxEE',\n",
              " 'vYu4Zu5Ra_k',\n",
              " 'qws7VGet1A4',\n",
              " 'nQWcBII0nF0',\n",
              " 'eTPjruGL-Lo',\n",
              " 'eIURv1hTz-0',\n",
              " 'gxHRZQh9_w4',\n",
              " 'K-HVkx7RLko',\n",
              " '544rSxXNDRU',\n",
              " 'Wr18WC_BFwI',\n",
              " '4_CrVO_LKS0',\n",
              " '1Z-Ja1tpOE0',\n",
              " 'byv5aGd62RQ',\n",
              " '-07gtGrdeyE',\n",
              " '9JcFP_4v5W8',\n",
              " 'f0Kn2_0OdT4',\n",
              " 'mecWBm1c8qM',\n",
              " 'WOy3Xw-n3lU',\n",
              " '9-jo-qoO2HE',\n",
              " 'nYVLP9IsDM4',\n",
              " 'SGP36xcUnOs',\n",
              " 'nrDLLhqUXdc',\n",
              " 'ZdxSPFt4oxk',\n",
              " 'd0tzLmt7Zp4',\n",
              " '3MQowyj_hLw',\n",
              " 'ScSV-i7wIFI',\n",
              " 'KnSsV5xAJIU',\n",
              " 'X2zLpB8Cfi0',\n",
              " 'A_VRJtAZVJI',\n",
              " 'ku5hgZgGDj4',\n",
              " 'iEs3qXQvg6M',\n",
              " 'hcGRskPjQcU',\n",
              " 'BNyVPQoCibg',\n",
              " 'iac_idcz6XE',\n",
              " 'wK9OHVxB_Z8',\n",
              " 'MP4pBWRPcqQ',\n",
              " 'lC87cKrwU5I',\n",
              " 'dElALuJ9Xo8',\n",
              " 'aUUpXEOR4cY',\n",
              " 'gb37bRsBxZA',\n",
              " '6Fhp7_p4jFM',\n",
              " 'eXWg2mF0TmE',\n",
              " '3kdkPUmrc20',\n",
              " 'c7K6Mwh3YNs',\n",
              " 'X_IUu2PmofY',\n",
              " 'YvbIZGedBHI',\n",
              " 'r4L1UqnUScg',\n",
              " 'RQfuzVNsLCI',\n",
              " 'IRHfbIDn-YU',\n",
              " 'yXvPVwGNCFo',\n",
              " 'tEHH88sWi7Q',\n",
              " 'CeTW77IIdNk',\n",
              " 'Xj4ShFWFiaQ',\n",
              " 'FL7u21QGoo0',\n",
              " 'UE_1KhwCwT0',\n",
              " 'A_VRJtAZVJI',\n",
              " '5zi5j14XqXY',\n",
              " 'KSXKzPOcYDU',\n",
              " 'tYDy1a7HPaM',\n",
              " 'xbM0sfh7aEE',\n",
              " 'Gf4wGBT6MGQ',\n",
              " 'os14KP1d-cU',\n",
              " 'gLAnEdRqczg',\n",
              " 'SW1u-5gQTFE',\n",
              " 'lqdXDidirTg',\n",
              " 'EIy9oLDuvZw',\n",
              " 'gtuPoQ1LWMI',\n",
              " '_WXLg6Et_zs',\n",
              " 'cFukjmdU5Do',\n",
              " 'y1dAURKfRKE',\n",
              " 'IdN4UDLfkqw',\n",
              " '8Pw4murTjgY',\n",
              " 'NUom6bFsQgA',\n",
              " 'eD-MmEtkOSQ',\n",
              " 'AWNfFwiYNaU',\n",
              " '2vMK-p6-M5E',\n",
              " 'BNyVPQoCibg',\n",
              " 'iEs3qXQvg6M',\n",
              " 'HgcCwFC-EoE',\n",
              " '0iuxQjSvBL8',\n",
              " 'tRbPmyeXI8Y',\n",
              " 'WOlesaj0nJk',\n",
              " 'WDK762aVaMI',\n",
              " 'gGNJbFQIr5g',\n",
              " 'gGNJbFQIr5g',\n",
              " 'ncaCdeb--xA',\n",
              " 'VWX3Kjba9iY',\n",
              " '6haQYDyL7K4',\n",
              " '_1UL_vgbDu0',\n",
              " '4ne3BvF4YW0',\n",
              " 'cpoSvprBJpE',\n",
              " 'tBKRRpcRqB0',\n",
              " 'nn2MXwplMZA',\n",
              " 'Wf2dp8ZrPv0',\n",
              " 'ikOtA7Va2YY',\n",
              " 'hupQMhTiLys',\n",
              " '0-FLn-A0cnE',\n",
              " '8Tix7mPXGbc',\n",
              " 'Qx73EM71JeQ',\n",
              " '4XQY9NlVIS4',\n",
              " '6eYIohWB3uE',\n",
              " 'VTUjqpakwlM',\n",
              " '1Z-Ja1tpOE0',\n",
              " 'ZM2PJLOnPP4',\n",
              " 'Wf2dp8ZrPv0',\n",
              " 'g3dArGmMbCg',\n",
              " 't3xedRPSNuc',\n",
              " '9-jo-qoO2HE',\n",
              " 'IRHfbIDn-YU',\n",
              " 'QUj9B4Y3LqI',\n",
              " 'OJOZFKwN1qg',\n",
              " 'jV8jh3-cJtM',\n",
              " 'X2zLpB8Cfi0',\n",
              " 'yMb2QXvj0Kc',\n",
              " 'ku5hgZgGDj4',\n",
              " 'P3bygtfXFis',\n",
              " 'mL9gb22wwss',\n",
              " 'JbR5wa2zuiY',\n",
              " '4ne3BvF4YW0',\n",
              " 'D133H1Max3Y',\n",
              " 'cWJmzIRcjrg',\n",
              " '11YXYOfD2LM',\n",
              " 'uAlQ1y4jKco',\n",
              " 'iK5aIaKG8O4',\n",
              " '2VuuVULLiuY',\n",
              " 'IfhHmLX-MXI',\n",
              " '-v7nhyjCx5Q',\n",
              " 'Wwgn5k_TzKM',\n",
              " '9YndA94zgUo',\n",
              " 'N137EhBPu48',\n",
              " '8Dw2UyqIaik',\n",
              " 'sqevRnFcEE0',\n",
              " '6IJiah55k4k',\n",
              " 'nYhsjEs4tdU',\n",
              " 'WXH_Z8ukptE',\n",
              " 'ddp-G9fj8Kc',\n",
              " 'XcTNQwj6lHo',\n",
              " '9OVNG7JpnJA',\n",
              " 'axnbJ9Spo4w',\n",
              " 'W3AMbJTUcL8',\n",
              " 'O7KWWLt92I8',\n",
              " 'ncyVaEs3IYg',\n",
              " 'aW9XkyjunzI',\n",
              " 'neLwcOqrucc',\n",
              " 'zpFuaze3bwE',\n",
              " 'Tg2K0pmNXsA',\n",
              " 'z3sHh4iWMtw',\n",
              " '2AI8YPammTo',\n",
              " 'W23-UJ3OanM',\n",
              " 'JDHHaMtmSS0',\n",
              " 'zIfxBh0RF30',\n",
              " '2VuuVULLiuY',\n",
              " 'IfhHmLX-MXI',\n",
              " '-v7nhyjCx5Q',\n",
              " 'Wwgn5k_TzKM',\n",
              " '9YndA94zgUo',\n",
              " 'N137EhBPu48',\n",
              " 'sqevRnFcEE0',\n",
              " '3b-zAjQYkEA',\n",
              " '0SxlESaak_Q',\n",
              " '0eUedeTH_aI',\n",
              " '-Ud2cqoB7gE',\n",
              " 'HukqEjCPkhU',\n",
              " 'kWge-2jT9ZQ',\n",
              " 'P6QWoOQMvE8',\n",
              " 'ntwZfErKJEg',\n",
              " 'rb7d4u5JpBw',\n",
              " 'ojiO7tAJDSM',\n",
              " 'zDpP28gdjC4',\n",
              " '0KkkPZIDvj8',\n",
              " '9sfm9aqxygs',\n",
              " 'NcXzpCqKdUA',\n",
              " 'uWbl3Sr2y1Y',\n",
              " 'INiAM1u925E',\n",
              " 'oT-34Q9eb5k',\n",
              " 'qiZJimVUn5U',\n",
              " 'B3vmjSa98lw',\n",
              " '9FHHmx6kDGc',\n",
              " 'uX-Y513ohbc',\n",
              " 'uX-Y513ohbc',\n",
              " 'Bt8YgEr-9is',\n",
              " 'Bt8YgEr-9is',\n",
              " '7KjWFcIi4_8',\n",
              " 'pkzRzrxYtMo',\n",
              " 'k1Np28NnP40',\n",
              " 'k1Np28NnP40',\n",
              " 'AFE-MzzuGmc',\n",
              " 'A1ZIumhLZ6M',\n",
              " 'RPYk9W9v-bI',\n",
              " 'ixCnCvDUKQ8',\n",
              " '9TnIeYc2CWU',\n",
              " '6RUDa0FKplk',\n",
              " 'cR36DqjOvig',\n",
              " 'aKgH2ijiHE4',\n",
              " 'EbfsckxsRV0',\n",
              " '4mB1GONAjUQ',\n",
              " 'hb0Elaa6gxY',\n",
              " '2E8UYxFyEJo',\n",
              " 'a5eO6BvMu8k',\n",
              " 'cvROmO5ODnQ',\n",
              " 'VIdlVi-VzPY',\n",
              " 'QUj9B4Y3LqI',\n",
              " '6wYjsdU6qgI',\n",
              " 'YdFjuglEAds',\n",
              " 'CIibuibsy_U',\n",
              " 'GNaTZCoqplE',\n",
              " '0Mss7hxdqvQ',\n",
              " 'QUceCdIoqoI',\n",
              " 'taSuTIWwVC0',\n",
              " 'ATVUcl3Bv4U',\n",
              " 'U5vJ3hlopUk',\n",
              " '2Sz40WqBg8E',\n",
              " 'Wwgn5k_TzKM',\n",
              " 'kt3G1FB_QpA',\n",
              " 'rsIlzNqN0ok',\n",
              " 'BxfC5yVa2uk',\n",
              " 'ntwZfErKJEg',\n",
              " 'IfhHmLX-MXI',\n",
              " '9sfm9aqxygs',\n",
              " 'JqlgsRJiyWs',\n",
              " 'T30N2iyGEJU',\n",
              " '3e8XFqQYORM',\n",
              " '_PVNG8KkNPk',\n",
              " '297vr0vJipw',\n",
              " '13k4zzJxRiI',\n",
              " 'DnOZHFNzs2o',\n",
              " 'qX8wALuVQyc',\n",
              " 'eSnd2_Ipqz4',\n",
              " 'oCaQBLQwYrc',\n",
              " 'gGNJbFQIr5g',\n",
              " 'gGNJbFQIr5g',\n",
              " 'ncaCdeb--xA',\n",
              " 'VWX3Kjba9iY',\n",
              " '6haQYDyL7K4',\n",
              " '_1UL_vgbDu0',\n",
              " 'itnUJEOXQCg',\n",
              " 'wfyjK9ZZfoI',\n",
              " '3pPU_9dkCFw',\n",
              " 'ZxhBFwgoBkk',\n",
              " '-ehLtsfL8Fc',\n",
              " 'LhlSj6BrvGw',\n",
              " '0sqshMBBQhI',\n",
              " 'G58F3MFVyFw',\n",
              " 'ik8rvIAk0UI',\n",
              " 'ixCnCvDUKQ8',\n",
              " 'tBKRRpcRqB0',\n",
              " 'LWU8NpbYBX0',\n",
              " '2vh8yRzYuao',\n",
              " 'IuohyT80X0Y',\n",
              " 'rkMldsRcx0E',\n",
              " 'h2XlEXoerWc',\n",
              " 'vwOEDR0gQLw',\n",
              " 'B_TmqpsmH-M',\n",
              " 'vG-NsFXNYUw',\n",
              " 'HquPptrACtk',\n",
              " 'jVKh5t_xUww',\n",
              " 'J5ZraZz-L4A',\n",
              " 'S8qhzb0YI3E',\n",
              " 'ZbxsGx8VqnY',\n",
              " 'r_MaoAKYa-c',\n",
              " 'mEofA0SvS1k',\n",
              " 'CIibuibsy_U',\n",
              " 'GNaTZCoqplE',\n",
              " '8EN8leHe0uY',\n",
              " 'ATVUcl3Bv4U',\n",
              " 'taSuTIWwVC0',\n",
              " 'CyVT1vAFsrQ',\n",
              " 'IV9OHMsgGcs',\n",
              " 'hb0Elaa6gxY',\n",
              " '4mB1GONAjUQ',\n",
              " '9TnIeYc2CWU',\n",
              " 'jZPztxgHuCE',\n",
              " 'JFngi1BKzy4',\n",
              " 'JOoaKt4u-gk',\n",
              " 'FYE4ZPB0P-k',\n",
              " 'JZlli2J3ugs',\n",
              " 'kM0iic86tvg',\n",
              " 'sqevRnFcEE0',\n",
              " 'UwMCGXWxMes',\n",
              " 'PCUCHGflEOY',\n",
              " 'weFT03Mcah0',\n",
              " 'SJXh7DulmNU',\n",
              " 'PwFTpvJ96ns',\n",
              " 'hP6Gq7zxrO0',\n",
              " 'ik8rvIAk0UI',\n",
              " 'RP9RVjoZlzU',\n",
              " '4OIQ0vQEfOo',\n",
              " 'Oa_VmoJSX1c',\n",
              " 'AIRi-pTrbxU',\n",
              " 'HcUTvr5b9IM',\n",
              " 'yWaYdGQqxQU',\n",
              " '8IeKQSW1LX8',\n",
              " 'r_MaoAKYa-c',\n",
              " 'jVKh5t_xUww',\n",
              " 'BuebC0CfD8E',\n",
              " 'yprH4DRHI0c',\n",
              " 'eF3sdty5H2w',\n",
              " 'CAlsQJb65Gk',\n",
              " 'iP1ihDLKoV0',\n",
              " 'c5KzC3HErfE',\n",
              " 'uyPfr1-WQ3k',\n",
              " 'SsmsXA7QiGM',\n",
              " 'c7kYiEB4ogY',\n",
              " '10zLnttKib0',\n",
              " 'jQD6S6v4TyU',\n",
              " 'Tu5FEVUMWVU',\n",
              " '3AP4yhKS-qg',\n",
              " 'SJXh7DulmNU',\n",
              " 'PwFTpvJ96ns',\n",
              " 'uhYEy3PA0RI',\n",
              " '_38L9l_n5ZQ',\n",
              " 'me9t-RLgNHg',\n",
              " 'NvnRl5If_6Y',\n",
              " 'PD5Xm6d41NI',\n",
              " '-EAQvw0Ml5g',\n",
              " 'y_BQHuIO4Do',\n",
              " 'QJAoFJOASsw',\n",
              " 'QCm5GB3BFBY',\n",
              " '8vFYJPSNj1E',\n",
              " 'wf4Rz1Wozkc',\n",
              " '8XiRUwriSYA',\n",
              " 'uNu16CMp6vo',\n",
              " 'Gg7mNNKYvGA',\n",
              " 'u536QQp4oQ4',\n",
              " '63Sq1bk32zg',\n",
              " 'qYLkZSMegq4',\n",
              " 'MS_IdAevyMY',\n",
              " 'Q8qW3TtN0ao',\n",
              " 'bbqZJZOUM6I',\n",
              " 'yWaYdGQqxQU',\n",
              " 'bgD7k9s4vMY',\n",
              " 'KCHpiHmOXyU',\n",
              " 'argKpeiKFfo',\n",
              " 'DkRMDdcddf0',\n",
              " 'ZbxsGx8VqnY',\n",
              " 'S8qhzb0YI3E',\n",
              " 'J5ZraZz-L4A',\n",
              " 'HquPptrACtk',\n",
              " 'ufxqMrkG9Is',\n",
              " 'vsTxPNFja5A',\n",
              " '0cJn7XQE528',\n",
              " 'aOBfSvyHOdc',\n",
              " 'YVS6nodKlIc',\n",
              " 'c5KzC3HErfE',\n",
              " 'uyPfr1-WQ3k',\n",
              " 'vaiKwrQRam4',\n",
              " 'ZJMUIDEJ6ls',\n",
              " '7zS5Wj7ZfIY',\n",
              " 'ZGdEpaPKADI',\n",
              " 'AfV1r_6umpE',\n",
              " 'c7kYiEB4ogY',\n",
              " '56ajLLO09wU',\n",
              " 'Sap5IKEGHDA',\n",
              " 'kSmH01K76lY',\n",
              " 'Kbm2yeA1_C4',\n",
              " 'jQD6S6v4TyU',\n",
              " '6IJiah55k4k',\n",
              " 'UwMCGXWxMes',\n",
              " 'P6QWoOQMvE8',\n",
              " 'VE3EzONW6Mo',\n",
              " 'kWge-2jT9ZQ',\n",
              " 'rb7d4u5JpBw',\n",
              " 'z3zs76WmYdk',\n",
              " '2Sz40WqBg8E',\n",
              " '6hVb1ViS66I',\n",
              " 'UE_1KhwCwT0',\n",
              " 'vG-NsFXNYUw',\n",
              " 'hupQMhTiLys',\n",
              " 'gzsihrkXz2w',\n",
              " 'J0-2Wzn4FKU',\n",
              " 'U5vJ3hlopUk',\n",
              " 'paXy_Yx_a_8',\n",
              " 'FL7u21QGoo0',\n",
              " 'SufzyJ6zuGs',\n",
              " 'FkFxp88_KFw',\n",
              " 'Xj4ShFWFiaQ',\n",
              " 'vwOEDR0gQLw',\n",
              " 'BzehicCf26g',\n",
              " 'h2XlEXoerWc',\n",
              " '-MQqp0J48To',\n",
              " 'Azarsj8xlBk',\n",
              " 'nj6Jx2Jd4Rw',\n",
              " 'ptxrb2k7Y-s',\n",
              " 'AyOxay5AtMM',\n",
              " 'Qx73EM71JeQ',\n",
              " '4XQY9NlVIS4',\n",
              " '2fWXrpkoFes',\n",
              " '6eYIohWB3uE',\n",
              " 'rkMldsRcx0E',\n",
              " 'bTJaztklvew',\n",
              " 'IuohyT80X0Y',\n",
              " 'Y_zyGtmETWQ',\n",
              " 'PMkHjj2Qjfg',\n",
              " '2vh8yRzYuao',\n",
              " 'NHC0V2dTc-0',\n",
              " 'pWL2ctIxtYk',\n",
              " 'EqIxh5AwirU',\n",
              " 'IF22i8SQVWk',\n",
              " '76jjTwjNa0c',\n",
              " 'bUEE9PgWWQA',\n",
              " 'LWU8NpbYBX0',\n",
              " 'bN_QNjRprbU',\n",
              " '8EN8leHe0uY',\n",
              " 'AO4QPY5vyIU',\n",
              " 'MSuOe1DwqOg',\n",
              " 'WOlesaj0nJk',\n",
              " 'zLn-jOyuh6U',\n",
              " 'ATVUcl3Bv4U',\n",
              " 'taSuTIWwVC0',\n",
              " 'hit26kbaDYk',\n",
              " 'GFytqjoS6cg',\n",
              " '0tbqDOKkTCw',\n",
              " 'l_nZagd-upU',\n",
              " 'p3ChUdnF7BY',\n",
              " 'onFC-DlCA9k',\n",
              " 'ca26Ax2qNA8',\n",
              " 'JoG7KrB4FTA',\n",
              " 'nQWcBII0nF0',\n",
              " 'qws7VGet1A4',\n",
              " 'OlHhVgOH-IE',\n",
              " 'EsppymX5k60',\n",
              " 'jvEZD9sF7Xc',\n",
              " '-QSsdhltXWU',\n",
              " 'vYu4Zu5Ra_k',\n",
              " 'soToeojGmiM',\n",
              " '4_GeqmWPxEE',\n",
              " 'HYZzHhkF8WY',\n",
              " '3b4cyBEvUPE',\n",
              " 'VoTqzjg83u8',\n",
              " '8v--ZOaM1Wk',\n",
              " 'ulHfyCKqeuU',\n",
              " 'QUceCdIoqoI',\n",
              " 'vWkz2xOrUTM',\n",
              " 'uiPzmZM9cto',\n",
              " '9Dg7kSKrSnk',\n",
              " 'Rb-K0uMHvhw',\n",
              " '0Mss7hxdqvQ',\n",
              " 'JU89vKmFBY0',\n",
              " 'ZSgDnSCIUBY',\n",
              " 'mopRZ03g5kU',\n",
              " 'GNaTZCoqplE',\n",
              " 'CIibuibsy_U',\n",
              " 'BLVDLWPquiY',\n",
              " 'HquPptrACtk',\n",
              " 'kJhv2QUE2LA',\n",
              " 'Wr18WC_BFwI',\n",
              " 'S60GxA9JpLk',\n",
              " 'ntQ4VTRMvCQ',\n",
              " 'uXkT8LbCPOY',\n",
              " 'OzJIDh9pwWQ',\n",
              " '544rSxXNDRU',\n",
              " 'K-HVkx7RLko',\n",
              " 'gxHRZQh9_w4',\n",
              " 'aSLLJXtVsL8',\n",
              " 'DB4FVAJ1Au4',\n",
              " 'O5fKyO6zhso',\n",
              " 'K3E2diDnEs4',\n",
              " 'iInHnbGbsNQ',\n",
              " 'OdkPJdf3IkM',\n",
              " 'gXzO-CQCG_c',\n",
              " 'Wf2dp8ZrPv0',\n",
              " 'sVWBqy657TE',\n",
              " 'byv5aGd62RQ',\n",
              " '5mIbyUgNOlo',\n",
              " 'g3dArGmMbCg',\n",
              " 'nHDNtxvrhHc',\n",
              " '6-PX4-Y2ckU',\n",
              " '_uaYKmgJJlo',\n",
              " 'pRsPrQ56BvI',\n",
              " 'YdFjuglEAds',\n",
              " 'yUcZqyGrWYw',\n",
              " 'CeTW77IIdNk',\n",
              " 'wFLzI_Tq8P4',\n",
              " 'tEHH88sWi7Q',\n",
              " '9JcFP_4v5W8',\n",
              " 'mecWBm1c8qM',\n",
              " 'f0Kn2_0OdT4',\n",
              " 'WOy3Xw-n3lU',\n",
              " '-07gtGrdeyE',\n",
              " 'yXvPVwGNCFo',\n",
              " 'CyGelCPUMc0',\n",
              " 'm3KETDJkzvk',\n",
              " 'c7XlF93UZMM',\n",
              " 'RQfuzVNsLCI',\n",
              " 'r4L1UqnUScg',\n",
              " 'YvbIZGedBHI',\n",
              " 'FF604S59At4',\n",
              " 'EBiNgXQbbuk',\n",
              " 'wVvjNX-lSr0',\n",
              " 'W1U4JPWD2AA',\n",
              " 'Zhe4xOaypO4',\n",
              " '7jk3eNB4ngA',\n",
              " 'X_IUu2PmofY',\n",
              " 'W9-rMbGLYzE',\n",
              " 'cPYDguwABAM',\n",
              " 'Oc-R1hOrNow',\n",
              " 'c7K6Mwh3YNs',\n",
              " '3kdkPUmrc20',\n",
              " '6wYjsdU6qgI',\n",
              " 'VOINl_VqPS0',\n",
              " 'QhsrBz9Cceg',\n",
              " 'vZ76sZR5U-A',\n",
              " 'AQNg1dPKUFU',\n",
              " 'eXWg2mF0TmE',\n",
              " '6Fhp7_p4jFM',\n",
              " 'gb37bRsBxZA',\n",
              " 'dtg-oUaninI',\n",
              " 'aUUpXEOR4cY',\n",
              " 'QUj9B4Y3LqI',\n",
              " 'dElALuJ9Xo8',\n",
              " 's4P4v0LMEKo',\n",
              " 'lC87cKrwU5I',\n",
              " 'nYVLP9IsDM4',\n",
              " '7oyBU-kMYzA',\n",
              " 'qr-EzBiljnU',\n",
              " 'SGP36xcUnOs',\n",
              " 'Xe14OphvM_M',\n",
              " 'VIdlVi-VzPY',\n",
              " 'nrDLLhqUXdc',\n",
              " 'cvROmO5ODnQ',\n",
              " 'a5eO6BvMu8k',\n",
              " '_l09Z3R8xUA',\n",
              " 'P90jTVaA6YU',\n",
              " 'fTCbeNQN9k8',\n",
              " '2E8UYxFyEJo',\n",
              " 'hb0Elaa6gxY',\n",
              " 'n5nKYqvu29w',\n",
              " '7DssFmsbCtk',\n",
              " 'F97v-4zfcu4',\n",
              " 'd0tzLmt7Zp4',\n",
              " 'ZdxSPFt4oxk',\n",
              " 'JRlmQdRN0G8',\n",
              " '3MQowyj_hLw',\n",
              " 'PUlfcxSCnOU',\n",
              " 'ScSV-i7wIFI',\n",
              " 'vaJCT7XbnFM',\n",
              " 'fM2aGh1LFD4',\n",
              " 'yUG9ZXhJEbg',\n",
              " 'jV8jh3-cJtM',\n",
              " '1oIxX0YfEFE',\n",
              " 'dNrxU471PBk',\n",
              " '5jOXUxyMYMk',\n",
              " 'UMy_ivAzL3Q',\n",
              " 'YvUHEYQQGtU',\n",
              " 'EbfsckxsRV0',\n",
              " '9BQ9cqe32Zg',\n",
              " 'KnSsV5xAJIU',\n",
              " '4__PaGSjdBE',\n",
              " 'ypuAgaNcGa8',\n",
              " 'XDHGXqMPxL0',\n",
              " 'cR36DqjOvig',\n",
              " 'B6f0qKjfdNA',\n",
              " '6RUDa0FKplk',\n",
              " 'U3gvRjIQ6Lo',\n",
              " '0CwJtYOyoik',\n",
              " 'DKW-PysolPw',\n",
              " 'CfnlQFTmbsY',\n",
              " '9TnIeYc2CWU',\n",
              " 'UEr1CNHW3C8',\n",
              " 'CXTnq7srJRs',\n",
              " '-riGSANPe3g',\n",
              " 'U_Y9BUP3VVI',\n",
              " 'DoNhhCgLiM0',\n",
              " 'tFRpnbPctQo',\n",
              " 'DF6OOUDH9yU',\n",
              " 'AMJsNIXBnt8',\n",
              " 'jZPztxgHuCE',\n",
              " 'vgIplQn92gU',\n",
              " 'dRRTUNaXHdQ',\n",
              " 'zs0rPL6MhkQ',\n",
              " 'A_VRJtAZVJI',\n",
              " '-3oQGaPqUZQ',\n",
              " 'JOoaKt4u-gk',\n",
              " 'FYE4ZPB0P-k',\n",
              " 'ku5hgZgGDj4',\n",
              " 'Esb4DGp8Jes',\n",
              " '1NdpVlfnwB4',\n",
              " '68-5opzvdUc',\n",
              " '3e8XFqQYORM',\n",
              " 'T30N2iyGEJU',\n",
              " 'ASP74I0B7zo',\n",
              " 'hcGRskPjQcU',\n",
              " 'BoFkDmTm2uc',\n",
              " 'ixCnCvDUKQ8',\n",
              " 'iac_idcz6XE',\n",
              " 'YO0DYsT7y-o',\n",
              " 'wK9OHVxB_Z8',\n",
              " 'JqlgsRJiyWs',\n",
              " 'Ikz9l_7q-_s',\n",
              " 'mh2AXh1eRmE',\n",
              " 'BNyVPQoCibg',\n",
              " 'MP4pBWRPcqQ',\n",
              " 'Ld5cECqIFU0',\n",
              " 'uCHKFwTYwjY',\n",
              " 'cpoSvprBJpE',\n",
              " 'Cm4RfmOvZPs',\n",
              " '5BfZn9HHKI0',\n",
              " 'JbR5wa2zuiY',\n",
              " 'eLdCoXxGfSs',\n",
              " 'wbr_adqILas',\n",
              " 'QRHBnO7z3OU',\n",
              " 'pO8TUuSv7HA',\n",
              " 'BowrAiKACxM',\n",
              " 'u2MJzEuI0vI',\n",
              " '7e-Epb3Pt3c',\n",
              " 'LoDd6_u_970',\n",
              " 'PYhC_mfsMU0',\n",
              " 'lD3WyeqCDHw',\n",
              " '4u_bA6BcUH8',\n",
              " '6CPv-EjxeBc',\n",
              " '-qIXbhFFyBA',\n",
              " '4aVS-QWoWlw',\n",
              " 'BMgLRD2v5w0',\n",
              " 'JZlli2J3ugs',\n",
              " 'eD-MmEtkOSQ',\n",
              " 'JepMyy4uahg',\n",
              " 'F9RczIcY_1c',\n",
              " 'XdGcXsvTYQY',\n",
              " 'cWJmzIRcjrg',\n",
              " 'YQqmLBwK8UM',\n",
              " 'qOZzZmEzNm4',\n",
              " '7JZsQ0Jxphs',\n",
              " 'fdcbUocwjhg',\n",
              " 'i_jRNESxR-M',\n",
              " '_tVnPn02oOc',\n",
              " 'p8nJIiQo7jw',\n",
              " 'GYvh3c0olFc',\n",
              " 'Y2nZWveLIRA',\n",
              " '_1UL_vgbDu0',\n",
              " 'jyivW8F8z7M',\n",
              " 'GkDYsQkXbxw',\n",
              " '7ACgshZC45g',\n",
              " '6haQYDyL7K4',\n",
              " 'CD8UTr5mMVk',\n",
              " 'zsLqJBDUMEE',\n",
              " '8q8M60LXMtY',\n",
              " 'qo5EDHn5C_A',\n",
              " 'aZeAvstli-8',\n",
              " '51GpBG4iJcA',\n",
              " 'iV0mvzPw1dk',\n",
              " 'bgC5shRZSWc',\n",
              " 'NWJjt1AJwCA',\n",
              " 'rWzIYr8BHpM',\n",
              " '7M8LlmWg3D0',\n",
              " 'rf8qsGovFaA',\n",
              " '8qU7nRd9fiU',\n",
              " 'z3zs76WmYdk',\n",
              " 'omZG_UPlkyw',\n",
              " 'MtgEZ2Rkm8A',\n",
              " 'tW_r3AkPBjA',\n",
              " 'bkGog_SXQO4',\n",
              " '-QXRJrf9Bys',\n",
              " 'WDK762aVaMI',\n",
              " 'tpbFetR6QiE',\n",
              " 'RPYk9W9v-bI',\n",
              " 'A1ZIumhLZ6M',\n",
              " 'AFE-MzzuGmc',\n",
              " 'MUiKiHbgIZk',\n",
              " 'k1Np28NnP40',\n",
              " 'kFuiX1TnWho',\n",
              " 'Gj0QALi9LsY',\n",
              " 'pkzRzrxYtMo',\n",
              " '7KjWFcIi4_8',\n",
              " 'Bt8YgEr-9is',\n",
              " 'uX-Y513ohbc',\n",
              " 'cf3IBpffpss',\n",
              " '9FHHmx6kDGc',\n",
              " 'B3vmjSa98lw',\n",
              " 'qiZJimVUn5U',\n",
              " 'oT-34Q9eb5k',\n",
              " 'rRnW7ot9z4E',\n",
              " 'INiAM1u925E',\n",
              " 'uWbl3Sr2y1Y',\n",
              " 'uFxXw0eSSC0',\n",
              " 'JDHHaMtmSS0',\n",
              " 'NcXzpCqKdUA',\n",
              " '9sfm9aqxygs',\n",
              " '0KkkPZIDvj8',\n",
              " 'zDpP28gdjC4',\n",
              " '3b-zAjQYkEA',\n",
              " 'cVAPjUHW9xk',\n",
              " 'ojiO7tAJDSM',\n",
              " 'rb7d4u5JpBw',\n",
              " 'zIfxBh0RF30',\n",
              " '0SxlESaak_Q',\n",
              " '0eUedeTH_aI',\n",
              " '-Ud2cqoB7gE',\n",
              " '2VuuVULLiuY',\n",
              " 'kWge-2jT9ZQ',\n",
              " 'IfhHmLX-MXI',\n",
              " 'VE3EzONW6Mo',\n",
              " '-v7nhyjCx5Q',\n",
              " 'P6QWoOQMvE8',\n",
              " 'ntwZfErKJEg',\n",
              " '8Dw2UyqIaik',\n",
              " 'sqevRnFcEE0',\n",
              " 'lwH8AwkusRQ',\n",
              " 'wBhVxS_RgrU',\n",
              " 'WXH_Z8ukptE',\n",
              " 'ddp-G9fj8Kc',\n",
              " '73MaIX994LU',\n",
              " '2AI8YPammTo',\n",
              " 'z3sHh4iWMtw',\n",
              " 'Tg2K0pmNXsA',\n",
              " '3oTFE6FAIrw',\n",
              " 'neLwcOqrucc',\n",
              " 'L5TF6YjEZT8',\n",
              " 'ppoWmd4LXVs']"
            ]
          },
          "metadata": {},
          "execution_count": 34
        }
      ]
    },
    {
      "cell_type": "code",
      "source": [
        "# Let's get info about the videos from the 'videos' API\n",
        "# Start with one video and then expand code to all the videos --- one video instance not shown here\n",
        "\n",
        "request = youtube.videos().list(\n",
        "\n",
        "    part = 'contentDetails, snippet, statistics, topicDetails',\n",
        "    maxResults = 50,\n",
        "    id = ','.join(video_id_list[0:50])\n",
        "    )\n",
        "\n",
        "response = request.execute()\n",
        "#JSON(response)"
      ],
      "metadata": {
        "collapsed": true,
        "id": "CeueoxaNQhY5"
      },
      "execution_count": 35,
      "outputs": []
    },
    {
      "cell_type": "code",
      "source": [
        "# Function that takes in a list of video IDs, parses the JSON file to get the relevant info, and returns a list\n",
        "\n",
        "def get_video_info(youtube, video_id_list):\n",
        "\n",
        "  '''\n",
        "  Takes in the youtube instance and list of video IDs\n",
        "  Returns a list of dictionaries that contain the info about the videos\n",
        "  '''\n",
        "\n",
        "  video_info = []\n",
        "\n",
        "  for i in range(0, len(video_id_list), 50):\n",
        "\n",
        "    # for loop to go through all the video IDs at steps of 50\n",
        "    # 50 because that is the max number of videos that will be listed in the API page\n",
        "\n",
        "    request = youtube.videos().list(\n",
        "\n",
        "        part = 'contentDetails, snippet, statistics, topicDetails',\n",
        "        maxResults = 50,\n",
        "        id = ','.join(video_id_list[i:i+50])\n",
        "        )\n",
        "\n",
        "    response = request.execute()\n",
        "    #JSON(response)\n",
        "\n",
        "\n",
        "    for dict in response['items']:\n",
        "      video_id = dict.get('id', 'NA')\n",
        "      title = dict['snippet'].get('title', 'NA')\n",
        "      publishedAt = dict['snippet'].get('publishedAt', 'NA')\n",
        "\n",
        "      catgoryId = dict['snippet'].get('categoryId', 'NA')\n",
        "\n",
        "      duration = dict['contentDetails'].get('duration', 'NA')\n",
        "      caption = dict['contentDetails'].get('caption', 'NA')\n",
        "\n",
        "      viewCount = dict['statistics'].get('viewCount', 'NA')\n",
        "      likeCount = dict['statistics'].get('likeCount', 'NA')\n",
        "      favoriteCount = dict['statistics'].get('favoriteCount', 'NA')\n",
        "      commentCount = dict['statistics'].get('commentCount', 'NA')\n",
        "\n",
        "      # convert to dictionary\n",
        "\n",
        "      data = {\n",
        "        'video_id': video_id,\n",
        "        'title': title,\n",
        "        'publishedAt': publishedAt,\n",
        "        'catgoryId': catgoryId,\n",
        "        'duration': duration,\n",
        "        'caption': caption,\n",
        "\n",
        "        'viewCount': viewCount,\n",
        "        'likeCount': likeCount,\n",
        "        'favoriteCount': favoriteCount,\n",
        "        'commentCount': commentCount\n",
        "      }\n",
        "\n",
        "      video_info.append(data)\n",
        "\n",
        "  return video_info\n",
        "\n",
        "\n"
      ],
      "metadata": {
        "collapsed": true,
        "id": "6lN27lIsRJb5"
      },
      "execution_count": 36,
      "outputs": []
    },
    {
      "cell_type": "code",
      "source": [
        "# call the function, get the list of all video info, and convert to a data frame\n",
        "\n",
        "video_info = get_video_info(youtube, video_id_list)\n",
        "video_info_df = pd.DataFrame(video_info)"
      ],
      "metadata": {
        "collapsed": true,
        "id": "crt4fyYLdHF4"
      },
      "execution_count": 39,
      "outputs": []
    },
    {
      "cell_type": "code",
      "source": [
        "video_info_df"
      ],
      "metadata": {
        "colab": {
          "base_uri": "https://localhost:8080/",
          "height": 597
        },
        "id": "3x2-Mu41V49a",
        "outputId": "b75f05ef-2bca-458c-9643-771cb674669c"
      },
      "execution_count": 41,
      "outputs": [
        {
          "output_type": "execute_result",
          "data": {
            "text/plain": [
              "        video_id                                              title  \\\n",
              "0    z3zs76WmYdk                 Kenji's Cooking Show | Keema Matar   \n",
              "1    2Sz40WqBg8E  For the Best Roast Chicken, Slather Your Spatc...   \n",
              "2    6hVb1ViS66I  Freedom Mortadella (AKA Bologna) Sandwiched wi...   \n",
              "3    UE_1KhwCwT0  Chorizo and Corn Fried Rice | Kenji’s Cooking ...   \n",
              "4    vG-NsFXNYUw  Taste Test: Are Pre-Chopped Garlics Any Good? ...   \n",
              "..           ...                                                ...   \n",
              "772  Tg2K0pmNXsA          First Person Garlic Parmesan French Toast   \n",
              "773  3oTFE6FAIrw                       First Person French Omelette   \n",
              "774  neLwcOqrucc                           Taco Bell Breakfast Wrap   \n",
              "775  L5TF6YjEZT8                    Late Night Spicy Sesame Noodles   \n",
              "776  ppoWmd4LXVs        First Person Cooking: Ultra-Smashed Burgers   \n",
              "\n",
              "              publishedAt catgoryId  duration caption viewCount likeCount  \\\n",
              "0    2020-05-11T08:30:41Z        26   PT32M1S   false    606579      7774   \n",
              "1    2025-05-16T18:12:49Z        26  PT19M51S   false     46425      2082   \n",
              "2    2025-05-09T17:17:16Z        26  PT10M17S   false     79586      2105   \n",
              "3    2025-04-25T15:00:57Z        26   PT12M8S   false     85520      2730   \n",
              "4    2025-04-23T15:01:40Z        26   PT15M5S   false    138852      3639   \n",
              "..                    ...       ...       ...     ...       ...       ...   \n",
              "772  2016-09-19T08:31:03Z        26    PT1M1S   false    209058      3005   \n",
              "773  2016-09-15T08:07:05Z        26    PT2M9S   false   3004504     38798   \n",
              "774  2016-09-07T16:35:16Z        26     PT54S   false    289352      5117   \n",
              "775  2016-08-10T09:16:40Z        26   PT2M25S   false   1176634     18013   \n",
              "776  2016-04-14T16:31:37Z        26    PT2M8S   false    822114     10383   \n",
              "\n",
              "    favoriteCount commentCount  \n",
              "0               0          659  \n",
              "1               0          227  \n",
              "2               0          128  \n",
              "3               0          138  \n",
              "4               0          298  \n",
              "..            ...          ...  \n",
              "772             0           68  \n",
              "773             0         1596  \n",
              "774             0           73  \n",
              "775             0          643  \n",
              "776             0          583  \n",
              "\n",
              "[777 rows x 10 columns]"
            ],
            "text/html": [
              "\n",
              "  <div id=\"df-1f80d503-753b-4353-89b8-eaa858d57149\" class=\"colab-df-container\">\n",
              "    <div>\n",
              "<style scoped>\n",
              "    .dataframe tbody tr th:only-of-type {\n",
              "        vertical-align: middle;\n",
              "    }\n",
              "\n",
              "    .dataframe tbody tr th {\n",
              "        vertical-align: top;\n",
              "    }\n",
              "\n",
              "    .dataframe thead th {\n",
              "        text-align: right;\n",
              "    }\n",
              "</style>\n",
              "<table border=\"1\" class=\"dataframe\">\n",
              "  <thead>\n",
              "    <tr style=\"text-align: right;\">\n",
              "      <th></th>\n",
              "      <th>video_id</th>\n",
              "      <th>title</th>\n",
              "      <th>publishedAt</th>\n",
              "      <th>catgoryId</th>\n",
              "      <th>duration</th>\n",
              "      <th>caption</th>\n",
              "      <th>viewCount</th>\n",
              "      <th>likeCount</th>\n",
              "      <th>favoriteCount</th>\n",
              "      <th>commentCount</th>\n",
              "    </tr>\n",
              "  </thead>\n",
              "  <tbody>\n",
              "    <tr>\n",
              "      <th>0</th>\n",
              "      <td>z3zs76WmYdk</td>\n",
              "      <td>Kenji's Cooking Show | Keema Matar</td>\n",
              "      <td>2020-05-11T08:30:41Z</td>\n",
              "      <td>26</td>\n",
              "      <td>PT32M1S</td>\n",
              "      <td>false</td>\n",
              "      <td>606579</td>\n",
              "      <td>7774</td>\n",
              "      <td>0</td>\n",
              "      <td>659</td>\n",
              "    </tr>\n",
              "    <tr>\n",
              "      <th>1</th>\n",
              "      <td>2Sz40WqBg8E</td>\n",
              "      <td>For the Best Roast Chicken, Slather Your Spatc...</td>\n",
              "      <td>2025-05-16T18:12:49Z</td>\n",
              "      <td>26</td>\n",
              "      <td>PT19M51S</td>\n",
              "      <td>false</td>\n",
              "      <td>46425</td>\n",
              "      <td>2082</td>\n",
              "      <td>0</td>\n",
              "      <td>227</td>\n",
              "    </tr>\n",
              "    <tr>\n",
              "      <th>2</th>\n",
              "      <td>6hVb1ViS66I</td>\n",
              "      <td>Freedom Mortadella (AKA Bologna) Sandwiched wi...</td>\n",
              "      <td>2025-05-09T17:17:16Z</td>\n",
              "      <td>26</td>\n",
              "      <td>PT10M17S</td>\n",
              "      <td>false</td>\n",
              "      <td>79586</td>\n",
              "      <td>2105</td>\n",
              "      <td>0</td>\n",
              "      <td>128</td>\n",
              "    </tr>\n",
              "    <tr>\n",
              "      <th>3</th>\n",
              "      <td>UE_1KhwCwT0</td>\n",
              "      <td>Chorizo and Corn Fried Rice | Kenji’s Cooking ...</td>\n",
              "      <td>2025-04-25T15:00:57Z</td>\n",
              "      <td>26</td>\n",
              "      <td>PT12M8S</td>\n",
              "      <td>false</td>\n",
              "      <td>85520</td>\n",
              "      <td>2730</td>\n",
              "      <td>0</td>\n",
              "      <td>138</td>\n",
              "    </tr>\n",
              "    <tr>\n",
              "      <th>4</th>\n",
              "      <td>vG-NsFXNYUw</td>\n",
              "      <td>Taste Test: Are Pre-Chopped Garlics Any Good? ...</td>\n",
              "      <td>2025-04-23T15:01:40Z</td>\n",
              "      <td>26</td>\n",
              "      <td>PT15M5S</td>\n",
              "      <td>false</td>\n",
              "      <td>138852</td>\n",
              "      <td>3639</td>\n",
              "      <td>0</td>\n",
              "      <td>298</td>\n",
              "    </tr>\n",
              "    <tr>\n",
              "      <th>...</th>\n",
              "      <td>...</td>\n",
              "      <td>...</td>\n",
              "      <td>...</td>\n",
              "      <td>...</td>\n",
              "      <td>...</td>\n",
              "      <td>...</td>\n",
              "      <td>...</td>\n",
              "      <td>...</td>\n",
              "      <td>...</td>\n",
              "      <td>...</td>\n",
              "    </tr>\n",
              "    <tr>\n",
              "      <th>772</th>\n",
              "      <td>Tg2K0pmNXsA</td>\n",
              "      <td>First Person Garlic Parmesan French Toast</td>\n",
              "      <td>2016-09-19T08:31:03Z</td>\n",
              "      <td>26</td>\n",
              "      <td>PT1M1S</td>\n",
              "      <td>false</td>\n",
              "      <td>209058</td>\n",
              "      <td>3005</td>\n",
              "      <td>0</td>\n",
              "      <td>68</td>\n",
              "    </tr>\n",
              "    <tr>\n",
              "      <th>773</th>\n",
              "      <td>3oTFE6FAIrw</td>\n",
              "      <td>First Person French Omelette</td>\n",
              "      <td>2016-09-15T08:07:05Z</td>\n",
              "      <td>26</td>\n",
              "      <td>PT2M9S</td>\n",
              "      <td>false</td>\n",
              "      <td>3004504</td>\n",
              "      <td>38798</td>\n",
              "      <td>0</td>\n",
              "      <td>1596</td>\n",
              "    </tr>\n",
              "    <tr>\n",
              "      <th>774</th>\n",
              "      <td>neLwcOqrucc</td>\n",
              "      <td>Taco Bell Breakfast Wrap</td>\n",
              "      <td>2016-09-07T16:35:16Z</td>\n",
              "      <td>26</td>\n",
              "      <td>PT54S</td>\n",
              "      <td>false</td>\n",
              "      <td>289352</td>\n",
              "      <td>5117</td>\n",
              "      <td>0</td>\n",
              "      <td>73</td>\n",
              "    </tr>\n",
              "    <tr>\n",
              "      <th>775</th>\n",
              "      <td>L5TF6YjEZT8</td>\n",
              "      <td>Late Night Spicy Sesame Noodles</td>\n",
              "      <td>2016-08-10T09:16:40Z</td>\n",
              "      <td>26</td>\n",
              "      <td>PT2M25S</td>\n",
              "      <td>false</td>\n",
              "      <td>1176634</td>\n",
              "      <td>18013</td>\n",
              "      <td>0</td>\n",
              "      <td>643</td>\n",
              "    </tr>\n",
              "    <tr>\n",
              "      <th>776</th>\n",
              "      <td>ppoWmd4LXVs</td>\n",
              "      <td>First Person Cooking: Ultra-Smashed Burgers</td>\n",
              "      <td>2016-04-14T16:31:37Z</td>\n",
              "      <td>26</td>\n",
              "      <td>PT2M8S</td>\n",
              "      <td>false</td>\n",
              "      <td>822114</td>\n",
              "      <td>10383</td>\n",
              "      <td>0</td>\n",
              "      <td>583</td>\n",
              "    </tr>\n",
              "  </tbody>\n",
              "</table>\n",
              "<p>777 rows × 10 columns</p>\n",
              "</div>\n",
              "    <div class=\"colab-df-buttons\">\n",
              "\n",
              "  <div class=\"colab-df-container\">\n",
              "    <button class=\"colab-df-convert\" onclick=\"convertToInteractive('df-1f80d503-753b-4353-89b8-eaa858d57149')\"\n",
              "            title=\"Convert this dataframe to an interactive table.\"\n",
              "            style=\"display:none;\">\n",
              "\n",
              "  <svg xmlns=\"http://www.w3.org/2000/svg\" height=\"24px\" viewBox=\"0 -960 960 960\">\n",
              "    <path d=\"M120-120v-720h720v720H120Zm60-500h600v-160H180v160Zm220 220h160v-160H400v160Zm0 220h160v-160H400v160ZM180-400h160v-160H180v160Zm440 0h160v-160H620v160ZM180-180h160v-160H180v160Zm440 0h160v-160H620v160Z\"/>\n",
              "  </svg>\n",
              "    </button>\n",
              "\n",
              "  <style>\n",
              "    .colab-df-container {\n",
              "      display:flex;\n",
              "      gap: 12px;\n",
              "    }\n",
              "\n",
              "    .colab-df-convert {\n",
              "      background-color: #E8F0FE;\n",
              "      border: none;\n",
              "      border-radius: 50%;\n",
              "      cursor: pointer;\n",
              "      display: none;\n",
              "      fill: #1967D2;\n",
              "      height: 32px;\n",
              "      padding: 0 0 0 0;\n",
              "      width: 32px;\n",
              "    }\n",
              "\n",
              "    .colab-df-convert:hover {\n",
              "      background-color: #E2EBFA;\n",
              "      box-shadow: 0px 1px 2px rgba(60, 64, 67, 0.3), 0px 1px 3px 1px rgba(60, 64, 67, 0.15);\n",
              "      fill: #174EA6;\n",
              "    }\n",
              "\n",
              "    .colab-df-buttons div {\n",
              "      margin-bottom: 4px;\n",
              "    }\n",
              "\n",
              "    [theme=dark] .colab-df-convert {\n",
              "      background-color: #3B4455;\n",
              "      fill: #D2E3FC;\n",
              "    }\n",
              "\n",
              "    [theme=dark] .colab-df-convert:hover {\n",
              "      background-color: #434B5C;\n",
              "      box-shadow: 0px 1px 3px 1px rgba(0, 0, 0, 0.15);\n",
              "      filter: drop-shadow(0px 1px 2px rgba(0, 0, 0, 0.3));\n",
              "      fill: #FFFFFF;\n",
              "    }\n",
              "  </style>\n",
              "\n",
              "    <script>\n",
              "      const buttonEl =\n",
              "        document.querySelector('#df-1f80d503-753b-4353-89b8-eaa858d57149 button.colab-df-convert');\n",
              "      buttonEl.style.display =\n",
              "        google.colab.kernel.accessAllowed ? 'block' : 'none';\n",
              "\n",
              "      async function convertToInteractive(key) {\n",
              "        const element = document.querySelector('#df-1f80d503-753b-4353-89b8-eaa858d57149');\n",
              "        const dataTable =\n",
              "          await google.colab.kernel.invokeFunction('convertToInteractive',\n",
              "                                                    [key], {});\n",
              "        if (!dataTable) return;\n",
              "\n",
              "        const docLinkHtml = 'Like what you see? Visit the ' +\n",
              "          '<a target=\"_blank\" href=https://colab.research.google.com/notebooks/data_table.ipynb>data table notebook</a>'\n",
              "          + ' to learn more about interactive tables.';\n",
              "        element.innerHTML = '';\n",
              "        dataTable['output_type'] = 'display_data';\n",
              "        await google.colab.output.renderOutput(dataTable, element);\n",
              "        const docLink = document.createElement('div');\n",
              "        docLink.innerHTML = docLinkHtml;\n",
              "        element.appendChild(docLink);\n",
              "      }\n",
              "    </script>\n",
              "  </div>\n",
              "\n",
              "\n",
              "    <div id=\"df-13319c81-5e47-4d29-ace0-efa0a88d3861\">\n",
              "      <button class=\"colab-df-quickchart\" onclick=\"quickchart('df-13319c81-5e47-4d29-ace0-efa0a88d3861')\"\n",
              "                title=\"Suggest charts\"\n",
              "                style=\"display:none;\">\n",
              "\n",
              "<svg xmlns=\"http://www.w3.org/2000/svg\" height=\"24px\"viewBox=\"0 0 24 24\"\n",
              "     width=\"24px\">\n",
              "    <g>\n",
              "        <path d=\"M19 3H5c-1.1 0-2 .9-2 2v14c0 1.1.9 2 2 2h14c1.1 0 2-.9 2-2V5c0-1.1-.9-2-2-2zM9 17H7v-7h2v7zm4 0h-2V7h2v10zm4 0h-2v-4h2v4z\"/>\n",
              "    </g>\n",
              "</svg>\n",
              "      </button>\n",
              "\n",
              "<style>\n",
              "  .colab-df-quickchart {\n",
              "      --bg-color: #E8F0FE;\n",
              "      --fill-color: #1967D2;\n",
              "      --hover-bg-color: #E2EBFA;\n",
              "      --hover-fill-color: #174EA6;\n",
              "      --disabled-fill-color: #AAA;\n",
              "      --disabled-bg-color: #DDD;\n",
              "  }\n",
              "\n",
              "  [theme=dark] .colab-df-quickchart {\n",
              "      --bg-color: #3B4455;\n",
              "      --fill-color: #D2E3FC;\n",
              "      --hover-bg-color: #434B5C;\n",
              "      --hover-fill-color: #FFFFFF;\n",
              "      --disabled-bg-color: #3B4455;\n",
              "      --disabled-fill-color: #666;\n",
              "  }\n",
              "\n",
              "  .colab-df-quickchart {\n",
              "    background-color: var(--bg-color);\n",
              "    border: none;\n",
              "    border-radius: 50%;\n",
              "    cursor: pointer;\n",
              "    display: none;\n",
              "    fill: var(--fill-color);\n",
              "    height: 32px;\n",
              "    padding: 0;\n",
              "    width: 32px;\n",
              "  }\n",
              "\n",
              "  .colab-df-quickchart:hover {\n",
              "    background-color: var(--hover-bg-color);\n",
              "    box-shadow: 0 1px 2px rgba(60, 64, 67, 0.3), 0 1px 3px 1px rgba(60, 64, 67, 0.15);\n",
              "    fill: var(--button-hover-fill-color);\n",
              "  }\n",
              "\n",
              "  .colab-df-quickchart-complete:disabled,\n",
              "  .colab-df-quickchart-complete:disabled:hover {\n",
              "    background-color: var(--disabled-bg-color);\n",
              "    fill: var(--disabled-fill-color);\n",
              "    box-shadow: none;\n",
              "  }\n",
              "\n",
              "  .colab-df-spinner {\n",
              "    border: 2px solid var(--fill-color);\n",
              "    border-color: transparent;\n",
              "    border-bottom-color: var(--fill-color);\n",
              "    animation:\n",
              "      spin 1s steps(1) infinite;\n",
              "  }\n",
              "\n",
              "  @keyframes spin {\n",
              "    0% {\n",
              "      border-color: transparent;\n",
              "      border-bottom-color: var(--fill-color);\n",
              "      border-left-color: var(--fill-color);\n",
              "    }\n",
              "    20% {\n",
              "      border-color: transparent;\n",
              "      border-left-color: var(--fill-color);\n",
              "      border-top-color: var(--fill-color);\n",
              "    }\n",
              "    30% {\n",
              "      border-color: transparent;\n",
              "      border-left-color: var(--fill-color);\n",
              "      border-top-color: var(--fill-color);\n",
              "      border-right-color: var(--fill-color);\n",
              "    }\n",
              "    40% {\n",
              "      border-color: transparent;\n",
              "      border-right-color: var(--fill-color);\n",
              "      border-top-color: var(--fill-color);\n",
              "    }\n",
              "    60% {\n",
              "      border-color: transparent;\n",
              "      border-right-color: var(--fill-color);\n",
              "    }\n",
              "    80% {\n",
              "      border-color: transparent;\n",
              "      border-right-color: var(--fill-color);\n",
              "      border-bottom-color: var(--fill-color);\n",
              "    }\n",
              "    90% {\n",
              "      border-color: transparent;\n",
              "      border-bottom-color: var(--fill-color);\n",
              "    }\n",
              "  }\n",
              "</style>\n",
              "\n",
              "      <script>\n",
              "        async function quickchart(key) {\n",
              "          const quickchartButtonEl =\n",
              "            document.querySelector('#' + key + ' button');\n",
              "          quickchartButtonEl.disabled = true;  // To prevent multiple clicks.\n",
              "          quickchartButtonEl.classList.add('colab-df-spinner');\n",
              "          try {\n",
              "            const charts = await google.colab.kernel.invokeFunction(\n",
              "                'suggestCharts', [key], {});\n",
              "          } catch (error) {\n",
              "            console.error('Error during call to suggestCharts:', error);\n",
              "          }\n",
              "          quickchartButtonEl.classList.remove('colab-df-spinner');\n",
              "          quickchartButtonEl.classList.add('colab-df-quickchart-complete');\n",
              "        }\n",
              "        (() => {\n",
              "          let quickchartButtonEl =\n",
              "            document.querySelector('#df-13319c81-5e47-4d29-ace0-efa0a88d3861 button');\n",
              "          quickchartButtonEl.style.display =\n",
              "            google.colab.kernel.accessAllowed ? 'block' : 'none';\n",
              "        })();\n",
              "      </script>\n",
              "    </div>\n",
              "\n",
              "  <div id=\"id_9bac7672-8e0c-4176-999e-d90adc7bca1d\">\n",
              "    <style>\n",
              "      .colab-df-generate {\n",
              "        background-color: #E8F0FE;\n",
              "        border: none;\n",
              "        border-radius: 50%;\n",
              "        cursor: pointer;\n",
              "        display: none;\n",
              "        fill: #1967D2;\n",
              "        height: 32px;\n",
              "        padding: 0 0 0 0;\n",
              "        width: 32px;\n",
              "      }\n",
              "\n",
              "      .colab-df-generate:hover {\n",
              "        background-color: #E2EBFA;\n",
              "        box-shadow: 0px 1px 2px rgba(60, 64, 67, 0.3), 0px 1px 3px 1px rgba(60, 64, 67, 0.15);\n",
              "        fill: #174EA6;\n",
              "      }\n",
              "\n",
              "      [theme=dark] .colab-df-generate {\n",
              "        background-color: #3B4455;\n",
              "        fill: #D2E3FC;\n",
              "      }\n",
              "\n",
              "      [theme=dark] .colab-df-generate:hover {\n",
              "        background-color: #434B5C;\n",
              "        box-shadow: 0px 1px 3px 1px rgba(0, 0, 0, 0.15);\n",
              "        filter: drop-shadow(0px 1px 2px rgba(0, 0, 0, 0.3));\n",
              "        fill: #FFFFFF;\n",
              "      }\n",
              "    </style>\n",
              "    <button class=\"colab-df-generate\" onclick=\"generateWithVariable('video_info_df')\"\n",
              "            title=\"Generate code using this dataframe.\"\n",
              "            style=\"display:none;\">\n",
              "\n",
              "  <svg xmlns=\"http://www.w3.org/2000/svg\" height=\"24px\"viewBox=\"0 0 24 24\"\n",
              "       width=\"24px\">\n",
              "    <path d=\"M7,19H8.4L18.45,9,17,7.55,7,17.6ZM5,21V16.75L18.45,3.32a2,2,0,0,1,2.83,0l1.4,1.43a1.91,1.91,0,0,1,.58,1.4,1.91,1.91,0,0,1-.58,1.4L9.25,21ZM18.45,9,17,7.55Zm-12,3A5.31,5.31,0,0,0,4.9,8.1,5.31,5.31,0,0,0,1,6.5,5.31,5.31,0,0,0,4.9,4.9,5.31,5.31,0,0,0,6.5,1,5.31,5.31,0,0,0,8.1,4.9,5.31,5.31,0,0,0,12,6.5,5.46,5.46,0,0,0,6.5,12Z\"/>\n",
              "  </svg>\n",
              "    </button>\n",
              "    <script>\n",
              "      (() => {\n",
              "      const buttonEl =\n",
              "        document.querySelector('#id_9bac7672-8e0c-4176-999e-d90adc7bca1d button.colab-df-generate');\n",
              "      buttonEl.style.display =\n",
              "        google.colab.kernel.accessAllowed ? 'block' : 'none';\n",
              "\n",
              "      buttonEl.onclick = () => {\n",
              "        google.colab.notebook.generateWithVariable('video_info_df');\n",
              "      }\n",
              "      })();\n",
              "    </script>\n",
              "  </div>\n",
              "\n",
              "    </div>\n",
              "  </div>\n"
            ],
            "application/vnd.google.colaboratory.intrinsic+json": {
              "type": "dataframe",
              "variable_name": "video_info_df",
              "summary": "{\n  \"name\": \"video_info_df\",\n  \"rows\": 777,\n  \"fields\": [\n    {\n      \"column\": \"video_id\",\n      \"properties\": {\n        \"dtype\": \"string\",\n        \"num_unique_values\": 529,\n        \"samples\": [\n          \"gLAnEdRqczg\",\n          \"yUcZqyGrWYw\",\n          \"gzsihrkXz2w\"\n        ],\n        \"semantic_type\": \"\",\n        \"description\": \"\"\n      }\n    },\n    {\n      \"column\": \"title\",\n      \"properties\": {\n        \"dtype\": \"string\",\n        \"num_unique_values\": 528,\n        \"samples\": [\n          \"Full cook in a Roccbox\",\n          \"Texas Chile Con Carne (No Beans, Chunky Beef) | Kenji's Cooking Show\",\n          \"This French Toast Eats Like Cr\\u00e8me Br\\u00fbl\\u00e9e\"\n        ],\n        \"semantic_type\": \"\",\n        \"description\": \"\"\n      }\n    },\n    {\n      \"column\": \"publishedAt\",\n      \"properties\": {\n        \"dtype\": \"object\",\n        \"num_unique_values\": 527,\n        \"samples\": [\n          \"2016-09-14T20:59:39Z\",\n          \"2023-02-07T00:48:15Z\",\n          \"2025-04-16T14:01:10Z\"\n        ],\n        \"semantic_type\": \"\",\n        \"description\": \"\"\n      }\n    },\n    {\n      \"column\": \"catgoryId\",\n      \"properties\": {\n        \"dtype\": \"category\",\n        \"num_unique_values\": 5,\n        \"samples\": [\n          \"20\",\n          \"24\",\n          \"22\"\n        ],\n        \"semantic_type\": \"\",\n        \"description\": \"\"\n      }\n    },\n    {\n      \"column\": \"duration\",\n      \"properties\": {\n        \"dtype\": \"string\",\n        \"num_unique_values\": 429,\n        \"samples\": [\n          \"PT19M38S\",\n          \"PT52M15S\",\n          \"PT3M16S\"\n        ],\n        \"semantic_type\": \"\",\n        \"description\": \"\"\n      }\n    },\n    {\n      \"column\": \"caption\",\n      \"properties\": {\n        \"dtype\": \"category\",\n        \"num_unique_values\": 2,\n        \"samples\": [\n          \"true\",\n          \"false\"\n        ],\n        \"semantic_type\": \"\",\n        \"description\": \"\"\n      }\n    },\n    {\n      \"column\": \"viewCount\",\n      \"properties\": {\n        \"dtype\": \"string\",\n        \"num_unique_values\": 559,\n        \"samples\": [\n          \"39914\",\n          \"354479\"\n        ],\n        \"semantic_type\": \"\",\n        \"description\": \"\"\n      }\n    },\n    {\n      \"column\": \"likeCount\",\n      \"properties\": {\n        \"dtype\": \"string\",\n        \"num_unique_values\": 521,\n        \"samples\": [\n          \"8172\",\n          \"5395\"\n        ],\n        \"semantic_type\": \"\",\n        \"description\": \"\"\n      }\n    },\n    {\n      \"column\": \"favoriteCount\",\n      \"properties\": {\n        \"dtype\": \"category\",\n        \"num_unique_values\": 1,\n        \"samples\": [\n          \"0\"\n        ],\n        \"semantic_type\": \"\",\n        \"description\": \"\"\n      }\n    },\n    {\n      \"column\": \"commentCount\",\n      \"properties\": {\n        \"dtype\": \"string\",\n        \"num_unique_values\": 402,\n        \"samples\": [\n          \"33\"\n        ],\n        \"semantic_type\": \"\",\n        \"description\": \"\"\n      }\n    }\n  ]\n}"
            }
          },
          "metadata": {},
          "execution_count": 41
        }
      ]
    },
    {
      "cell_type": "code",
      "source": [],
      "metadata": {
        "id": "zswAltxKMy0K"
      },
      "execution_count": null,
      "outputs": []
    }
  ]
}